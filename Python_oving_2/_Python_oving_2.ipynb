{
 "cells": [
  {
   "cell_type": "markdown",
   "metadata": {
    "deletable": false,
    "editable": false,
    "nbgrader": {
     "cell_type": "markdown",
     "checksum": "a4197f981dd4966e2fecbbb10a1610bc",
     "grade": false,
     "grade_id": "cell-835680b04426288f",
     "locked": true,
     "schema_version": 3,
     "solution": false,
     "task": false
    }
   },
   "source": [
    "# Øving 2\n",
    "\n",
    "**Læringsmål:**\n",
    "\n",
    "- If-setninger, hvorfor og hvordan\n",
    "- Betingelser, Logiske uttrykk\n",
    "\n",
    "**Fundamentals of Python Programming:**\n",
    "\n",
    "- Kap 4 - Conditional Execution\n",
    " \n",
    "\n",
    "## Godkjenning:\n",
    "\n",
    "Oppgavene er delt inn i to kategorier; Tutorial og Poenggivende Oppgaver. Tutorial-oppgavene er valgfrie, men er anbefalt å gå gjennom hvis du ikke allerede føler du har god kontroll på temaet i oppgaven. \n",
    "\n",
    "De poenggivende oppgavene kan til sammen gi 10 poeng. For at øvingsarbeidet i Python-modulen skal være godkjent må minst du oppnå minst __50%__ av tilgjengelig poengsum samlet for de 4 første øvingsoppgavene. I tillegg __må__ øving 5 være godkjent. \n",
    "\n",
    "Oppgave | Tema | Kommentar\n",
    "--- | --- | ---\n",
    "[Ulike typer if-setninger](Ulike%20typer%20if-setninger.ipynb) | Valg, forgreninger | Tutorial\n",
    "[Sammenligning av strenger](Sammenligning%20av%20strenger.ipynb)|Betingelser, Strengoperasjoner| Tutorial\n",
    "[Logiske operatorer og logiske uttrykk](Logiske%20operatorer%20og%20logiske%20uttrykk.ipynb)|Betingelser, logiske uttrykk| Tutorial\n",
    "[Forbrytelse og straff](Forbrytelse%20og%20straff.ipynb)|Kodeforståelse, feilretting| Tutorial\n",
    "[Billettpriser og rabatter](Billettpriser%20og%20rabatter.ipynb)|Betingelser| Poenggivende Oppgaver\n",
    "[Årstider](Arstider.ipynb)| Betingelser | Poenggivende Oppgaver\n",
    "[Sjakkbrett](Sjakkbrett.ipynb)|Betingelser, logiske uttrykk| Poenggivende Oppgaver\n",
    "[Andregradsligning](Andregradsligning.ipynb)|Betingelser, avrundingsfeil| Poenggivende Oppgaver"
   ]
  }
 ],
 "metadata": {
  "kernelspec": {
   "display_name": "Python 3",
   "language": "python",
   "name": "python3"
  },
  "language_info": {
   "codemirror_mode": {
    "name": "ipython",
    "version": 3
   },
   "file_extension": ".py",
   "mimetype": "text/x-python",
   "name": "python",
   "nbconvert_exporter": "python",
   "pygments_lexer": "ipython3",
   "version": "3.8.3"
  }
 },
 "nbformat": 4,
 "nbformat_minor": 4
}
