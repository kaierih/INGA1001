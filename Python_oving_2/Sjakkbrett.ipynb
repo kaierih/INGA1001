{
 "cells": [
  {
   "cell_type": "markdown",
   "metadata": {
    "deletable": false,
    "editable": false,
    "nbgrader": {
     "cell_type": "markdown",
     "checksum": "964b9ffd9dead3cc6fa6e5c1d371bacc",
     "grade": false,
     "grade_id": "cell-60c56e6d7a647f99",
     "locked": true,
     "schema_version": 3,
     "solution": false,
     "task": false
    }
   },
   "source": [
    "<nav class=\"navbar navbar-default\">\n",
    "  <div class=\"container-fluid\">\n",
    "    <div class=\"navbar-header\">\n",
    "      <a class=\"navbar-brand\" href=\"_Python_oving_2.ipynb\">Øving 2</a>\n",
    "    </div>\n",
    "    <ul class=\"nav navbar-nav\">\n",
    "    <li><a href=\"Ulike%20typer%20if-setninger.ipynb\">Ulike typer if-setninger</a></li>\n",
    "    <li><a href=\"Sammenligning%20av%20strenger.ipynb\">Sammenligning av strenger</a></li>\n",
    "    <li><a href=\"Logiske%20operatorer%20og%20logiske%20uttrykk.ipynb\">Logiske operatorer og logiske uttrykk</a></li>\n",
    "    <li><a href=\"Forbrytelse%20og%20straff.ipynb\">Forbrytelse og straff</a></li>\n",
    "    <li><a href=\"Billettpriser%20og%20rabatter.ipynb\">Billettpriser og rabatter</a></li>\n",
    "    <li><a href=\"Arstider.ipynb\">Årstider</a></li>\n",
    "    <li class=\"active\"><a href=\"Sjakkbrett.ipynb\">Sjakkbrett</a></li>\n",
    "    <li><a href=\"Andregradsligning.ipynb\">Andregradsligning</a></li>\n",
    "    </ul>\n",
    "  </div>\n",
    "</nav>\n",
    "\n",
    "\n",
    "# Sjakkbrett\n",
    "\n",
    "**Læringsmål:**\n",
    "\n",
    "* Betingelser\n",
    "* Logiske uttrykk\n",
    "* Nøstede if-setninger\n",
    "\n",
    "*Denne oppgaven kan gi til sammen 2 poeng*\n",
    "\n",
    "\n",
    "Posisjoner på et sjakkbrett kan identifiseres med en bokstav og et tall. Bokstaven identifiserer kolonnen (kalt \"linjen\" i sjakk), og tallet identifiserer raden.\n",
    "\n",
    "\n",
    "![img](Figurer/chessboard.png)\n"
   ]
  },
  {
   "cell_type": "markdown",
   "metadata": {
    "deletable": false,
    "editable": false,
    "nbgrader": {
     "cell_type": "markdown",
     "checksum": "9a650d5c1a2791992020fa61205533fb",
     "grade": false,
     "grade_id": "cell-ac5aab2dca7b793b",
     "locked": true,
     "schema_version": 3,
     "solution": false,
     "task": false
    }
   },
   "source": [
    "## Oppgave:\n",
    "\n",
    "**I denne oppgaven skal du lage et program som tar inn en posisjon som input, og bruker if-setninger til å finne ut hvilken farge ruten for denne posisjonen har.**\n",
    "\n",
    "Ta utgangspunkt i de tre kodelinjene under, som hjelper deg litt på vei. Disse viser hvordan man kan bruke indeksering av en strengvariabel (her kalt `pos`) for å finne enkelttegn.\n",
    "\n",
    "Indeks 0 er det første tegnet i strengen, når `pos = 'a5'` vil dermed `pos[0]` være `'a'` og `pos[1]` være `'5'`.\n",
    "\n",
    "```python\n",
    "pos = 'a5'                      #eksempeldeklarasjon, i oppgaveløsningen skal denne linjen utebli\n",
    "bokstav = pos[0]                #gir variabelen bokstav verdi 'a'\n",
    "tall = int(pos[1])              #gir variabelen tall verdi 5\n",
    "```\n",
    "\n",
    "I din kode må du\n",
    "\n",
    "* legge til mer kode i funksjonen `sjakkPosFarge()` for å ta en beslutning om den oppgitte posisjonen `pos` er hvit eller svart rute.\n",
    "\n",
    "__Hint__: Modulo-operatoren (`%`), og python-nøkkelordet `in`."
   ]
  },
  {
   "cell_type": "code",
   "execution_count": null,
   "metadata": {
    "deletable": false,
    "nbgrader": {
     "cell_type": "code",
     "checksum": "078999d1b5a972455b95b82859d65919",
     "grade": false,
     "grade_id": "cell-9ee086f4ceb890ee",
     "locked": false,
     "schema_version": 3,
     "solution": true,
     "task": false
    }
   },
   "outputs": [],
   "source": [
    "def sjakkPosFarge(pos):\n",
    "    #-------------------------------------\n",
    "    # SKRIV DIN KODE HER:\n",
    "    #-------------------------------------\n",
    "    return farge"
   ]
  },
  {
   "cell_type": "markdown",
   "metadata": {
    "deletable": false,
    "editable": false,
    "nbgrader": {
     "cell_type": "markdown",
     "checksum": "900f814049481ed8a9413ec29c8b507c",
     "grade": false,
     "grade_id": "cell-652e47921899c919",
     "locked": true,
     "schema_version": 3,
     "solution": false,
     "task": false
    }
   },
   "source": [
    "__Test av utregning:__"
   ]
  },
  {
   "cell_type": "code",
   "execution_count": null,
   "metadata": {
    "deletable": false,
    "editable": false,
    "nbgrader": {
     "cell_type": "code",
     "checksum": "63a919b4dcb914b7103f96743dfe371b",
     "grade": true,
     "grade_id": "cell-b7b22d433ff85d6c",
     "locked": true,
     "points": 2,
     "schema_version": 3,
     "solution": false,
     "task": false
    }
   },
   "outputs": [],
   "source": [
    "# Funksjonstest med rute a5\n",
    "pos = 'a5'\n",
    "farge = sjakkPosFarge(pos)\n",
    "print(\"Posisjon\", pos, \"er\", farge)\n",
    "\n",
    "# Funksjonstest med rute d3\n",
    "pos = 'd3'\n",
    "farge = sjakkPosFarge(pos)\n",
    "print(\"Posisjon\", pos, \"er\", farge)\n",
    "\n",
    "# Funksjonstest med rute f6\n",
    "pos = 'f6'\n",
    "farge = sjakkPosFarge(pos)\n",
    "print(\"Posisjon\", pos, \"er\", farge)"
   ]
  },
  {
   "cell_type": "markdown",
   "metadata": {
    "deletable": false,
    "editable": false,
    "nbgrader": {
     "cell_type": "markdown",
     "checksum": "acfa948538b8a01554d5e4d1b4903510",
     "grade": false,
     "grade_id": "cell-ae14151952c04fe3",
     "locked": true,
     "schema_version": 3,
     "solution": false,
     "task": false
    }
   },
   "source": [
    "__Riktig Utskrift:__\n",
    "```python\n",
    "Posisjon a5 er Svart\n",
    "Posisjon d3 er Hvit\n",
    "Posisjon f6 er Svart\n",
    "```"
   ]
  }
 ],
 "metadata": {
  "kernelspec": {
   "display_name": "Python 3",
   "language": "python",
   "name": "python3"
  },
  "language_info": {
   "codemirror_mode": {
    "name": "ipython",
    "version": 3
   },
   "file_extension": ".py",
   "mimetype": "text/x-python",
   "name": "python",
   "nbconvert_exporter": "python",
   "pygments_lexer": "ipython3",
   "version": "3.8.3"
  }
 },
 "nbformat": 4,
 "nbformat_minor": 4
}
