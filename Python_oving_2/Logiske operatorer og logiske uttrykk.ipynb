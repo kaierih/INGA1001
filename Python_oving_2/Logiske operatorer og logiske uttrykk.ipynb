{
 "cells": [
  {
   "cell_type": "markdown",
   "metadata": {
    "deletable": false,
    "editable": false,
    "nbgrader": {
     "cell_type": "markdown",
     "checksum": "6a8545ffa6882283c3a963002afcaa10",
     "grade": false,
     "grade_id": "cell-32dffb9cfaad01fb",
     "locked": true,
     "schema_version": 3,
     "solution": false,
     "task": false
    }
   },
   "source": [
    "<nav class=\"navbar navbar-default\">\n",
    "  <div class=\"container-fluid\">\n",
    "    <div class=\"navbar-header\">\n",
    "      <a class=\"navbar-brand\" href=\"_Python_oving_2.ipynb\">Øving 2</a>\n",
    "    </div>\n",
    "    <ul class=\"nav navbar-nav\">\n",
    "    <li><a href=\"Ulike%20typer%20if-setninger.ipynb\">Ulike typer if-setninger</a></li>\n",
    "    <li><a href=\"Sammenligning%20av%20strenger.ipynb\">Sammenligning av strenger</a></li>\n",
    "    <li class=\"active\"><a href=\"Logiske%20operatorer%20og%20logiske%20uttrykk.ipynb\">Logiske operatorer og logiske uttrykk</a></li>\n",
    "    <li><a href=\"Forbrytelse%20og%20straff.ipynb\">Forbrytelse og straff</a></li>\n",
    "    <li><a href=\"Billettpriser%20og%20rabatter.ipynb\">Billettpriser og rabatter</a></li>\n",
    "    <li><a href=\"Arstider.ipynb\">Årstider</a></li>\n",
    "    <li><a href=\"Sjakkbrett.ipynb\">Sjakkbrett</a></li>\n",
    "    <li><a href=\"Andregradsligning.ipynb\">Andregradsligning</a></li>\n",
    "    </ul>\n",
    "  </div>\n",
    "</nav>\n",
    "\n",
    "# Logiske operatorer og logiske uttrykk\n",
    "\n",
    "**Læringsmål:**\n",
    "- Logiske uttrykk\n",
    "- Betingelser\n",
    "- Kodeforståelse\n",
    "\n",
    "I denne oppgaven skal vi lære om logiske uttrykk og hvordan de kan settes sammen med `and`, `or` og `not`."
   ]
  },
  {
   "cell_type": "markdown",
   "metadata": {
    "deletable": false,
    "editable": false,
    "nbgrader": {
     "cell_type": "markdown",
     "checksum": "6c5947f6d88834224462c3ef014c52e9",
     "grade": false,
     "grade_id": "cell-ec3e6426406665a2",
     "locked": true,
     "schema_version": 3,
     "solution": false,
     "task": false
    }
   },
   "source": [
    "## Generelt om logiske operatorer og logiske uttrykk\n",
    "\n",
    "I de tidligere oppgavene i denne øvingen var alle betingelsene enkle betingelser hvor vi typisk sammenlignet to verdier. De vanlige operatorene vi har for å sammenligne verdier er:\n",
    "\n",
    "- `==` (som betyr \"er lik\", merk at her er to likhetstegn nødvendig for å skille fra tilordningsoperatoren)\n",
    "- `!=` (som betyr \"ulik\", altså det motsatte av ==)\n",
    "- `>` , `<` , `>=` , `<=` (som betyr henholdsvis større, mindre, større eller lik, og mindre eller lik)\n",
    "\n",
    "Ofte kan beslutninger være avhengig av verdien til **flere** variable, eller for den del flere betingelser for samme variabel.\n",
    "\n",
    "Ved hjelp av logiske operatorer kan vi teste for flere betingelser i samme if-setning. Eksemplet nedenfor viser et lite program som leser inn temperatur og vind og så skal skrive et varsel om ekstremvær hvis det er kaldere enn -30, varmere enn 40, eller mer vind enn 20 m/s.\n",
    "\n",
    "Her viser vi dette løst på to alternative måter, først med enkle betingelser og en if-elif-setning (linje 5-10), deretter med en enkelt if-setning med en sammensatt betingelse med `or` mellom (linje 13-14). **OBS:** Trykk på View -> Toggle Line Numbers i menyen på toppen for å se linjenummer.\n",
    "\n",
    "Når det står `or` mellom betingelser er det nok at en av dem er sann for at hele uttrykket skal bli sant (men også sant om begge er sanne); den sammensatte varianten vil dermed gi samme resultat som if-elif-setningen bare at vi med vilje har droppet utropstegn i siste print så du lett skal se hva som er hva."
   ]
  },
  {
   "cell_type": "code",
   "execution_count": null,
   "metadata": {},
   "outputs": [],
   "source": [
    "temp = float(input(\"Gi inn temperatur i Celsius: \"))\n",
    "vind = float(input(\"Gi inn vind i m/s: \"))\n",
    "  \n",
    "# VARIANT MED if-elif\n",
    "if temp < -30:\n",
    "    print(\"VARSEL: Ekstremvær!\")\n",
    "elif temp > 40:\n",
    "    print(\"VARSEL: Ekstremvær!\")\n",
    "elif vind > 20:\n",
    "    print(\"VARSEL: Ekstremvær!\")\n",
    "  \n",
    "# VARIANT MED SAMMENSATT BETINGELSE\n",
    "if temp < -30 or temp > 40 or vind > 20:\n",
    "    print(\"VARSEL: Ekstremvær\")"
   ]
  },
  {
   "cell_type": "markdown",
   "metadata": {
    "deletable": false,
    "editable": false,
    "nbgrader": {
     "cell_type": "markdown",
     "checksum": "0a26edd7fe652869a1d16b11af94f489",
     "grade": false,
     "grade_id": "cell-3130609b4ee5eaa5",
     "locked": true,
     "schema_version": 3,
     "solution": false,
     "task": false
    }
   },
   "source": [
    "Merk at varianten med sammensatt betingelse kun funker her fordi det er samme tekst som skal skrives i alle de tre tilfellene. Hvis utskriften skulle ha vært mer spesifikk (f.eks. ekstremt kaldt / ekstremt varmt / ...), måtte vi ha brukt if-elif...\n",
    "\n",
    "Tilsvarende kan vi i noen tilfeller unngå nøstede if-setninger (linje 5-7 i eksemplet under) ved å sette sammen betingelser med `and` (linje 10-11 under). Når det er `and` mellom to betingelser, må **begge** være sanne for at hele uttrykket skal bli sant."
   ]
  },
  {
   "cell_type": "code",
   "execution_count": null,
   "metadata": {},
   "outputs": [],
   "source": [
    "regn = float(input(\"Hvor mange mm regn er det meldt? \"))\n",
    "vind = float(input(\"Gi inn vind i m/s: \"))\n",
    "  \n",
    "# VARIANT MED NØSTEDE if-setninger\n",
    "if regn > 0.2:\n",
    "    if vind < 7.0:\n",
    "        print(\"Anbefaler paraply.\")\n",
    "  \n",
    "# VARIANT MED SAMMENSATT BETINGELSE\n",
    "if regn > 0.2 and vind < 7.0:\n",
    "    print(\"Anbefaler paraply.\")"
   ]
  },
  {
   "cell_type": "markdown",
   "metadata": {
    "deletable": false,
    "editable": false,
    "nbgrader": {
     "cell_type": "markdown",
     "checksum": "778e866f3d08c89a7723978851b0ae92",
     "grade": false,
     "grade_id": "cell-3e37193e51670f8f",
     "locked": true,
     "schema_version": 3,
     "solution": false,
     "task": false
    }
   },
   "source": [
    "I begge de foregående eksemplene vil nok de fleste si at variantene med sammensatte betingelser er klart å foretrekke framfor if-elif eller nøstet if. Bruk av sammensatte betingelser gjør koden kortere og enklere å forstå.\n",
    "\n",
    "Det er typisk tre operatorer vi bruker for å sette sammen betingelser: `and`, `or`, `not`\n",
    "\n",
    "Disse virker på følgende måte:\n",
    "\n",
    "- betingelse1 `and` betingelse2 blir True (sant) bare hvis **både** betingelse1 og betingelse2 er True, ellers blir uttrykket False (usant)\n",
    "- betingelse1 `or` betingelse2 blir True (sann) hvis **minst en** av betingelsene er True, ellers False\n",
    "- `not` betingelse1 blir True hvis betingelse1 er False, og False hvis betingelse1 er True\n",
    "- Man kan sette sammen mer komplekse betingelser ved å bruke flere av dem. \n",
    "\n",
    "Presedensregler: `not` har større presedens enn `and`, som har større enn `or`.\n",
    "\n",
    "F.eks. anta at\n",
    "\n",
    "`if regn > 0.2 and vind < 7.0 or solbrentfare > 0.9 and not solkrembeholdning > 0:` er gitt som betingelse for å ta med paraply\n",
    "\n",
    "Ifølge presedensreglene vil `not` evalueres først, deretter `and`, og til slutt `or`. Uttrykket kan dermed ses som to alternative måter for å anbefale paraply (delt av `or` i midten), nemlig:\n",
    "\n",
    "ENTEN at både `regn > 0.2` og `vind < 0.7` er sanne. Det spiller da ingen rolle hvilken verdi vi har for solbrentfare osv. (siden den har `or` foran seg)\n",
    "ELLER at `solbrentfare > 0.9` er sann, samtidig som `solkrembeholdning > 0` er usann (slik at `not solkrembeholdning > 0` vil være sann)\n",
    "I det siste tilfellet er det rimelig å anta at paraply er tenkt å beskytte mot sol, ikke mot regn.\n",
    "\n",
    "Merk at selv om sammensatte betingelser gjorde koden kortere og enklere å forstå i eksemplene over, er ikke dette alltid tilfelle. Hvis man ender med veldig store sammensatte betingelser, vil disse i seg selv være vanskelig å forstå, slik at kanskje noe oppsplitting med if-elif... eller nøsting av if-setninger kunne ha vært bedre.\n",
    "\n",
    "Men se først om det er mulig å skrive betingelsen enklere. Dette gjelder særlig hvis det er mye bruk av `not`. Akkurat som mye bruk av negasjoner i vanlig norsk vil gjøre en tekst vanskelig å forstå, vil mye bruk av `not` gjøre Python-betingelser vanskelige å forstå - og kunne kanskje vært unngått. F.eks.\n",
    "\n",
    "- `not a < 10` kan like gjerne skrives `a >= 10`\n",
    "- `not a == 10` kan like gjerne skrives `a != 10`\n",
    "- `not (c < 0 or c > 255)` kan like gjerne skrives `c >= 0 and c <= 255` eller enda enklere `0 <= c <= 255`.\n",
    "Det fins tilfeller hvor `not` er lurt å bruke, men bruk den med måte, bare når bedre alternativer ikke finnes."
   ]
  },
  {
   "cell_type": "markdown",
   "metadata": {
    "deletable": false,
    "editable": false,
    "nbgrader": {
     "cell_type": "markdown",
     "checksum": "b13428ffad256d336dec5137d54c7f75",
     "grade": false,
     "grade_id": "cell-cff1261d3e588a6c",
     "locked": true,
     "schema_version": 3,
     "solution": false,
     "task": false
    }
   },
   "source": [
    "## a) *(Quiz)*\n",
    "\n",
    "Hvilke av de følgende logiske uttrykkene vil gi True om `x=3`, `y=8` og `z=-3`?\n",
    "\n",
    "Uttrykk 1: `-5 < z and 5 > z`  \n",
    "Uttrykk 2: `not y == 8`  \n",
    "Uttrykk 3: `x == 8 or y == 8`  \n",
    "Uttrykk 4: `not (x <= 3 or y >= 9)`  \n",
    "Uttrykk 5: `not (x**2 != 8 and y-z == 5) or x+y == y-z`  \n",
    "\n",
    "Dobbelklikk på teksten under og skriv svaret ditt der:"
   ]
  },
  {
   "cell_type": "markdown",
   "metadata": {},
   "source": [
    "Svar: < dobbeltklikk her>"
   ]
  },
  {
   "cell_type": "markdown",
   "metadata": {
    "deletable": false,
    "editable": false,
    "nbgrader": {
     "cell_type": "markdown",
     "checksum": "b6c2b0cb5902d185f70e4bb700e0a049",
     "grade": false,
     "grade_id": "cell-6ca26c9a6ea694fc",
     "locked": true,
     "schema_version": 3,
     "solution": false,
     "task": false
    }
   },
   "source": [
    "#### Fasit\n",
    "\n",
    "Nedenfor er et lite program program som gir x, y og z verdiene 3, 8, -3 og bruke `print(<logisk uttrykk>)`.\n",
    "\n",
    "Du kan kjøre kodecellen for å printe ut resultatet av de ulike logiske uttrykkene."
   ]
  },
  {
   "cell_type": "code",
   "execution_count": null,
   "metadata": {},
   "outputs": [],
   "source": [
    "x = 3;\n",
    "y = 8;\n",
    "z = -3;\n",
    "\n",
    "print(-5 < z and 5 > z)\n",
    "print(not y == 8)\n",
    "print(x == 8 or y == 8)\n",
    "print(not (x <= 3 or y >= 9))\n",
    "print(not (x**2 != 8 and y-z == 5) or x+y == y-z)"
   ]
  },
  {
   "cell_type": "markdown",
   "metadata": {
    "deletable": false,
    "editable": false,
    "nbgrader": {
     "cell_type": "markdown",
     "checksum": "58f8a70f79de0f25ea1a59da91950b9d",
     "grade": false,
     "grade_id": "cell-6eb1a3f18bba38f1",
     "locked": true,
     "schema_version": 3,
     "solution": false,
     "task": false
    }
   },
   "source": [
    "## b)\n",
    "\n",
    "Nedenfor følger en kodesnutt hvor brukeren bes om å gi inn to tall innenfor et lovlig verdiområde, som forklart av ledeteksten - altså mellom 40-50 eller mellom 70-90. Om ikke begge tallene har fått lovlig verdi, skal koden i else-blokken utføres.\n",
    "\n",
    "Dessverre er det feil i koden som gjør at den ikke fungerer slik den skal. Din oppgave er å rette opp i disse feilene.\n",
    "\n",
    "***Rett opp feilene under og sjekk at koden fungerer for alle tilfeller***"
   ]
  },
  {
   "cell_type": "code",
   "execution_count": null,
   "metadata": {},
   "outputs": [],
   "source": [
    "print(\"Gi inn a og b, begge heltall i intervall <40,50> eller <70,90>:\" )\n",
    "a = int(input(\"Verdi for a: \"))\n",
    "b = int(input(\"Verdi for b: \"))\n",
    "  \n",
    "if (a>70 and a<<90) or (a>40 and not a>=50) and (70<b<90 or (b>40 and b<50)):\n",
    "    print(\"Tallene er begge i gyldige intervall ^u^\")\n",
    "else:\n",
    "    print(\"Minst ett av tallene er utenfor et gyldig intervall :(\")"
   ]
  },
  {
   "cell_type": "markdown",
   "metadata": {
    "deletable": false,
    "editable": false,
    "nbgrader": {
     "cell_type": "markdown",
     "checksum": "21d5446affd9164db818d62e4fbdb198",
     "grade": false,
     "grade_id": "cell-f6a7af8b46681085",
     "locked": true,
     "schema_version": 3,
     "solution": false,
     "task": false
    }
   },
   "source": [
    "#### Hint\n",
    "Husk parenteser!"
   ]
  },
  {
   "cell_type": "markdown",
   "metadata": {
    "deletable": false,
    "editable": false,
    "nbgrader": {
     "cell_type": "markdown",
     "checksum": "ce2dd179422401cf82f2215765c91af5",
     "grade": false,
     "grade_id": "cell-80437acb54531f3f",
     "locked": true,
     "schema_version": 3,
     "solution": false,
     "task": false
    }
   },
   "source": [
    "## c)\n",
    "\n",
    "Du skal i denne oppgaven fullføre koden gitt nedenfor slik at den fungerer korrekt. Programmet har laget 10 pannekaker, noe som er mer enn det klarer å spise, og ønsker å dele noen av dem med deg. Men om du er grådig og spør om å få flere enn 10, vil du få beskjed om at det ikke er mulig. Om du derimot ønsker å gi programmet pannekaker (skriver inn et negativt tall), vil du også få beskjed om at det ikke er mulig. ***Endre på koden under***"
   ]
  },
  {
   "cell_type": "code",
   "execution_count": null,
   "metadata": {},
   "outputs": [],
   "source": [
    "print(\"Hei! Jeg har 10 pannekaker jeg ønsker å dele med deg ^u^\")\n",
    "p = int(input(\"Hvor mange pannekaker ønsker du? \"))\n",
    "  \n",
    "if ...:             #Kode mangler her\n",
    "    print(\"Beklager, men det er nok ikke mulig\")\n",
    "else:\n",
    "    r = 10-p\n",
    "    print(\"Da blir det\",p,\"på deg og\",r,\"på meg :D\")"
   ]
  },
  {
   "cell_type": "markdown",
   "metadata": {
    "deletable": false,
    "editable": false,
    "nbgrader": {
     "cell_type": "markdown",
     "checksum": "555febda2a5cad89424ad2c317ea4736",
     "grade": false,
     "grade_id": "cell-0b5bd531399160d0",
     "locked": true,
     "schema_version": 3,
     "solution": false,
     "task": false
    }
   },
   "source": [
    "**Eksempel på kjøring**\n",
    "\n",
    "```\n",
    "Hei! Jeg har 10 pannekaker jeg ønsker å dele med deg ^u^\n",
    "Hvor mange pannekaker ønsker du? 4\n",
    "Da blir det 4 på deg og 6 på meg :D\n",
    "```\n",
    "  \n",
    "```\n",
    "Hei! Jeg har 10 pannekaker jeg ønsker å dele med deg ^u^\n",
    "Hvor mange pannekaker ønsker du? 100\n",
    "Beklager, men det er nok ikke mulig\n",
    "```"
   ]
  },
  {
   "cell_type": "markdown",
   "metadata": {
    "deletable": false,
    "editable": false,
    "nbgrader": {
     "cell_type": "markdown",
     "checksum": "88e3a0745cde57644c450f37ed18a3e7",
     "grade": false,
     "grade_id": "cell-2ef925d260d86441",
     "locked": true,
     "schema_version": 3,
     "solution": false,
     "task": false
    }
   },
   "source": [
    "## d)\n",
    "\n",
    "I denne deloppgaven skal pannekakeprogrammet utvides. Det skal nå også spørre om personen liker pannekaker og lagre det i en boolsk variabel, som vist i koden under:\n",
    "```python\n",
    "print(\"Hei! Jeg har 10 pannekaker jeg ønsker å dele med deg ^u^\")\n",
    "p = int(input(\"Hvor mange pannekaker ønsker du? \"))\n",
    "s = input(\"Er du glad i pannekaker? (J/N) \")  \n",
    "\n",
    "if s == 'J':\n",
    "    elsker_pannekaker = True\n",
    "else:\n",
    "    elsker_pannekaker = False\n",
    "```\n",
    "\n",
    "Pannekakeprogrammet elsker pannekaker og er lite forståelsesfull ovenfor de som ikke gjør det. Derfor, om `elsker_pannekaker` er `False`, skal det også svare \"...ikke mulig\" selv om brukeren ber om et antall pannekaker innenfor lovlig intervall <0,10>.\n",
    "\n",
    "Din jobb er å samle alle disse betingelsene i et logisk uttrykk og skrive dette logiske uttrykk inn i koden nedenfor (der ... står), slik at programmet får rett oppførsel. ***Endre på koden under***"
   ]
  },
  {
   "cell_type": "code",
   "execution_count": null,
   "metadata": {},
   "outputs": [],
   "source": [
    "print(\"Hei! Jeg har 10 pannekaker jeg ønsker å dele med deg ^u^\")\n",
    "p = int(input(\"Hvor mange pannekaker ønsker du? \"))\n",
    "s = input(\"Er du glad i pannekaker? (J/N) \")\n",
    " \n",
    "if s == 'J':\n",
    "    elsker_pannekaker = True\n",
    "else:\n",
    "    elsker_pannekaker = False\n",
    "  \n",
    "if ...:             #Kode mangler her\n",
    "    print(\"Beklager, men det er nok ikke mulig\")\n",
    "else:\n",
    "    r = 10-p\n",
    "    print(\"Da blir det\",p,\"på deg og\",r,\"på meg :D\")"
   ]
  },
  {
   "cell_type": "markdown",
   "metadata": {
    "deletable": false,
    "editable": false,
    "nbgrader": {
     "cell_type": "markdown",
     "checksum": "1cfa1c64f8a73b4ceb00e70fedd2cb6b",
     "grade": false,
     "grade_id": "cell-7fa027f9c2094fb4",
     "locked": true,
     "schema_version": 3,
     "solution": false,
     "task": false
    }
   },
   "source": [
    "**Eksempel på kjøring**\n",
    "```\n",
    "Hei! Jeg har 10 pannekaker jeg ønsker å dele med deg ^u^\n",
    "Hvor mange pannekaker ønsker du? 5\n",
    "Er du glad i pannekaker? (J/N) J\n",
    "Da blir det 5 på deg og 5 på meg :D\n",
    "```\n",
    "\n",
    "```\n",
    "Hei! Jeg har 10 pannekaker jeg ønsker å dele med deg ^u^\n",
    "Hvor mange pannekaker ønsker du? 7\n",
    "Er du glad i pannekaker? (J/N) N\n",
    "Beklager, men det er nok ikke mulig\n",
    "```"
   ]
  },
  {
   "cell_type": "markdown",
   "metadata": {
    "deletable": false,
    "editable": false,
    "nbgrader": {
     "cell_type": "markdown",
     "checksum": "ee9d5972d5af123bea7cef615f6a8c85",
     "grade": false,
     "grade_id": "cell-8390a110afbd78e4",
     "locked": true,
     "schema_version": 3,
     "solution": false,
     "task": false
    }
   },
   "source": [
    "### Se løsning:\n",
    "\n",
    "<li><a href=\"LF_Tutorial/Logiske%20operatorer%20og%20logiske%20uttrykk%20-%20lf.ipynb\">Logiske operatorer og logiske uttrykk</a></li>"
   ]
  }
 ],
 "metadata": {
  "kernelspec": {
   "display_name": "Python 3",
   "language": "python",
   "name": "python3"
  },
  "language_info": {
   "codemirror_mode": {
    "name": "ipython",
    "version": 3
   },
   "file_extension": ".py",
   "mimetype": "text/x-python",
   "name": "python",
   "nbconvert_exporter": "python",
   "pygments_lexer": "ipython3",
   "version": "3.8.3"
  }
 },
 "nbformat": 4,
 "nbformat_minor": 4
}
