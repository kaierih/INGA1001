{
 "cells": [
  {
   "cell_type": "markdown",
   "metadata": {
    "deletable": false,
    "editable": false,
    "nbgrader": {
     "cell_type": "markdown",
     "checksum": "a7d2b033f3fb78ad05ba9cd476e81504",
     "grade": false,
     "grade_id": "cell-2434ad000adaa486",
     "locked": true,
     "schema_version": 3,
     "solution": false,
     "task": false
    }
   },
   "source": [
    "<nav class=\"navbar navbar-default\">\n",
    "  <div class=\"container-fluid\">\n",
    "    <div class=\"navbar-header\">\n",
    "      <a class=\"navbar-brand\" href=\"_Python_oving_2.ipynb\">Øving 2</a>\n",
    "    </div>\n",
    "    <ul class=\"nav navbar-nav\">\n",
    "    <li><a href=\"Ulike%20typer%20if-setninger.ipynb\">Ulike typer if-setninger</a></li>\n",
    "    <li><a href=\"Sammenligning%20av%20strenger.ipynb\">Sammenligning av strenger</a></li>\n",
    "    <li><a href=\"Logiske%20operatorer%20og%20logiske%20uttrykk.ipynb\">Logiske operatorer og logiske uttrykk</a></li>\n",
    "    <li><a href=\"Forbrytelse%20og%20straff.ipynb\">Forbrytelse og straff</a></li>\n",
    "    <li class=\"active\"><a href=\"Billettpriser%20og%20rabatter.ipynb\">Billettpriser og rabatter</a></li>\n",
    "    <li><a href=\"Arstider.ipynb\">Årstider</a></li>\n",
    "    <li><a href=\"Sjakkbrett.ipynb\">Sjakkbrett</a></li>\n",
    "    <li><a href=\"Andregradsligning.ipynb\">Andregradsligning</a></li>\n",
    "    </ul>\n",
    "  </div>\n",
    "</nav>\n",
    "\n",
    "# Billettpriser og rabatter\n",
    "\n",
    "**Læringsmål:**\n",
    "\n",
    "* Betingelser\n",
    "\n",
    "*Denne oppgaven kan gi til sammen 3 poeng*\n",
    "\n",
    "I denne oppgaven skal du bruke betingelser (if-elif-else) til å bestemme billettprisen til en bruker basert på input fra brukeren. \n",
    "\n",
    "Transportselskapet «TravelevatoR» tilbyr reiser fra Ålesund til Pythonville. Ved bestilling minst 14 dager før man skal reise, kan man få minipris 199 som ikke kan refunderes. Normal billett koster 440. "
   ]
  },
  {
   "cell_type": "markdown",
   "metadata": {
    "deletable": false,
    "editable": false,
    "nbgrader": {
     "cell_type": "markdown",
     "checksum": "da8c24827d30dbdbca8e4af7996120f2",
     "grade": false,
     "grade_id": "cell-5350b7317259305d",
     "locked": true,
     "schema_version": 3,
     "solution": false,
     "task": false
    }
   },
   "source": [
    "## Deloppgave a)\n",
    "\n",
    "Skriv inn kode i funksjonen `hentBillettPris()` nedenfor slik at du får de to mulige oppførslene som beskrevet i tabellen under. \n",
    "\n",
    "Dager til reise | Pris (NOK)\n",
    "---|---\n",
    " $<14$ | 440\n",
    " $>=14$| 199\n",
    " \n",
    "P.S. Du trenger ikke å ta hensyn til variabelen `refundering` i denne oppgaven. "
   ]
  },
  {
   "cell_type": "code",
   "execution_count": null,
   "metadata": {
    "deletable": false,
    "nbgrader": {
     "cell_type": "code",
     "checksum": "d90ef896cb97e5bb536bdbc426d3e98a",
     "grade": false,
     "grade_id": "cell-2517e0c6e93e702e",
     "locked": false,
     "schema_version": 3,
     "solution": true,
     "task": false
    }
   },
   "outputs": [],
   "source": [
    "def hentBillettPris(dager, refundering=False):\n",
    "    #-------------------------------------\n",
    "    # SKRIV DIN KODE HER:\n",
    "    #-------------------------------------\n",
    "    return pris"
   ]
  },
  {
   "cell_type": "markdown",
   "metadata": {
    "deletable": false,
    "editable": false,
    "nbgrader": {
     "cell_type": "markdown",
     "checksum": "192ff148960bed72d25518c6f9d190e6",
     "grade": false,
     "grade_id": "cell-bda79e11759bc3f3",
     "locked": true,
     "schema_version": 3,
     "solution": false,
     "task": false
    }
   },
   "source": [
    "__Test av utregning:__"
   ]
  },
  {
   "cell_type": "code",
   "execution_count": null,
   "metadata": {
    "deletable": false,
    "editable": false,
    "nbgrader": {
     "cell_type": "code",
     "checksum": "b0a7d812e3e4b05db412f1a80a10e572",
     "grade": true,
     "grade_id": "cell-91b7828e1ce0ffb4",
     "locked": true,
     "points": 1,
     "schema_version": 3,
     "solution": false,
     "task": false
    }
   },
   "outputs": [],
   "source": [
    "# 17 dager til avreise\n",
    "dager = 17\n",
    "pris = hentBillettPris(dager)\n",
    "print(\"Det er\", dager, \"dager til avreise. Vi kan tilby en billettpris på\", pris, \"NOK\")\n",
    "\n",
    "# 8 dager til avreise\n",
    "dager = 8\n",
    "pris = hentBillettPris(dager)\n",
    "print(\"Det er\", dager, \"dager til avreise. Vi kan tilby en billettpris på\", pris, \"NOK\")"
   ]
  },
  {
   "cell_type": "markdown",
   "metadata": {
    "deletable": false,
    "editable": false,
    "nbgrader": {
     "cell_type": "markdown",
     "checksum": "9441a9de4afa875230969dc66c33a4ad",
     "grade": false,
     "grade_id": "cell-97812d749094927a",
     "locked": true,
     "schema_version": 3,
     "solution": false,
     "task": false
    }
   },
   "source": [
    "__Riktig Utskrift:__\n",
    "```python\n",
    "Det er 17 dager til avreise. Vi kan tilby en billettpris på 199 NOK\n",
    "Det er 8 dager til avreise. Vi kan tilby en billettpris på 440 NOK\n",
    "```"
   ]
  },
  {
   "cell_type": "markdown",
   "metadata": {
    "deletable": false,
    "editable": false,
    "nbgrader": {
     "cell_type": "markdown",
     "checksum": "3ee0c1f413831ae8b924c1c65b04bc87",
     "grade": false,
     "grade_id": "cell-61592cc8649b130a",
     "locked": true,
     "schema_version": 3,
     "solution": false,
     "task": false
    }
   },
   "source": [
    "## Deloppgave b)\n",
    "\n",
    "Utvid funksjonen `hentBillettPris()` fra deloppgave __a)__ slik at den også tar hensyn til om kjøperen ønsker muligheten til å refundere billetten.\n",
    "\n",
    "Dager til reise | Refusjon | Pris (NOK)\n",
    "---|---|---\n",
    " $<14$ | Nei (`False`)| 440\n",
    " $<14$ | Ja (`True`) | 440\n",
    " $>=14$| Nei (`False`) | 199\n",
    "  $>=14$| Ja (`True`) | 440\n",
    "  \n",
    "__Test av utregning:__"
   ]
  },
  {
   "cell_type": "code",
   "execution_count": null,
   "metadata": {
    "deletable": false,
    "editable": false,
    "nbgrader": {
     "cell_type": "code",
     "checksum": "fc52ec73f04d5f09a5053c260d973fc5",
     "grade": true,
     "grade_id": "cell-fec298cedebcef81",
     "locked": true,
     "points": 1,
     "schema_version": 3,
     "solution": false,
     "task": false
    }
   },
   "outputs": [],
   "source": [
    "# 17 dager til avreise\n",
    "dager = 17\n",
    "refundering = True\n",
    "pris = hentBillettPris(dager, refundering)\n",
    "print(\"Det er\", dager, \"dager til avreise. Vi kan tilby en billettpris på\", pris, \"NOK\")\n",
    "\n",
    "# 8 dager til avreise\n",
    "dager = 8\n",
    "refundering = False\n",
    "pris = hentBillettPris(dager, refundering)\n",
    "print(\"Det er\", dager, \"dager til avreise. Vi kan tilby en billettpris på\", pris, \"NOK\")"
   ]
  },
  {
   "cell_type": "markdown",
   "metadata": {
    "deletable": false,
    "editable": false,
    "nbgrader": {
     "cell_type": "markdown",
     "checksum": "12301707b67ca0b0e34b599dac1a8b7f",
     "grade": false,
     "grade_id": "cell-fbe664b6cd8ce088",
     "locked": true,
     "schema_version": 3,
     "solution": false,
     "task": false
    }
   },
   "source": [
    "__Riktig Utskrift:__\n",
    "```python\n",
    "Det er 17 dager til avreise. Vi kan tilby en billettpris på 440 NOK\n",
    "Det er 8 dager til avreise. Vi kan tilby en billettpris på 440 NOK\n",
    "```"
   ]
  },
  {
   "cell_type": "markdown",
   "metadata": {
    "deletable": false,
    "editable": false,
    "nbgrader": {
     "cell_type": "markdown",
     "checksum": "825feb941ee8f7ae5db14f1341563377",
     "grade": false,
     "grade_id": "cell-56c61e88de8b0994",
     "locked": true,
     "schema_version": 3,
     "solution": false,
     "task": false
    }
   },
   "source": [
    "## Deloppgave c)\n",
    "\n",
    "Det blir besluttet at barn under 16 gis 50% rabatt, og senior (60+) gis 25% rabatt. Disse rabattene gjelder kun i forhold til fullpris, for minipris gis ingen rabatter. Endre funksjonen nedenfor slik at den vil gi passende rabatt avhengig av alder. Funksjonen skal returnere den endelige billettprisen medregnet rabatt (`rabattPris`).\n"
   ]
  },
  {
   "cell_type": "code",
   "execution_count": null,
   "metadata": {
    "deletable": false,
    "nbgrader": {
     "cell_type": "code",
     "checksum": "8b8d0be703d8f62b665b8e5613d6d150",
     "grade": false,
     "grade_id": "cell-055aa2433437e387",
     "locked": false,
     "schema_version": 3,
     "solution": true,
     "task": false
    }
   },
   "outputs": [],
   "source": [
    "def beregnRabatt(fullPris, alder):\n",
    "    #-------------------------------------\n",
    "    # SKRIV DIN KODE HER:\n",
    "    #-------------------------------------\n",
    "    return rabattPris"
   ]
  },
  {
   "cell_type": "markdown",
   "metadata": {
    "deletable": false,
    "editable": false,
    "nbgrader": {
     "cell_type": "markdown",
     "checksum": "3d34176ca5015dff66a0e88815420d0d",
     "grade": false,
     "grade_id": "cell-8c8dbabb6760e9aa",
     "locked": true,
     "schema_version": 3,
     "solution": false,
     "task": false
    }
   },
   "source": [
    "__Test av utregning:__"
   ]
  },
  {
   "cell_type": "code",
   "execution_count": null,
   "metadata": {
    "deletable": false,
    "editable": false,
    "nbgrader": {
     "cell_type": "code",
     "checksum": "d8835ee51173fe19cebf89bd6fd9c50f",
     "grade": true,
     "grade_id": "cell-2bfb555871f89a86",
     "locked": true,
     "points": 1,
     "schema_version": 3,
     "solution": false,
     "task": false
    }
   },
   "outputs": [],
   "source": [
    "# Ordinær Seniorbillett\n",
    "fullPris = 440\n",
    "alder = 65\n",
    "rabattPris = beregnRabatt(fullPris, alder)\n",
    "print(\"Ordinær billett for en\", alder, \"år gammel passasjer er\", rabattPris, \"NOK medregnet rabatt.\")\n",
    "\n",
    "# Ordinær ungdomsbillett\n",
    "fullPris = 440\n",
    "alder = 13\n",
    "rabattPris = beregnRabatt(fullPris, alder)\n",
    "print(\"Ordinær billett for en\", alder, \"år gammel passasjer er\", rabattPris, \"NOK medregnet rabatt.\")"
   ]
  },
  {
   "cell_type": "markdown",
   "metadata": {
    "deletable": false,
    "editable": false,
    "nbgrader": {
     "cell_type": "markdown",
     "checksum": "196332306f9a11a229cedf0f787471f3",
     "grade": false,
     "grade_id": "cell-9c46966d8973605b",
     "locked": true,
     "schema_version": 3,
     "solution": false,
     "task": false
    }
   },
   "source": [
    "__Riktig utskrift:__\n",
    "```python\n",
    "Ordinær billett for en 65 år gammel passasjer er 330.0 NOK medregnet rabatt.\n",
    "Ordinær billett for en 13 år gammel passasjer er 220.0 NOK medregnet rabatt.\n",
    "```"
   ]
  }
 ],
 "metadata": {
  "kernelspec": {
   "display_name": "Python 3",
   "language": "python",
   "name": "python3"
  },
  "language_info": {
   "codemirror_mode": {
    "name": "ipython",
    "version": 3
   },
   "file_extension": ".py",
   "mimetype": "text/x-python",
   "name": "python",
   "nbconvert_exporter": "python",
   "pygments_lexer": "ipython3",
   "version": "3.8.3"
  }
 },
 "nbformat": 4,
 "nbformat_minor": 4
}
