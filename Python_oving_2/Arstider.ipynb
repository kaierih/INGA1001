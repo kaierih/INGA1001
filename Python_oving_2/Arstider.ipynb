{
 "cells": [
  {
   "cell_type": "markdown",
   "metadata": {
    "deletable": false,
    "editable": false,
    "nbgrader": {
     "cell_type": "markdown",
     "checksum": "3465af46db5b7a9e8918bee91951ec3e",
     "grade": false,
     "grade_id": "cell-a2efbe29faa75013",
     "locked": true,
     "schema_version": 3,
     "solution": false,
     "task": false
    }
   },
   "source": [
    "<nav class=\"navbar navbar-default\">\n",
    "  <div class=\"container-fluid\">\n",
    "    <div class=\"navbar-header\">\n",
    "      <a class=\"navbar-brand\" href=\"_Python_oving_2.ipynb\">Øving 2</a>\n",
    "    </div>\n",
    "    <ul class=\"nav navbar-nav\">\n",
    "    <li><a href=\"Ulike%20typer%20if-setninger.ipynb\">Ulike typer if-setninger</a></li>\n",
    "    <li><a href=\"Sammenligning%20av%20strenger.ipynb\">Sammenligning av strenger</a></li>\n",
    "    <li><a href=\"Logiske%20operatorer%20og%20logiske%20uttrykk.ipynb\">Logiske operatorer og logiske uttrykk</a></li>\n",
    "    <li><a href=\"Forbrytelse%20og%20straff.ipynb\">Forbrytelse og straff</a></li>\n",
    "    <li><a href=\"Billettpriser%20og%20rabatter.ipynb\">Billettpriser og rabatter</a></li>\n",
    "    <li class=\"active\"><a href=\"Arstider.ipynb\">Årstider</a></li>\n",
    "    <li><a href=\"Sjakkbrett.ipynb\">Sjakkbrett</a></li>\n",
    "    <li><a href=\"Andregradsligning.ipynb\">Andregradsligning</a></li>\n",
    "    </ul>\n",
    "  </div>\n",
    "</nav>\n",
    "\n",
    "\n",
    "# Årstider\n",
    "\n",
    "**Læringsmål:**\n",
    "- Betingelser\n",
    "- Logiske uttrykk\n",
    "\n",
    "*Denne oppgaven kan gi til sammen 2 poeng*\n",
    "\n",
    "I denne oppgaven skal en bruker skrive inn dag og måned og få ut hvilken årstid datoen tilhører.\n",
    "\n",
    "Et år har (offisielt) fire årstider, og i denne oppgaven tar vi utgangspunkt i at årstidsskiftene følger tabellen nedenfor. **(Merk deg datoene)**\n",
    "\n",
    "\n",
    "Årstid | Første dag\n",
    "--- | ---\n",
    "Vår | 20. mars\n",
    "Sommer | 21. juni\n",
    "Høst | 22. september\n",
    "Vinter | 21. desember"
   ]
  },
  {
   "cell_type": "markdown",
   "metadata": {
    "deletable": false,
    "editable": false,
    "nbgrader": {
     "cell_type": "markdown",
     "checksum": "c74c2cbc88d5588ecc190ed3da39c4a3",
     "grade": false,
     "grade_id": "cell-de3bb13bcc2381cd",
     "locked": true,
     "schema_version": 3,
     "solution": false,
     "task": false
    }
   },
   "source": [
    "## Oppgave: \n",
    "\n",
    "Ferdigstill funksjonen som tar inn en måned som en strengvariabel `mnd`, og en dag i denne måneden som en heltallsvariabel `dag`. Funksjonen skal så returnere årstiden assosiert med denne datoen .\n",
    "\n",
    "Du kan anta at inputen er en gyldig dato, men det kan være fordelaktig å bruke strengmetoden `.lower()` for å sikre at programmet ditt ikke er \"case sensitive\"."
   ]
  },
  {
   "cell_type": "code",
   "execution_count": null,
   "metadata": {
    "deletable": false,
    "nbgrader": {
     "cell_type": "code",
     "checksum": "4f9eadd7ae6e82aee7aed4cb99d3e1d6",
     "grade": false,
     "grade_id": "cell-0b826c89051cdc5e",
     "locked": false,
     "schema_version": 3,
     "solution": true,
     "task": false
    }
   },
   "outputs": [],
   "source": [
    "def finnAarstid(mnd, dag):\n",
    "    #-------------------------------------\n",
    "    # SKRIV DIN KODE HER:\n",
    "    #-------------------------------------\n",
    "    return aarstid"
   ]
  },
  {
   "cell_type": "markdown",
   "metadata": {
    "deletable": false,
    "editable": false,
    "nbgrader": {
     "cell_type": "markdown",
     "checksum": "18a17e383d6b3939ee33490d36cd2334",
     "grade": false,
     "grade_id": "cell-8c6834a880e44936",
     "locked": true,
     "schema_version": 3,
     "solution": false,
     "task": false
    }
   },
   "source": [
    "**Test av utregning:**"
   ]
  },
  {
   "cell_type": "code",
   "execution_count": null,
   "metadata": {
    "deletable": false,
    "editable": false,
    "nbgrader": {
     "cell_type": "code",
     "checksum": "7548d1dd28778d29f32ba271c6763724",
     "grade": true,
     "grade_id": "cell-1e0a1888bdfb4078",
     "locked": true,
     "points": 2,
     "schema_version": 3,
     "solution": false,
     "task": false
    }
   },
   "outputs": [],
   "source": [
    "# Dato er 20. mars\n",
    "mnd = 'mars'   \n",
    "dag = 20       \n",
    "\n",
    "# Identifiser årstid\n",
    "aarstid = finnAarstid(mnd, dag)\n",
    "\n",
    "# Skriv ut resultat\n",
    "print(dag, mnd, \" tilhører årstiden \", aarstid)\n",
    "\n",
    "#------------------------------------------------------\n",
    "# Ny dato er 18. november\n",
    "mnd = 'november'   \n",
    "dag = 18       \n",
    "\n",
    "# Identifiser årstid\n",
    "aarstid = finnAarstid(mnd, dag)\n",
    "\n",
    "# Skriv ut resultat\n",
    "print(dag, mnd, \" tilhører årstiden \", aarstid)"
   ]
  },
  {
   "cell_type": "markdown",
   "metadata": {
    "deletable": false,
    "editable": false,
    "nbgrader": {
     "cell_type": "markdown",
     "checksum": "1449a3e7d1a9026d3f197445be1bd65e",
     "grade": false,
     "grade_id": "cell-a83baa4eee6055b6",
     "locked": true,
     "schema_version": 3,
     "solution": false,
     "task": false
    }
   },
   "source": [
    "**Riktig Utskrift:**\n",
    "```python\n",
    "20 mars  tilhører årstiden  Vår\n",
    "18 november  tilhører årstiden  Høst\n",
    "```"
   ]
  }
 ],
 "metadata": {
  "kernelspec": {
   "display_name": "Python 3",
   "language": "python",
   "name": "python3"
  },
  "language_info": {
   "codemirror_mode": {
    "name": "ipython",
    "version": 3
   },
   "file_extension": ".py",
   "mimetype": "text/x-python",
   "name": "python",
   "nbconvert_exporter": "python",
   "pygments_lexer": "ipython3",
   "version": "3.8.3"
  }
 },
 "nbformat": 4,
 "nbformat_minor": 4
}
