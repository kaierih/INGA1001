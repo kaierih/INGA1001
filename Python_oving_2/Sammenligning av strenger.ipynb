{
 "cells": [
  {
   "cell_type": "markdown",
   "metadata": {
    "deletable": false,
    "editable": false,
    "nbgrader": {
     "cell_type": "markdown",
     "checksum": "a5efcba758bca81e8dabf665775f3c7b",
     "grade": false,
     "grade_id": "cell-e6520d278ae0bd06",
     "locked": true,
     "schema_version": 3,
     "solution": false,
     "task": false
    }
   },
   "source": [
    "<nav class=\"navbar navbar-default\">\n",
    "  <div class=\"container-fluid\">\n",
    "    <div class=\"navbar-header\">\n",
    "      <a class=\"navbar-brand\" href=\"_Python_oving_2.ipynb\">Øving 2</a>\n",
    "    </div>\n",
    "    <ul class=\"nav navbar-nav\">\n",
    "    <li><a href=\"Ulike%20typer%20if-setninger.ipynb\">Ulike typer if-setninger</a></li>\n",
    "    <li class=\"active\"><a href=\"Sammenligning%20av%20strenger.ipynb\">Sammenligning av strenger</a></li>\n",
    "    <li><a href=\"Logiske%20operatorer%20og%20logiske%20uttrykk.ipynb\">Logiske operatorer og logiske uttrykk</a></li>\n",
    "    <li><a href=\"Forbrytelse%20og%20straff.ipynb\">Forbrytelse og straff</a></li>\n",
    "    <li><a href=\"Billettpriser%20og%20rabatter.ipynb\">Billettpriser og rabatter</a></li>\n",
    "    <li><a href=\"Arstider.ipynb\">Årstider</a></li>\n",
    "    <li><a href=\"Sjakkbrett.ipynb\">Sjakkbrett</a></li>\n",
    "    <li><a href=\"Andregradsligning.ipynb\">Andregradsligning</a></li>\n",
    "    </ul>\n",
    "  </div>\n",
    "</nav>\n",
    "\n",
    "# Sammenligning av strenger\n",
    "\n",
    "**Læringsmål:**\n",
    "- Betingelser\n",
    "- Kodeforståelse"
   ]
  },
  {
   "cell_type": "markdown",
   "metadata": {
    "deletable": false,
    "editable": false,
    "nbgrader": {
     "cell_type": "markdown",
     "checksum": "da7c09c97a7b3f1806056d3db89ad276",
     "grade": false,
     "grade_id": "cell-ee647de7de2eb2ad",
     "locked": true,
     "schema_version": 3,
     "solution": false,
     "task": false
    }
   },
   "source": [
    "## Generelt om sammenligning av strenger\n",
    "\n",
    "Når man sammenligner to strenger i Python vil strengene sammenlignes karakter for karakter. F.eks. vil et program som sammenligner strengene `\"Ola\"` og `\"Ole\"` og sjekker om de er like, først sammenligne `'O'` mot `'O'`, så `'l'` mot `'l'`, og til slutt `'a'` mot `'e'`. Det er først ved sammenligningen av `'a'` mot `'e'` at det vil bli returnert `False`."
   ]
  },
  {
   "cell_type": "code",
   "execution_count": null,
   "metadata": {},
   "outputs": [],
   "source": [
    "a = \"Ola\"\n",
    "b = \"Ole\"\n",
    "  \n",
    "print(\"Sammenligner\", a, \"og\", b)\n",
    "if a == b:\n",
    "    print(\"Navnene er like\")\n",
    "else:\n",
    "    print(\"Navnene er IKKE like\")"
   ]
  },
  {
   "cell_type": "markdown",
   "metadata": {
    "deletable": false,
    "editable": false,
    "nbgrader": {
     "cell_type": "markdown",
     "checksum": "1a6ec2d037598e01b935902efa027a11",
     "grade": false,
     "grade_id": "cell-989d694f9cf4cf74",
     "locked": true,
     "schema_version": 3,
     "solution": false,
     "task": false
    }
   },
   "source": [
    "Om man derimot sammenligner navnene Markus og Marcus, vil testen av betingelsen returnere `False` når `'k'` blir sammenlignet med `'c'`. Det betyr at `'u'`  mot `'u'` og `'s'` mot `'s'` ikke blir sjekket."
   ]
  },
  {
   "cell_type": "code",
   "execution_count": null,
   "metadata": {},
   "outputs": [],
   "source": [
    "a = \"Markus\"\n",
    "b = \"Marcus\"\n",
    "  \n",
    "print(\"Sammenligner\", a, \"og\", b)\n",
    "if a == b:\n",
    "    print(\"Navnene er like\")\n",
    "else:\n",
    "    print(\"Navnene er IKKE like\")"
   ]
  },
  {
   "cell_type": "markdown",
   "metadata": {
    "deletable": false,
    "editable": false,
    "nbgrader": {
     "cell_type": "markdown",
     "checksum": "36adfd9b90cb17c64d1d92470a1723ce",
     "grade": false,
     "grade_id": "cell-081773d5212e4c81",
     "locked": true,
     "schema_version": 3,
     "solution": false,
     "task": false
    }
   },
   "source": [
    "Prøv gjerne ut koden over med andre verdier selv. Andre eksempler på kjøring kan være:\n",
    "```python\n",
    "# a = \"Ann\", b = \"Anne\"\n",
    "Sammenligner Ann og Anne\n",
    "Navnene er IKKE like\n",
    "```\n",
    "```python  \n",
    "# a = \"Anders\", b = \"Anders\"\n",
    "Sammenligner Anders og Anders\n",
    "Navnene er like\n",
    "```\n",
    "  \n",
    "```python\n",
    "# a = \"Anders\", b = \"anders\"\n",
    "Sammenligner Anders og anders\n",
    "Navnene er IKKE like\n",
    "```\n",
    "\n",
    "Som du ser i siste kjøring, skiller Python mellom store og små bokstaver, og en stor A er ikke det samme som en liten a. Dette kommer av at tegnene i strengene lagres som tall, og det er disse tallene som sammenlignes. I ASCII er karakterene A til Z representert med tallene 65 til 90, og karakterene a til z er representert med tallene 97 til 122."
   ]
  },
  {
   "cell_type": "markdown",
   "metadata": {
    "deletable": false,
    "editable": false,
    "nbgrader": {
     "cell_type": "markdown",
     "checksum": "996abffd653e19d533ef63f97af932fc",
     "grade": false,
     "grade_id": "cell-26a30e3251050e65",
     "locked": true,
     "schema_version": 3,
     "solution": false,
     "task": false
    }
   },
   "source": [
    "## a)\n",
    "\n",
    "Du skal nå lage et program som sammenligner to matvarer, og sjekker om de er like. Det skal ikke spille noen rolle om matvarenavnene som sendes inn har store eller små bokstaver, dvs. at `\"druer\"` og `\"DrUer\"` skal regnes som like matvarer (se Hint). Det trengs ikke å ta hensyn til entall og flertall, dvs. at `\"druer\"` og `\"drue\"` regnes som to forskjellige matvarer.\n",
    "\n",
    "**Eksempel på kjøring:**\n",
    "\n",
    "```\n",
    "Sammenligner druer og DrUer\n",
    "Det er samme matvare\n",
    "```\n",
    "\n",
    "```\n",
    "Sammenligner druer og drue\n",
    "Dette er to forskjellige matvarer\n",
    "```\n",
    "\n",
    "```\n",
    "Sammenligner TomAT og ToMat\n",
    "Det er samme matvare\n",
    "```  \n",
    "\n",
    "```\n",
    "Sammenligner tomat og potet\n",
    "Dette er to forskjellige matvarer\n",
    "```\n",
    "\n",
    "___Skriv din kode her:___"
   ]
  },
  {
   "cell_type": "code",
   "execution_count": null,
   "metadata": {},
   "outputs": [],
   "source": []
  },
  {
   "cell_type": "markdown",
   "metadata": {
    "deletable": false,
    "editable": false,
    "nbgrader": {
     "cell_type": "markdown",
     "checksum": "1ed2d6943fc4dedae5628035591c67d9",
     "grade": false,
     "grade_id": "cell-40f69774e33fcec7",
     "locked": true,
     "schema_version": 3,
     "solution": false,
     "task": false
    }
   },
   "source": [
    "#### Hint\n",
    "\n",
    "`str.lower()` returnerer en kopi av strengen bestående av små bokstaver.\n",
    "\n",
    "Dvs., om du har en variabel `a = \"DrUer\"`, vil `a.lower()` gi strengen `\"druer\"`. Men husk, `a.lower()` endrer ikke på variabelen `a`, så man må enten lage en ny variabel `b = a.lower()` og bruke variabelen `b` i sjekken, eller så kan man bruke `a.lower()` direkte i sjekken i stedet for `a`.\n",
    "\n",
    "Eksempel som viser bruk av `str.lower()`:"
   ]
  },
  {
   "cell_type": "code",
   "execution_count": null,
   "metadata": {},
   "outputs": [],
   "source": [
    "a = \"DrUer\"\n",
    "  \n",
    "print(a)        #Output: \"DrUer\"\n",
    "a.lower()       #retunerer strengen \"druer\", men endrer ikke på variabelen a\n",
    "print(a)        #Output: \"DrUer\"\n",
    "print(a.lower())    #Output: \"druer\""
   ]
  },
  {
   "cell_type": "markdown",
   "metadata": {
    "deletable": false,
    "editable": false,
    "nbgrader": {
     "cell_type": "markdown",
     "checksum": "a56d1560f2bd8f6152970d8609251b98",
     "grade": false,
     "grade_id": "cell-8b213a0bd6935908",
     "locked": true,
     "schema_version": 3,
     "solution": false,
     "task": false
    }
   },
   "source": [
    "#### Fremgangsmåte\n",
    "\n",
    "1. Lag to variabler (`a` og `b`) som representerer hver sin streng.\n",
    "2. Skriv hvilke variabler du sammenligner ut til skjerm.\n",
    "3. Bruk en if-else-setning med betingelsen `a.lower() == b.lower()` for å sammenligne strengene, og skriv ut om det er samme vare eller to forskjellige varer til skjerm."
   ]
  },
  {
   "cell_type": "markdown",
   "metadata": {
    "deletable": false,
    "editable": false,
    "nbgrader": {
     "cell_type": "markdown",
     "checksum": "a008a41a629722909068a8b820d23715",
     "grade": false,
     "grade_id": "cell-bd7ae847d9315571",
     "locked": true,
     "schema_version": 3,
     "solution": false,
     "task": false
    }
   },
   "source": [
    "## b)\n",
    "\n",
    "I denne oppgaven skal du lage et program som tar inn to navn og sorterer dem i alfabetisk rekkefølge. Du trenger ikke ta hensyn til små og store bokstaver i denne oppgaven.\n",
    "\n",
    "**Eksempel på kjøring:**\n",
    "```\n",
    "Første navn: Ole\n",
    "Andre navn: Ola\n",
    "Under følger navnene i alfabetisk rekkefølge:\n",
    "Ola\n",
    "Ole\n",
    "```\n",
    "\n",
    "```\n",
    "Første navn: Bob Bernt\n",
    "Andre navn: Bob Arne\n",
    "Under følger navnene i alfabetisk rekkefølge:\n",
    "Bob Arne\n",
    "Bob Bernt\n",
    "```\n",
    "\n",
    "___Skriv din kode her:___"
   ]
  },
  {
   "cell_type": "code",
   "execution_count": null,
   "metadata": {},
   "outputs": [],
   "source": []
  },
  {
   "cell_type": "markdown",
   "metadata": {
    "deletable": false,
    "editable": false,
    "nbgrader": {
     "cell_type": "markdown",
     "checksum": "02fb534615739397a6b9c5f8a6b49594",
     "grade": false,
     "grade_id": "cell-cd2d2ccb1625c086",
     "locked": true,
     "schema_version": 3,
     "solution": false,
     "task": false
    }
   },
   "source": [
    "#### Hint (trykk pil til venstre)\n",
    "Om man ønsker å sortere navnene alfabetisk, kan man bruke `<` eller `>`. For navnene Ola og Ole vil Ole bli sett på som større enn Ola, siden `'e'` er representert av et større tall enn `'a'`. "
   ]
  },
  {
   "cell_type": "markdown",
   "metadata": {
    "deletable": false,
    "editable": false,
    "nbgrader": {
     "cell_type": "markdown",
     "checksum": "1aeb5408a5619a6eb457800dd06511cd",
     "grade": false,
     "grade_id": "cell-6114beebbaa93f87",
     "locked": true,
     "schema_version": 3,
     "solution": false,
     "task": false
    }
   },
   "source": [
    "#### Bruk av æ, ø og å i oppgave b)\n",
    "\n",
    "I Python3 brukes Unicode-tabellen til representasjon av bokstaver, og mens verdiene for bokstavene a-z er de samme som i ASCII-tabellen, er det litt annerledes for æ, ø og å. Disse kommer i en litt annen rekkefølge enn vi er vant med og har følgende verdier:\n",
    "\n",
    "\n",
    "`'å'` - 229  \n",
    "`'Å'` - 197  \n",
    "`'æ'` - 230  \n",
    "`'Æ'` - 198  \n",
    "`'ø'` - 248  \n",
    "`'Ø'` - 216  \n",
    "\n",
    "\n",
    "Dette kan medføre at koden i oppgave b) ikke alltid vil gi korrekt svar, siden 'å' kommer før 'æ' og 'ø' i ASCII-tabellen, men etter 'æ' og 'ø' i det norske alfabetet.\n",
    "\n",
    "(Frivillig) Om du ønsker kan du endre på koden din slik at dette blir tatt hensyn til. Her må du nok benytte deg av stoff som ikke er gjennomgått enda."
   ]
  },
  {
   "cell_type": "markdown",
   "metadata": {
    "deletable": false,
    "editable": false,
    "nbgrader": {
     "cell_type": "markdown",
     "checksum": "ca2270a7c9c47ed42243f55f46f957f8",
     "grade": false,
     "grade_id": "cell-0ccf3eb523cc8ca1",
     "locked": true,
     "schema_version": 3,
     "solution": false,
     "task": false
    }
   },
   "source": [
    "## c)\n",
    "\n",
    "Finn ut hva kodesnuttene under vil skrive ut til skjermen, og prøvekjør de etterpå for å verifisere.\n",
    "\n",
    "```python\n",
    "#Kodesnutt 1:\n",
    "if 'k' < 'b':\n",
    "    print('k er mindre enn b')\n",
    "else:\n",
    "    print('k er større enn b')\n",
    "  \n",
    "  \n",
    "#Kodesnutt 2:\n",
    "ny = \"New York\"\n",
    "la = \"Los Angeles\"\n",
    "  \n",
    "if ny < la:\n",
    "    print(ny)\n",
    "    print(la)\n",
    "else:\n",
    "    print(la)\n",
    "    print(ny)\n",
    "  \n",
    "  \n",
    "#Kodesnutt 3:\n",
    "d1 = \"DRuEr\"\n",
    "d2 = \"drUer\"\n",
    "if d1.lower() < d2.lower():\n",
    "    print(d1)\n",
    "    print(d2)\n",
    "else:\n",
    "    print(d2.lower())\n",
    "```\n",
    "\n",
    "**Svar for kodesnutt 1 (Trykk på teksten under for å skrive):**"
   ]
  },
  {
   "cell_type": "code",
   "execution_count": null,
   "metadata": {},
   "outputs": [],
   "source": []
  },
  {
   "cell_type": "markdown",
   "metadata": {
    "deletable": false,
    "editable": false,
    "nbgrader": {
     "cell_type": "markdown",
     "checksum": "59b93e110e243cc066671a1fe7d0e594",
     "grade": false,
     "grade_id": "cell-6cc563ebeeb0a0b7",
     "locked": true,
     "schema_version": 3,
     "solution": false,
     "task": false
    }
   },
   "source": [
    "### Se løsning:\n",
    "\n",
    "<li><a href=\"LF_Tutorial/Sammenligning%20av%20strenger%20-%20lf.ipynb\">Sammenligning av strenger løsningsforslag</a></li>"
   ]
  }
 ],
 "metadata": {
  "kernelspec": {
   "display_name": "Python 3",
   "language": "python",
   "name": "python3"
  },
  "language_info": {
   "codemirror_mode": {
    "name": "ipython",
    "version": 3
   },
   "file_extension": ".py",
   "mimetype": "text/x-python",
   "name": "python",
   "nbconvert_exporter": "python",
   "pygments_lexer": "ipython3",
   "version": "3.8.3"
  }
 },
 "nbformat": 4,
 "nbformat_minor": 4
}
