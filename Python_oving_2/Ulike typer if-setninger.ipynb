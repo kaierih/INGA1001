{
 "cells": [
  {
   "cell_type": "markdown",
   "metadata": {
    "deletable": false,
    "editable": false,
    "nbgrader": {
     "cell_type": "markdown",
     "checksum": "0757f4b167d7ca7d33f8ad8b5c2789cb",
     "grade": false,
     "grade_id": "cell-c4cc15e830672647",
     "locked": true,
     "schema_version": 3,
     "solution": false,
     "task": false
    }
   },
   "source": [
    "<nav class=\"navbar navbar-default\">\n",
    "  <div class=\"container-fluid\">\n",
    "    <div class=\"navbar-header\">\n",
    "      <a class=\"navbar-brand\" href=\"_Python_oving_2.ipynb\">Øving 2</a>\n",
    "    </div>\n",
    "    <ul class=\"nav navbar-nav\">\n",
    "    <li class=\"active\"><a href=\"Ulike%20typer%20if-setninger.ipynb\">Ulike typer if-setninger</a></li>\n",
    "    <li><a href=\"Sammenligning%20av%20strenger.ipynb\">Sammenligning av strenger</a></li>\n",
    "    <li><a href=\"Logiske%20operatorer%20og%20logiske%20uttrykk.ipynb\">Logiske operatorer og logiske uttrykk</a></li>\n",
    "    <li><a href=\"Forbrytelse%20og%20straff.ipynb\">Forbrytelse og straff</a></li>\n",
    "    <li><a href=\"Billettpriser%20og%20rabatter.ipynb\">Billettpriser og rabatter</a></li>\n",
    "    <li><a href=\"Arstider.ipynb\">Årstider</a></li>\n",
    "    <li><a href=\"Sjakkbrett.ipynb\">Sjakkbrett</a></li>\n",
    "    <li><a href=\"Andregradsligning.ipynb\">Andregradsligning</a></li>\n",
    "    </ul>\n",
    "  </div>\n",
    "</nav>\n",
    "\n",
    "# Ulike typer if-setninger\n",
    "\n",
    "**Læringsmål:**\n",
    "\n",
    "- Betingelser"
   ]
  },
  {
   "cell_type": "markdown",
   "metadata": {
    "deletable": false,
    "editable": false,
    "nbgrader": {
     "cell_type": "markdown",
     "checksum": "c5d36f316877b4d98ee849d853ca4ca2",
     "grade": false,
     "grade_id": "cell-d9efafdce147ae97",
     "locked": true,
     "schema_version": 3,
     "solution": false,
     "task": false
    }
   },
   "source": [
    "## Generelt om if-setninger\n",
    "Dette er ikke en del av oppgaven, men kan være lurt å lese før du begynnner. \n",
    "\n",
    "I oppgavene i øving 1 har det vært slik at alle setningene i programmet skulle utføres hver gang programmet kjørte. De fleste nyttige programmer er ikke så enkle. Ofte skal visse programsetninger kun utføres under gitte betingelser. Overtidslønn skal utbetales bare hvis det har vært jobbet overtid. Monsteret du kjemper mot i et spill, skal miste liv bare hvis skuddet eller sverdslaget ditt har truffet. En alarm skal aktiveres bare hvis pasientens hjerterytme er blitt unormal. En sosial app på mobilen skal gi et spesielt varsel bare hvis du har fått nye meldinger der. Kodeblokken nedenfor viser et eksempel hvor alle linjene blir utført - dette programmet vil anbefale paraply uansett hvordan været er."
   ]
  },
  {
   "cell_type": "code",
   "execution_count": null,
   "metadata": {},
   "outputs": [],
   "source": [
    "regn = float(input(\"Hvor mange mm regn er det meldt? \"))\n",
    "print(\"Da anbefaler jeg paraply!\")\n",
    "print(\"Ha en fin tur til universitetet!\")"
   ]
  },
  {
   "cell_type": "markdown",
   "metadata": {
    "deletable": false,
    "editable": false,
    "nbgrader": {
     "cell_type": "markdown",
     "checksum": "6398f3e21b1b1d5a49f313a4290e35b0",
     "grade": false,
     "grade_id": "cell-047d14e943d47ceb",
     "locked": true,
     "schema_version": 3,
     "solution": false,
     "task": false
    }
   },
   "source": [
    "Paraply bør anbefales bare ved behov, f.eks. hvis det var meldt mer enn 0.2 mm regn. Det oppnår vi med en if-setning:"
   ]
  },
  {
   "cell_type": "code",
   "execution_count": null,
   "metadata": {},
   "outputs": [],
   "source": [
    "regn = float(input(\"Hvor mange mm regn er det meldt? \"))\n",
    "if regn > 0.2:\n",
    "    print(\"Da anbefaler jeg paraply!\")\n",
    "print(\"Ha en fin tur til universitetet!\")"
   ]
  },
  {
   "cell_type": "markdown",
   "metadata": {
    "deletable": false,
    "editable": false,
    "nbgrader": {
     "cell_type": "markdown",
     "checksum": "eea8d77850244a165bf877c78d64b3e8",
     "grade": false,
     "grade_id": "cell-002c08945ea2fae6",
     "locked": true,
     "schema_version": 3,
     "solution": false,
     "task": false
    }
   },
   "source": [
    "Den ovenstående kodeblokken viser en if-setning. Den har følgende struktur:\n",
    "\n",
    "- starter med ordet `if`, dette er et beskyttet ord i Python og kan derfor ikke brukes som variabelnavn e.l.\n",
    "- bak if kommer en logisk betingelse - i dette tilfellet `regn > 0.2` - som vil være enten sann (`True`) eller usann (`False`), her avhengig av innholdet i variabelen regn\n",
    "- bak betingelsen **må** if-setningen ha `:` **(kolon)** - hvis du glemmer kolon vil du få syntaksfeil. \n",
    "- kodelinjen like under if har et innrykk (tabulator), dette betyr at denne linjen - `print(\"Da anbefaler jeg paraply\")` - er del av if-setningen. Den vil bli utført **kun hvis betingelsen i if-setningen er sann**, som vil inntreffe hvis brukeren skriver inn et større tall enn 0.2\n",
    "\n",
    "Siste setning, `print(\"Ha en fin tur til universitetet!\")` , har derimot ikke innrykk, denne vil derfor bli utført uansett og er ikke knyttet til if-setningen. \n",
    "\n",
    "Det er mulig å ha flere programsetninger som del av if-setningen, for eksempel:"
   ]
  },
  {
   "cell_type": "code",
   "execution_count": null,
   "metadata": {},
   "outputs": [],
   "source": [
    "regn = float(input(\"Hvor mange mm regn er det meldt? \"))\n",
    "if regn > 0.2:\n",
    "    print(\"Da anbefaler jeg paraply!\")\n",
    "    print(\"Gjerne en paraply med NTNU-logo.\")\n",
    "print(\"Ha en fin tur til universitetet!\")"
   ]
  },
  {
   "cell_type": "markdown",
   "metadata": {
    "deletable": false,
    "editable": false,
    "nbgrader": {
     "cell_type": "markdown",
     "checksum": "4301d955d2a830e6e3c950b8db303aa9",
     "grade": false,
     "grade_id": "cell-0cca49787ad98725",
     "locked": true,
     "schema_version": 3,
     "solution": false,
     "task": false
    }
   },
   "source": [
    "Her vil begge \"print\"-setningene om paraply kun bli utført hvis betingelsen er sann, mens \"fin tur\"-setningen fortsatt blir utført uansett utfall av if-setningen.\n",
    "\n",
    "Altså: I Python viser innrykk hvor mange av de påfølgende setningene som styres av if-betingelsen. Det er derfor viktig å være nøye med innrykkene og få alle programsetninger på korrekt indentasjonsnivå.\n",
    "\n",
    "Test gjerne ut koden over med forskjellige svar på mm regn for å se hvordan den virker.\n"
   ]
  },
  {
   "cell_type": "markdown",
   "metadata": {
    "deletable": false,
    "editable": false,
    "nbgrader": {
     "cell_type": "markdown",
     "checksum": "58125e1eab88a9008e58e8286a3941fd",
     "grade": false,
     "grade_id": "cell-c5f8444efac37110",
     "locked": true,
     "schema_version": 3,
     "solution": false,
     "task": false
    }
   },
   "source": [
    "## a)\n",
    "\n",
    "Du lager en banankake som skal stå minst 50 min i ovnen. Ta utgangspunkt i følgende program, som har den svakheten at det sier at kaken skal ut uansett hvor lenge den har stekt.\n",
    "\n",
    "___Endre programmet slik at \"Kaken kan tas ut av ovnen\" kun printes hvis kaken har stått minst 50 minutt. \"Større eller lik\" skrives i Python >=___  \n",
    "___Tips til servering... skal derimot printes uansett.___"
   ]
  },
  {
   "cell_type": "code",
   "execution_count": null,
   "metadata": {},
   "outputs": [],
   "source": [
    "tid = int(input(\"Hvor mange minutt har kaken stått i ovnen? \"))\n",
    "print(\"Kaken kan tas ut av ovnen.\")a\n",
    "print(\"Tips til servering: vaniljeis.\")"
   ]
  },
  {
   "cell_type": "markdown",
   "metadata": {
    "deletable": false,
    "editable": false,
    "nbgrader": {
     "cell_type": "markdown",
     "checksum": "f3e006348ebe448978998b2fe24f538c",
     "grade": false,
     "grade_id": "cell-6a2de3859a5748ea",
     "locked": true,
     "schema_version": 3,
     "solution": false,
     "task": false
    }
   },
   "source": [
    "Eksempel på utskrift fra tre ulike kjøringer, hvis du har fått det til riktig:\n",
    "```\n",
    "Hvor mange minutt har kaken stått i ovnen? 35  \n",
    "Tips til servering: vaniljeis.  \n",
    ">>>  \n",
    "  \n",
    "Hvor mange minutt har kaken stått i ovnen? 50  \n",
    "Kaken kan tas ut av ovnen.  \n",
    "Tips til servering: vaniljeis.  \n",
    ">>>\n",
    "  \n",
    "Hvor mange minutt har kaken stått i ovnen? 65  \n",
    "Kaken kan tas ut av ovnen.  \n",
    "Tips til servering: vaniljeis.\n",
    ">>>\n",
    "```"
   ]
  },
  {
   "cell_type": "markdown",
   "metadata": {
    "deletable": false,
    "editable": false,
    "nbgrader": {
     "cell_type": "markdown",
     "checksum": "8c60f674e3e7306d030a6d610c381bde",
     "grade": false,
     "grade_id": "cell-f4f582869dbae4a1",
     "locked": true,
     "schema_version": 3,
     "solution": false,
     "task": false
    }
   },
   "source": [
    "## b)\n",
    "Ta utgangspunkt i følgende program, som ber brukeren taste inn antall epler og antall barn og deretter regner ut hvor mange epler det blir på hver."
   ]
  },
  {
   "cell_type": "code",
   "execution_count": null,
   "metadata": {},
   "outputs": [],
   "source": [
    "epler = int(input(\"Hvor mange epler har du? \"))\n",
    "barn = int(input(\"Hvor mange barn passer du? \"))\n",
    "print(\"Da blir det\", epler // barn, \"epler til hvert barn\")\n",
    "print(\"og\", epler % barn, \"epler til overs til deg selv.\")\n",
    "print(\"Takk for i dag!\")"
   ]
  },
  {
   "cell_type": "markdown",
   "metadata": {
    "deletable": false,
    "editable": false,
    "nbgrader": {
     "cell_type": "markdown",
     "checksum": "9c1f403e7c181922b33357658d49a301",
     "grade": false,
     "grade_id": "cell-c253f39ce99fa9c7",
     "locked": true,
     "schema_version": 3,
     "solution": false,
     "task": false
    }
   },
   "source": [
    "Under vises to kjøreeksempler:\n",
    "```\n",
    "Hvor mange epler har du? 14  \n",
    "Hvor mange barn passer du? 3  \n",
    "Da blir det 4 epler til hvert barn  \n",
    "og 2 epler til overs til deg selv.  \n",
    "Takk for i dag!\n",
    ">>>>```\n",
    "  \n",
    "```\n",
    "Hvor mange epler har du? 4  \n",
    "Hvor mange barn passer du? 0  \n",
    "Traceback (most recent call last):  \n",
    "  ...  \n",
    "ZeroDivisionError: integer division or modulo by zero  \n",
    ">>>```\n",
    "\n",
    "\n",
    "Det første, hvor brukeren skriver inn tallene 14 og 3, funker fint. Hvis brukeren derimot svarer 0 barn, vil programmet gi feilmelding (`ZeroDivisionError`) fordi det er umulig å dele på null. Negativt antall barn vil \"funke\", men ikke gi mening.\n",
    "\n",
    "___Endre koden slik at de to print-setningene som forteller hvor mange epler det blir til barna og deg selv KUN utføres hvis barn > 0. \"Takk for i dag!\" skal derimot printes uansett.___\n",
    "\n",
    " Kjøring med barn > 0 skal gi samme resultat som eksemplet øverst. Eksemplet under viser kjøring hvis det skrives 0 for barn:\n",
    " \n",
    " ```\n",
    "Hvor mange epler har du? 4  \n",
    "Hvor mange barn passer du? 0  \n",
    "Takk for i dag!\n",
    "```\n",
    " "
   ]
  },
  {
   "cell_type": "markdown",
   "metadata": {
    "deletable": false,
    "editable": false,
    "nbgrader": {
     "cell_type": "markdown",
     "checksum": "af4c47549e55440c916565756b1530de",
     "grade": false,
     "grade_id": "cell-9e6857d0f8baac7b",
     "locked": true,
     "schema_version": 3,
     "solution": false,
     "task": false
    }
   },
   "source": [
    "## Generelt om if-else-setninger\n",
    "Dette er ikke en del av oppgaven, men kan være lurt å lese før du går videre.\n",
    "\n",
    "I eksemplene knyttet til (a) og (b) skulle vi gjøre noe ekstra hvis en betingelse var sann, ellers la være. I andre tilfeller kan vi ønske å gjøre en handling hvis betingelsen er sann, og en alternativ handling hvis den er usann.\n",
    "\n",
    "Det kan vi oppnå med en **if-else**-setning. Eksemplet nedenfor bygger videre på tilsvarende eksempel for if-setninger."
   ]
  },
  {
   "cell_type": "code",
   "execution_count": null,
   "metadata": {},
   "outputs": [],
   "source": [
    "regn = float(input(\"Hvor mange mm regn er det meldt? \"))\n",
    "if regn > 0.2:\n",
    "    print(\"Da anbefaler jeg paraply!\")\n",
    "    print(\"Gjerne en paraply med NTNU-logo.\")\n",
    "else:\n",
    "    print(\"Hva med ei T-skjorte med NTNU-logo?\")\n",
    "print(\"Ha en fin tur til universitetet!\")"
   ]
  },
  {
   "cell_type": "markdown",
   "metadata": {
    "deletable": false,
    "editable": false,
    "nbgrader": {
     "cell_type": "markdown",
     "checksum": "d834db5fe235804da44ad3e9eb370783",
     "grade": false,
     "grade_id": "cell-8700182c7de910b0",
     "locked": true,
     "schema_version": 3,
     "solution": false,
     "task": false
    }
   },
   "source": [
    "I dette eksemplet vil følgende skje hvis vi svarer mer enn 0.2 mm nedbør slik at betingelsen blir sann:\n",
    "\n",
    "**Eksempel på kjøring med over 0.2 mm nedbør:**\n",
    "```\n",
    "Hvor mange mm regn er det meldt? 0.5\n",
    "Da anbefaler jeg paraply!\n",
    "Gjerne en paraply med NTNU-logo.\n",
    "Ha en fin tur til universitetet!\n",
    "```\n",
    "\n",
    "Svares det derimot et lavere tall, slik at betingelsen blir usann, skjer følgende:\n",
    "\n",
    "**Eksempel på kjøring med under 0.2 mm nedbør:**  \n",
    "```\n",
    "Hvor mange mm regn er det meldt? 0.0\n",
    "Hva med ei T-skjorte med NTNU-logo?\n",
    "Ha en fin tur til universitetet!\n",
    "```\n",
    "\n",
    "Altså:\n",
    "- De to setningene som står på innrykk under `if` blir utført bare hvis betingelsen er sann.\n",
    "- Setningen som står på innrykk under `else` blir utført bare hvis betingelsen er usann (kunne også hatt flere setninger på innrykk etter `else`).\n",
    "- Den siste printen, som ikke har innrykk (Ha en fin tur...), blir utført uansett."
   ]
  },
  {
   "cell_type": "markdown",
   "metadata": {
    "deletable": false,
    "editable": false,
    "nbgrader": {
     "cell_type": "markdown",
     "checksum": "d3b63ec3a600b34134751b2ad89016d9",
     "grade": false,
     "grade_id": "cell-48b0dbf7f103b518",
     "locked": true,
     "schema_version": 3,
     "solution": false,
     "task": false
    }
   },
   "source": [
    "## c)\n",
    "\n",
    "I denne deloppgaven skal det lages et program som sjekker om en person kan stemme, altså om personen er 18 år eller eldre. Man må da spørre brukeren om alder og lagre svaret i en variabel, for deretter å sjekke om brukerens alder er 18 eller mer.\n",
    "\n",
    "**Eksempel på kjøring**\n",
    "\n",
    "```\n",
    "Skriv inn din alder: 19\n",
    "Du kan stemme:)\n",
    "```\n",
    "  \n",
    "```\n",
    "Skriv inn din alder: 18\n",
    "Du kan stemme:)\n",
    "```\n",
    "  \n",
    "```\n",
    "Skriv inn din alder: 2\n",
    "Du kan ikke stemme ennå\n",
    "```\n",
    "\n",
    "***Skriv din kode her:***"
   ]
  },
  {
   "cell_type": "code",
   "execution_count": null,
   "metadata": {},
   "outputs": [],
   "source": []
  },
  {
   "cell_type": "markdown",
   "metadata": {
    "deletable": false,
    "editable": false,
    "nbgrader": {
     "cell_type": "markdown",
     "checksum": "48b1a49c7e5d130a761ef5534443ba9d",
     "grade": false,
     "grade_id": "cell-7d74a30d52ec87a6",
     "locked": true,
     "schema_version": 3,
     "solution": false,
     "task": false
    }
   },
   "source": [
    "#### Fremgangsmåte:\n",
    "\n",
    "1. Lag en variabel kalt `alder` ved å skrive: \n",
    "2. `alder = int(input(\"Skriv inn din alder: \"))`\n",
    "3. Sjekk, vha. if, om personens alder er større eller lik 18 (`alder >= 18`). Om dette er tilfelle skal \"Du kan stemme:)\" skrives ut til skjerm\n",
    "Lag en `else`-blokk med koden `print(\"Du kan ikke stemme ennå\")`\n",
    "\n",
    "(Det er flere mulige løsninger på denne oppgaven.)"
   ]
  },
  {
   "cell_type": "markdown",
   "metadata": {
    "deletable": false,
    "editable": false,
    "nbgrader": {
     "cell_type": "markdown",
     "checksum": "8c95aac27a0438a5b60c42434ad16ac6",
     "grade": false,
     "grade_id": "cell-d9f4f747a788f0e3",
     "locked": true,
     "schema_version": 3,
     "solution": false,
     "task": false
    }
   },
   "source": [
    "## Generelt om if-elif-else-setninger\n",
    "\n",
    "I eksemplene vi har sett hittil, har det vært kun to mulige utfall på betingelsene - kaken har stått >= 50 minutt, eller ikke; antall barn er > 0, eller ikke; alder er over 18, eller ikke. I mange praktiske situasjoner kan det være tre eller flere mulige utfall.\n",
    "\n",
    "F.eks. hvis det var meldt mer enn 3 mm nedbør er kanskje ikke paraply tilstrekkelig, vi ville heller anbefale støvler og regntøy.  Vårt tidligere eksempel kunne da utvides som følger:"
   ]
  },
  {
   "cell_type": "code",
   "execution_count": null,
   "metadata": {},
   "outputs": [],
   "source": [
    "# EKSEMPEL 1\n",
    "regn = float(input(\"Hvor mange mm regn er det meldt? \"))\n",
    "if regn > 3.0:\n",
    "    print(\"Da anbefaler jeg støvler og regntøy!\")\n",
    "elif regn > 0.2:\n",
    "    print(\"Da anbefaler jeg paraply!\")\n",
    "    print(\"Gjerne en paraply med NTNU-logo.\")\n",
    "else:\n",
    "    print(\"Hva med ei T-skjorte med NTNU-logo?\")\n",
    "print(\"Ha en fin tur til universitetet!\")"
   ]
  },
  {
   "cell_type": "markdown",
   "metadata": {
    "deletable": false,
    "editable": false,
    "nbgrader": {
     "cell_type": "markdown",
     "checksum": "e582f3e67693ce454ba78432a127ce1e",
     "grade": false,
     "grade_id": "cell-a7e540ec70e3bab6",
     "locked": true,
     "schema_version": 3,
     "solution": false,
     "task": false
    }
   },
   "source": [
    "Under vises tre kjøringer av denne koden:\n",
    "\n",
    "```\n",
    "Hvor mange mm regn er det meldt? 4.2\n",
    "Da anbefaler jeg støvler og regntøy!\n",
    "Ha en fin tur til universitetet!\n",
    ">>>\n",
    "```\n",
    "\n",
    "```\n",
    "Hvor mange mm regn er det meldt? 0.5\n",
    "Da anbefaler jeg paraply!\n",
    "Gjerne en paraply med NTNU-logo.\n",
    "Ha en fin tur til universitetet!\n",
    ">>>\n",
    "```\n",
    "\n",
    "```\n",
    "Hvor mange mm regn er det meldt? 0.0\n",
    "Hva med ei T-skjorte med NTNU-logo?\n",
    "Ha en fin tur til universitetet!\n",
    "```"
   ]
  },
  {
   "cell_type": "markdown",
   "metadata": {
    "deletable": false,
    "editable": false,
    "nbgrader": {
     "cell_type": "markdown",
     "checksum": "03d365d16d8d5ce3d5319a37db70484e",
     "grade": false,
     "grade_id": "cell-357ae651391143da",
     "locked": true,
     "schema_version": 3,
     "solution": false,
     "task": false
    }
   },
   "source": [
    "Hvis betingelsen `regn > 3.0` er sann, utføres kun printen som anbefaler støvler og regntøy, deretter går programmet til første setning etter hele if-elif-else-setningen (\"Ha en fin tur...\")\n",
    "\n",
    "Hvis betingelsen `regn > 3.0` er usann, utføres **ikke** printen om støvler, programmet sjekker i stedet betingelsen på `elif`. Hvis denne er sann, skrives setningene om paraply, ellers T-skjorte som tidligere.\n",
    "\n",
    "Det er mulig å klare seg uten if-elif-else-setninger og i stedet bare putte if-else-setninger inni hverandre for å oppnå det samme. Eksemplet ovenfor kunne alternativt skrives:"
   ]
  },
  {
   "cell_type": "code",
   "execution_count": null,
   "metadata": {},
   "outputs": [],
   "source": [
    "# EKSEMPEL 2\n",
    "regn = float(input(\"Hvor mange mm regn er det meldt? \"))\n",
    "if regn > 3.0:\n",
    "    print(\"Da anbefaler jeg støvler og regntøy!\")\n",
    "else:\n",
    "    if regn > 0.2:\n",
    "        print(\"Da anbefaler jeg paraply!\")\n",
    "        print(\"Gjerne en paraply med NTNU-logo.\")\n",
    "    else:\n",
    "        print(\"Hva med ei T-skjorte med NTNU-logo?\")\n",
    "print(\"Ha en fin tur til universitetet!\")"
   ]
  },
  {
   "cell_type": "markdown",
   "metadata": {
    "deletable": false,
    "editable": false,
    "nbgrader": {
     "cell_type": "markdown",
     "checksum": "9d78fb5ac9970fcbecb168615dcd35c3",
     "grade": false,
     "grade_id": "cell-f4eda0a2a2f2101f",
     "locked": true,
     "schema_version": 3,
     "solution": false,
     "task": false
    }
   },
   "source": [
    "Særlig i tilfeller hvor det dreier seg om tre eller flere alternative utfall basert på verdien av den **samme variabelen** (f.eks. `regn` her) vil de fleste oppfatte **if-elif-else**-setninger som både lettere å skrive og lettere å forstå, enn flere nøstede if-else-setninger.\n",
    "\n",
    "Ett typisk eksempel er antall oppnådde poeng på en eksamen, som kan transformeres til en bokstavkarakter A-F etter gitte grenser. Det er da 6 mulige utfall, dette gir mye innrykk og blir vanskelig å lese med nøstede if-setninger:"
   ]
  },
  {
   "cell_type": "code",
   "execution_count": null,
   "metadata": {},
   "outputs": [],
   "source": [
    "# EKSEMPEL 3\n",
    "score = int(input(\"Antall poeng: \"))\n",
    "  \n",
    "if score >= 89:\n",
    "    karakter = \"A\"\n",
    "else:\n",
    "    if score >= 77:\n",
    "        karakter = \"B\"\n",
    "    else:\n",
    "        if score >= 65:\n",
    "            karakter = \"C\"\n",
    "        else:\n",
    "            if score >= 53:\n",
    "                karakter = \"D\"\n",
    "            else:\n",
    "                if score >= 41:\n",
    "                    karakter = \"E\"\n",
    "                else:\n",
    "                    karakter = \"F\"\n",
    "  \n",
    "print(\"Du fikk\", karakter)"
   ]
  },
  {
   "cell_type": "markdown",
   "metadata": {
    "deletable": false,
    "editable": false,
    "nbgrader": {
     "cell_type": "markdown",
     "checksum": "c030c64554c56b15ef8ed97828825b16",
     "grade": false,
     "grade_id": "cell-e7a08fa3262b2977",
     "locked": true,
     "schema_version": 3,
     "solution": false,
     "task": false
    }
   },
   "source": [
    "if-elif-else-setning vil være klart å foretrekke i en slik situasjon; det er mye lettere å se at koden her tar en beslutning med 6 alternativer basert på verdien av en enkelt variabel:"
   ]
  },
  {
   "cell_type": "code",
   "execution_count": null,
   "metadata": {},
   "outputs": [],
   "source": [
    "# EKSEMPEL 4\n",
    "score = int(input(\"Antall poeng: \"))\n",
    "  \n",
    "if score >= 89:\n",
    "    karakter = \"A\"\n",
    "elif score >= 77:\n",
    "    karakter = \"B\"\n",
    "elif score >= 65:\n",
    "    karakter = \"C\"\n",
    "elif score >= 53:\n",
    "    karakter = \"D\"\n",
    "elif score >= 41:\n",
    "    karakter = \"E\"\n",
    "else:\n",
    "    karakter = \"F\"\n",
    " \n",
    "print(\"Du fikk\", karakter)"
   ]
  },
  {
   "cell_type": "markdown",
   "metadata": {
    "deletable": false,
    "editable": false,
    "nbgrader": {
     "cell_type": "markdown",
     "checksum": "703c75cd5f03a10b0c76c90529593bd9",
     "grade": false,
     "grade_id": "cell-effc653d10b5008c",
     "locked": true,
     "schema_version": 3,
     "solution": false,
     "task": false
    }
   },
   "source": [
    "Ved bruk av if-elif-else er det avgjørende at betingelsene kommer i riktig rekkefølge. Anta at vi hadde gjort karaktereksemplet motsatt:"
   ]
  },
  {
   "cell_type": "code",
   "execution_count": null,
   "metadata": {},
   "outputs": [],
   "source": [
    "# EKSEMPEL 5\n",
    "# HER HAR VI MED VILJE HAR GJORT FEIL\n",
    "score = int(input(\"Antall poeng: \"))\n",
    " \n",
    "if score >= 0:\n",
    "    karakter = \"F\"\n",
    "elif score >= 41:\n",
    "    karakter = \"E\"\n",
    "elif score >= 53:\n",
    "    karakter = \"D\"\n",
    "elif score >= 65:\n",
    "    karakter = \"C\"\n",
    "elif score >= 77:\n",
    "    karakter = \"B\"\n",
    "elif score >= 89:\n",
    "    karakter = \"A\"\n",
    " \n",
    "print(\"Du fikk\", karakter)"
   ]
  },
  {
   "cell_type": "markdown",
   "metadata": {
    "deletable": false,
    "editable": false,
    "nbgrader": {
     "cell_type": "markdown",
     "checksum": "b5417f96d95e17601bbfe562e3d5eba6",
     "grade": false,
     "grade_id": "cell-478bbd9e578dd855",
     "locked": true,
     "schema_version": 3,
     "solution": false,
     "task": false
    }
   },
   "source": [
    "Her vil øverste betingelse vil være sann for alle eksamensbesvarelser - og alle ender opp med karakteren F.\n",
    "\n",
    "Det er også viktig når det er snakk om alternativt ekskluderende utfall av samme beslutning at vi bruker **if-elif-else**-setning; **IKKE en serie med frittstående if-setninger**.\n",
    "\n",
    "Eksempel 6 under ser nesten ut som Eksempel 4, bare at vi kun skriver `if` der vi før skrev `elif`:"
   ]
  },
  {
   "cell_type": "code",
   "execution_count": null,
   "metadata": {},
   "outputs": [],
   "source": [
    "# EKSEMPEL 6\n",
    "# HER HAR VI MED VILJE HAR GJORT FEIL\n",
    "score = int(input(\"Antall poeng: \"))\n",
    "  \n",
    "if score >= 89:\n",
    "    karakter = \"A\"\n",
    "if score >= 77:\n",
    "    karakter = \"B\"\n",
    "if score >= 65:\n",
    "    karakter = \"C\"\n",
    "if score >= 53:\n",
    "    karakter = \"D\"\n",
    "if score >= 41:\n",
    "    karakter = \"E\"\n",
    "else:\n",
    "    karakter = \"F\"\n",
    " \n",
    "print(\"Du fikk\",karakter)"
   ]
  },
  {
   "cell_type": "markdown",
   "metadata": {
    "deletable": false,
    "editable": false,
    "nbgrader": {
     "cell_type": "markdown",
     "checksum": "509d9dd51fcc90be69891684f95d19a8",
     "grade": false,
     "grade_id": "cell-1201506cd600a0ab",
     "locked": true,
     "schema_version": 3,
     "solution": false,
     "task": false
    }
   },
   "source": [
    "En student som har fått 92 poeng vil her komme riktig ut av den første if-setningen, og karakter settes til A. Men 92 > 77 er også sant, så karakter omgjøres deretter til B. Så til C, så til D, så til E.\n",
    "\n",
    "De eneste tilfellene som dette programmet vil takle korrekt blir dermed studenter som skal ha E eller F.\n",
    "\n",
    "Feilen her er at vi bruker nye frittstående if-setninger (dvs. som ikke er relatert til hverandre), mens vi egentlig har å gjøre med gjensidig ekskluderende alternativer som skulle vært løst med if-elif-else.\n",
    "\n",
    "Hvor er det eventuelt riktig å bruke frittstående if-setninger? Jo, hvis det er snakk om flere uavhengige beslutninger. I eksempel 7 under er det to uavhengige beslutninger, den ene om man skal ta paraply eller ikke, den andre om brodder eller ikke. Hver beslutning tas uavhengig av den andre, da blir det riktig med to frittstående if-setninger.\n",
    "\n",
    "Hadde vi i stedet brukt if-elif her, ville programmet ikke ha virket som det skulle, da det kun ville ha vært i stand til å anbefale brodder i oppholdsvær (mens det jo kan være minst like glatt om det regner)."
   ]
  },
  {
   "cell_type": "code",
   "execution_count": null,
   "metadata": {},
   "outputs": [],
   "source": [
    "# EKSEMPEL 7\n",
    "regn = float(input(\"Hvor mange mm regn er det meldt? \"))\n",
    "glatt = int(input(\"Hvor glatt er det, fra 0 (ikke) til 10 (blank is)? \"))\n",
    "if regn > 0.2:\n",
    "    print(\"Da anbefaler jeg paraply.\")\n",
    "if glatt > 8:\n",
    "    print(\"Da anbefaler jeg sko med brodder eller pigger.\")"
   ]
  },
  {
   "cell_type": "markdown",
   "metadata": {
    "deletable": false,
    "editable": false,
    "nbgrader": {
     "cell_type": "markdown",
     "checksum": "2703260ecade28395124926593cd0d49",
     "grade": false,
     "grade_id": "cell-7305c58f2f26aa42",
     "locked": true,
     "schema_version": 3,
     "solution": false,
     "task": false
    }
   },
   "source": [
    "I andre tilfeller kan en beslutning være avhengig av en annen, f.eks. kun være aktuell ved et visst utfall av en foregående if-setning. Som i eksempel 8 under:"
   ]
  },
  {
   "cell_type": "code",
   "execution_count": null,
   "metadata": {},
   "outputs": [],
   "source": [
    "# EKSEMPEL 8\n",
    "regn = float(input(\"Hvor mange mm regn er det meldt? \"))\n",
    "vind = float(input(\"Hvor mange m/s vind er det meldt? \"))\n",
    "if regn > 0.2:\n",
    "    if vind < 7.0:\n",
    "        print(\"Da anbefaler jeg paraply.\")\n",
    "    else:\n",
    "        print(\"Anbefaler regntøy, for mye vind for paraply.\")"
   ]
  },
  {
   "cell_type": "markdown",
   "metadata": {
    "deletable": false,
    "editable": false,
    "nbgrader": {
     "cell_type": "markdown",
     "checksum": "5efb9443974961775bad9c3bae045b04",
     "grade": false,
     "grade_id": "cell-a4f0554626bd0d57",
     "locked": true,
     "schema_version": 3,
     "solution": false,
     "task": false
    }
   },
   "source": [
    "Her ville if `regn > 0.2:` .....`elif vind < 7.0` ha blitt feil.\n",
    "\n",
    "Programmet ville da ha gjort vurderinger av vinden kun hvis det ikke regnet, og dermed ha vært ute av stand til å fraråde paraply hvis det regner og samtidig blåser kraftig.\n",
    "\n",
    "**Oppsummert:**\n",
    "\n",
    "- flere helt uavhengige beslutninger: bruk frittstående if-setninger\n",
    "- beslutning med gjensidig utelukkende handlingsalternativer: bruk if-else (2 alternativer) eller if-elif-else (3 eller flere alternativer)\n",
    "- beslutninger relatert på annen måte, f.eks. at en betingelse (som `vind < 7.0` ovenfor) kun er aktuell gitt et visst utfall av en annen betingelse: kan løses ved å nøste flere if-setninger inni hverandre\n"
   ]
  },
  {
   "cell_type": "markdown",
   "metadata": {
    "deletable": false,
    "editable": false,
    "nbgrader": {
     "cell_type": "markdown",
     "checksum": "749fc97246c10d27628090348a28daf7",
     "grade": false,
     "grade_id": "cell-dc40a6638d4dc364",
     "locked": true,
     "schema_version": 3,
     "solution": false,
     "task": false
    }
   },
   "source": [
    "## d)\n",
    "\n",
    "Lag en utvidet versjon av programmet fra (c) som sier om personen kan stemme eller ikke, med følgende regler:\n",
    "\n",
    "- `alder >= 18`: Kan stemme både ved lokalvalg og Stortingsvalg\n",
    "- `alder >= 16`: Kan stemme ved lokalvalg, men ikke ved Stortingsvalg\n",
    "- ellers (`alder < 16`): Kan ikke stemme.\n",
    "\n",
    "Eksempel på kjøring:\n",
    "\n",
    "```\n",
    "Skriv inn din alder: 19\n",
    "Du kan stemme både ved lokalvalg og Stortingsvalg\n",
    ">>>>\n",
    "```\n",
    "\n",
    "```\n",
    "Skriv inn din alder: 17\n",
    "Du kan stemme ved lokalvalg, men ikke ved Stortingsvalg\n",
    ">>>>\n",
    "```\n",
    "\n",
    "```\n",
    "Skriv inn din alder: 12\n",
    "Du kan ikke stemme ennå\n",
    "```\n",
    "\n",
    "___Skriv din kode her:___"
   ]
  },
  {
   "cell_type": "code",
   "execution_count": null,
   "metadata": {},
   "outputs": [],
   "source": []
  },
  {
   "cell_type": "markdown",
   "metadata": {
    "deletable": false,
    "editable": false,
    "nbgrader": {
     "cell_type": "markdown",
     "checksum": "b51103bcd5f17675eccb919c9d0871d5",
     "grade": false,
     "grade_id": "cell-9c091ba3d1a4f24f",
     "locked": true,
     "schema_version": 3,
     "solution": false,
     "task": false
    }
   },
   "source": [
    "Du skal lage et program som sjekker hvilken billettpris en person skal betale ut ifra alderen til personen.\n",
    "\n",
    "Oversikt over alder og tilhørende billettpriser:\n",
    "\n",
    "Aldersgruppe | Billettpris\n",
    "--- | ---\n",
    "Under 3 år | Gratis\n",
    "3-11 år | 30 kr\n",
    "12-25 år | 50 kr\n",
    "26-66 år | 80 kr\n",
    "67 år og over | 40 kr\n",
    "\n",
    "___Skriv din kode her:___"
   ]
  },
  {
   "cell_type": "code",
   "execution_count": null,
   "metadata": {},
   "outputs": [],
   "source": []
  },
  {
   "cell_type": "markdown",
   "metadata": {
    "deletable": false,
    "editable": false,
    "nbgrader": {
     "cell_type": "markdown",
     "checksum": "e3560cc44bec492436caba6223986755",
     "grade": false,
     "grade_id": "cell-3834038506488ba1",
     "locked": true,
     "schema_version": 3,
     "solution": false,
     "task": false
    }
   },
   "source": [
    "#### Fremgangsmåte:\n",
    "\n",
    "1. Først må man ta inn alderen til personen. Dette gjøres ved å lage en variabel og ta inn input fra brukeren: `alder = int(input(\"Din alder: \"))`\n",
    "2. Videre skal man sjekke hvilken billett personen skal ha, og dette gjøres med en if-elif-else-setning:\n",
    "\n",
    "```\n",
    "if alder < 3:\n",
    "  ...\n",
    "elif alder < 12:\n",
    "  ...\n",
    "elif ...:\n",
    "  ...\n",
    "elif ...:\n",
    "  ...\n",
    "else:\n",
    "  ...\n",
    "```"
   ]
  },
  {
   "cell_type": "markdown",
   "metadata": {
    "deletable": false,
    "editable": false,
    "nbgrader": {
     "cell_type": "markdown",
     "checksum": "ee9347f37b9cdaec0850bf35623a8d7a",
     "grade": false,
     "grade_id": "cell-f5572cf1883410b3",
     "locked": true,
     "schema_version": 3,
     "solution": false,
     "task": false
    }
   },
   "source": [
    "### Se løsning:\n",
    "\n",
    "<li><a href=\"LF_Tutorial/Ulike%20typer%20if-setninger%20-%20lf.ipynb\">Ulike typer if-setninger løsningsforslag</a></li>"
   ]
  }
 ],
 "metadata": {
  "kernelspec": {
   "display_name": "Python 3",
   "language": "python",
   "name": "python3"
  },
  "language_info": {
   "codemirror_mode": {
    "name": "ipython",
    "version": 3
   },
   "file_extension": ".py",
   "mimetype": "text/x-python",
   "name": "python",
   "nbconvert_exporter": "python",
   "pygments_lexer": "ipython3",
   "version": "3.8.3"
  }
 },
 "nbformat": 4,
 "nbformat_minor": 4
}
