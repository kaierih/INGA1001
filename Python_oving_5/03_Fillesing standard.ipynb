{
 "cells": [
  {
   "cell_type": "markdown",
   "metadata": {},
   "source": [
    "# Fillesing med innebygde python-funksjoner\n",
    "\n",
    "Dette er en kort intro til fillesing slik det typisk skrives i lærebøker, hvor spesifiserer hvordan filen skal leses og konverteres til data selv. Denne kan være grei å gå gjennom dersom du ønsker å trene på anvendelse av strengoperasjoner, listeoperasjoner og løkker.\n",
    "### Åpning av fil\n",
    "Når man skal lese til eller skrive fra eller skrive til filer i Python, bruker man variabler til å henvise til såkalte fil-objekt. En slik variabel returneres når man kaller funksjonen `open(fileName, mode)` som du kan lese mer om [her](https://docs.python.org/3/library/functions.html#open). I funksjonskallet er det i de fleste tilfeller tilstrekkelig med to input-argument, feksempelfis `fileName` og `mode`:\n",
    "* `fileName` er i tilfellet her en streng som angir filnavn **og** en henvisning til hvor filen er plassert i mappestrukturen relativ til filen med Python-kode. I denne øvignen skal vi kun operere med datafiler som ligger i samme mappe som Python-koden, så dette argumentet trenger kun å være filnavnet. \n",
    "* `mode` er en streng med nøkkelsymbol som forteller om vi skal lese fra fil, skrive til fil eller noe annet. Noen av de vanligste verdiene `mode` kan ha er:\n",
    "\n",
    "**Symbol** | **Betydning** \n",
    "---|---\n",
    "`'r'` | Åpne fil for lesing\n",
    "`'w'` | Åpne ny fil for skriving, hvis fil allerede eksisterer vil den fjernes.\n",
    "`'a'` | Åpne fil for skriving. Begynner å skrive på slutten av eventuell eksisterende fil.\n",
    "\n",
    "### Lesing av fil\n",
    "\n",
    "Når et program skal lese en csv-fil utfører den typisk følgende steg:\n",
    "\n",
    "1. Åpne filen i \"read\"-modus\n",
    "2. Les filen. Dette kan gjøres med følgende steg i en løkke:\n",
    "    * Hent inn neste linje som en streng så lenge det finnes en \"neste linje\"\n",
    "    * Del opp strengen etter kolonneseparator-tegnet\n",
    "    * Sett inn den adskilte dataen i passende lister\n",
    "2. Lukk filen.\n",
    "\n",
    "Selve fillesingen kan utføres med f.eks. bruk av metoden `f.readline()` som typisk er den mest aktuelle. Andre metoder for fil-objekt kan du finner [her](https://docs.python.org/3/tutorial/inputoutput.html#methods-of-file-objects). \n",
    "\n",
    "### Lukking av fil?\n",
    "\n",
    "\"Gamlemåten\" for fillesing i python er å kalle en metode `f.close()` når man er ferdig med fila. Nå er det mest vanlig å bruke nøkkelordet `with`, slik at man kan begrense alle kodelinjene som håndterer fillesing til en spesiell struktur med en egen feilhåndtering og oppryddingsprosedyre. Dette skal vi ikke gå nærmere i detalj i nå, men det er relativt enkelt å ta i bruk selv om man ikke nødvendigvis har full kontroll på hva som skjer. Nedenfor ser du et eksempel av en kode som vil lese av filinnhold i \"eksempelfil.csv\", og skrive ut dataene. Fila inneholder måleserie med karbondioksidmålinger over tid, og filinnholdet ser noe slikt ut:\n",
    "\n",
    "                            Time (s);CO2 (ppm)\n",
    "                            10;394\n",
    "                            20;389\n",
    "                            30;385\n",
    "                            40;381\n",
    "                            ...\n",
    "                            \n",
    "Cellen nedenfor vil lese de to kolonnene i fila og legge de til i listene `x_data` og `y_data`."
   ]
  },
  {
   "cell_type": "code",
   "execution_count": null,
   "metadata": {},
   "outputs": [],
   "source": [
    "x_data = []\n",
    "y_data = []\n",
    "\n",
    "fileName = \"eksempelfil.csv\"\n",
    "\n",
    "# Når vi bruker \"with\" til filåpning, oppretter den et eget\n",
    "# variabelskop for variabeln \"dataFile\", som kun er tilgjengelig \n",
    "# for påfølgende kodelinjer skrevet med innrykk.\n",
    "with open(fileName, 'r') as dataFile:\n",
    "    \n",
    "    headerLine = dataFile.readline() # Les første linje med header-informasjon\n",
    "    \n",
    "    headerLine = headerLine.strip(\"\\n\") # Fjern såkalte \"newline-characters\"\n",
    "    \n",
    "    x_label, y_label = headerLine.split(\";\") # Del opp headeren i navn til x_data og y_data\n",
    "    \n",
    "    for line in dataFile: # Iterer over hver linje i fil-objektet\n",
    "        line = line.strip(\"\\n\") # Fjern \"newline-characters\"\n",
    "        lineList = line.split(\";\") # Del opp linjen etter \"delimeter\" (;)\n",
    "        x_data.append(float(lineList[0])) # Legg første del av linjen til i listen x_data\n",
    "        y_data.append(float(lineList[1])) # Legg andre del av linjen til i listen y_data\n",
    "\n",
    "# Når programmet kommer hit (dvs første kodelinje etter \"with\" uten innrykk)\n",
    "# er ikke fil-variabelen \"dataFile\" tilgjengelig lengre.\n",
    "\n",
    "# De tre linjene nedenfor printer ut dataene med en spesiell formatering. \n",
    "# Det er ikke nødvendig å kunne anvende dette videre i øvingen.\n",
    "print('{:>10}'.format(x_label), \" --- \", '{:>10}'.format(y_label)) \n",
    "for i in range(len(x_data)): \n",
    "    print('{:>10}'.format(x_data[i]), \" --- \", '{:>10}'.format(y_data[i]))"
   ]
  },
  {
   "cell_type": "code",
   "execution_count": null,
   "metadata": {},
   "outputs": [],
   "source": []
  }
 ],
 "metadata": {
  "kernelspec": {
   "display_name": "Python 3",
   "language": "python",
   "name": "python3"
  },
  "language_info": {
   "codemirror_mode": {
    "name": "ipython",
    "version": 3
   },
   "file_extension": ".py",
   "mimetype": "text/x-python",
   "name": "python",
   "nbconvert_exporter": "python",
   "pygments_lexer": "ipython3",
   "version": "3.8.3"
  }
 },
 "nbformat": 4,
 "nbformat_minor": 4
}
