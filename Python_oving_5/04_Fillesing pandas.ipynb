{
 "cells": [
  {
   "cell_type": "markdown",
   "metadata": {},
   "source": [
    "# Fillesing med Pandas\n",
    "\n",
    "Pandas er en modul spesielt laget for dataanalyse. Vi kunne brukt et helt semester på å utforske alle mulighetene man har innenfor denne modulen, men for nå skal vi forholde oss til én enkelt funksjon; `pandas.read_csv()`. Vil du vite mer om pandas kan du finne mer informasjon [her](https://pandas.pydata.org/pandas-docs/stable/getting_started/index.html).\n",
    "\n",
    "### Eksempelfil\n",
    "\n",
    "Funksjonen `pandas.read_csv()` kan utføre åpning, lesing og lukking av en csv-fil uten videre kodelinjer. Resultatet blir returnert som en `DataFrame`. Eksempelet nedenfor viser hvordan det kan se ut når vi printer ut avlest informasjon fra en eksempelfil `\"eksempelfil.csv\"`, der innholdet ser noe slik ut:\n",
    "\n",
    "                            Time (s);CO2 (ppm)\n",
    "                            10;394\n",
    "                            20;389\n",
    "                            30;385\n",
    "\n",
    "Legg merke til at vi må spesifisere at kolonneseparator-tegnet er semikolon.\n",
    "\n",
    "\n"
   ]
  },
  {
   "cell_type": "code",
   "execution_count": null,
   "metadata": {},
   "outputs": [],
   "source": [
    "from pandas import read_csv # Nøyer oss med å kun importere denne funksjonen\n",
    "\n",
    "df = read_csv('eksempelfil.csv', sep=\";\") # Les fila til et DataFrame-objekt\n",
    "print(df) # Skriv ut DataFrame-objektet"
   ]
  },
  {
   "cell_type": "markdown",
   "metadata": {},
   "source": [
    "### Konvertering til listeform\n",
    "\n",
    "Variabelen `df` med typen `DataFrame` er en ganske så sofistikert variabeltype med mange innebygde metoder for databehandling. Én egenskap som er spesielt gunstig er at den lar oss hente ut ett av datasettene ved å bruke kolonnnenavnet som en slags indeks. Sammen med funksjonen `list()` lar dette oss hente ut dataene fra filen i `DataFrame` objektet i listeform.\n",
    "\n",
    "Disse listene kan vi behandle videre med prinsipper fra vi har lært hittil i øving 1-4."
   ]
  },
  {
   "cell_type": "code",
   "execution_count": null,
   "metadata": {},
   "outputs": [],
   "source": [
    "timeList = list(df[\"Time (s)\"])\n",
    "CO2List = list(df[\"CO2 (ppm)\"])\n",
    "\n",
    "# De tre linjene nedenfor printer ut dataene med en spesiell formatering. \n",
    "# Det er ikke nødvendig å kunne anvende dette videre i øvingen.\n",
    "print('{:>10}'.format(\"Time (s)\"), \" --- \", '{:>10}'.format(\"CO2 (ppm)\")) \n",
    "for i in range(len(timeList)): \n",
    "    print('{:>10}'.format(timeList[i]), \" --- \", '{:>10}'.format(CO2List[i]))"
   ]
  }
 ],
 "metadata": {
  "kernelspec": {
   "display_name": "Python 3",
   "language": "python",
   "name": "python3"
  },
  "language_info": {
   "codemirror_mode": {
    "name": "ipython",
    "version": 3
   },
   "file_extension": ".py",
   "mimetype": "text/x-python",
   "name": "python",
   "nbconvert_exporter": "python",
   "pygments_lexer": "ipython3",
   "version": "3.8.3"
  }
 },
 "nbformat": 4,
 "nbformat_minor": 4
}
