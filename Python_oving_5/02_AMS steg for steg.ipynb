{
 "cells": [
  {
   "cell_type": "markdown",
   "metadata": {
    "deletable": false,
    "editable": false,
    "nbgrader": {
     "cell_type": "markdown",
     "checksum": "16607982cc3511e84cb56b6952f6c615",
     "grade": false,
     "grade_id": "cell-9bae4e865d0f291a",
     "locked": true,
     "schema_version": 3,
     "solution": false,
     "task": false
    }
   },
   "source": [
    "# Analyse av AMS-data steg for steg\n",
    "\n",
    "Dette er et forslag til hvordan man kan velge å utføre oppgaven. Her er den overordnede oppgaven delt opp i mindre og mer konkrete oppgaver som er gunstige kandidater for egne *funksjoner*. Om du ikke ønsker å følge denne malen kan du besvare gjør det selv-oppgaven istedet. Du står også fritt frem til å endre på funksjonsnavn, returverdier etc. så lenge kodecellen du skriver i steg 6 klarer å kalle alle funksjonene uten feilmelding."
   ]
  },
  {
   "cell_type": "markdown",
   "metadata": {
    "deletable": false,
    "editable": false,
    "nbgrader": {
     "cell_type": "markdown",
     "checksum": "2e216424bf6875fc9c2b5ffdb36ba4c3",
     "grade": false,
     "grade_id": "cell-114c8eaf71828e5a",
     "locked": true,
     "schema_version": 3,
     "solution": false,
     "task": false
    }
   },
   "source": [
    "## Steg 1: Fillesing\n",
    "\n",
    "Første steg i denne oppgaven er å få tak i dataene som er lagret i CSV-filene. CSV står for Comma Separated Value, og filene bruker et spesialtegn (i dette tilfellet semikolon `;`) til å separere *kolonnene* i dataene. Sammen med linjeskift gir dette en oversiktlig tabell for dataene. \n",
    "\n",
    "Informasjonen er lagret i filene som ren tekst og dataene vil dermed i første omgang hentes inn som tekststrenger inntil videre konvertering utføres.\n",
    "\n",
    "Her har vi to muligheter, som er beskrevet nærmere i små eksempler linket til nedenfor:\n",
    "1. [Standard fillesing med innebygde python-funksjoner](03_Fillesing%20standard.ipynb)\n",
    "2. [Fillesing med Pandas](04_Fillesing%20pandas.ipynb)\n",
    "\n",
    "Når man skal lese av en `.csv` fil, er det viktig å ha oversikt over hvordan den er bygd opp. Vi ser på de første linjene i fila `meteringvalues-mp-xxxxx-consumption-201905-20191004T1140.csv`:\n",
    "\n",
    "    \n",
    "                            Fra;Til;KWH 60 Forbruk\n",
    "                            01.05.2019 00:00;01.05.2019 01:00;1.553\n",
    "                            01.05.2019 01:00;01.05.2019 02:00;1.551\n",
    "                            01.05.2019 02:00;01.05.2019 03:00;1.571\n",
    "                            ...\n",
    "    \n",
    "    \n",
    "Her ser vi at hver linje inneholder to semikolon, som deler inn dataene i kolonner. Første linje er en *header* som beskriver hva dataene i hver kolonne er. Formålet med dette er at fila skal kunne gjenkjennes av et program som en serie med data i tabellform. Nedenfor ser du hvordan dette ser ut hvis vi fyller inn verdiene i en konvensjonell tabell:\n",
    "\n",
    "Fra | Til | KWH 60 Forbruk\n",
    "---|---|---\n",
    "01.05.2019 00:00|01.05.2019 01:00|1.553\n",
    "01.05.2019 01:00|01.05.2019 02:00|1.551\n",
    "01.05.2019 02:00|01.05.2019 03:00|1.571\n",
    "\n",
    "#### Oppgave:\n",
    "\n",
    "Fullfør funksjonen `getAMSdata()`, eller skriv en helt egen funksjon som tar inn en streng med filnavnet som parameter, og returnerer **tre** lister; `startTid`, `stopTid` og `forbruk`. Forbruksdataen kan konverteres til typen `float`, men du trenger ikke å utføre komplisert konvertering av tidsstempel-strengene enda. Husk å importere ekstra moduler hvis du tar i bruk f.eks. csv-modulen.\n",
    "\n"
   ]
  },
  {
   "cell_type": "code",
   "execution_count": 42,
   "metadata": {
    "deletable": false,
    "nbgrader": {
     "cell_type": "code",
     "checksum": "164ac9e2ddb9eaa8a256376a317302cd",
     "grade": true,
     "grade_id": "Cell_10_Fillesingsoppgave",
     "locked": false,
     "points": 0,
     "schema_version": 3,
     "solution": true,
     "task": false
    }
   },
   "outputs": [],
   "source": [
    "def getAMSdata(fileName):\n",
    "    #-------------------------------------\n",
    "    # SKRIV DIN KODE HER:\n",
    "    #-------------------------------------\n",
    "    startTid=[]\n",
    "    stopTid=[]\n",
    "    forbruk=[]\n",
    "    with open(fileName, 'r') as dataFile:\n",
    "        dataFile.readline()\n",
    "        for line in dataFile:\n",
    "            line = line.strip(\"\\n\").split(\";\")\n",
    "            #print(line)\n",
    "            startTid.append(line[0])\n",
    "            stopTid.append(line[1])\n",
    "            forbruk.append(line[2])\n",
    "    return startTid, stopTid, forbruk"
   ]
  },
  {
   "cell_type": "markdown",
   "metadata": {
    "deletable": false,
    "editable": false,
    "nbgrader": {
     "cell_type": "markdown",
     "checksum": "a6dd10c78859965df5226afddbcc76c9",
     "grade": false,
     "grade_id": "cell-5f0d32e9ea7e1b50",
     "locked": true,
     "schema_version": 3,
     "solution": false,
     "task": false
    }
   },
   "source": [
    "#### Eksempel på funksjonstest:"
   ]
  },
  {
   "cell_type": "code",
   "execution_count": 43,
   "metadata": {},
   "outputs": [
    {
     "name": "stdout",
     "output_type": "stream",
     "text": [
      "Forbruket mellom 01.05.2019 00:00 og 01.05.2019 01:00 var 1.553 kWh\n"
     ]
    }
   ],
   "source": [
    "# P.S. Denne cellen kan du enre på\n",
    "startTid, stopTid, forbruk = getAMSdata(\"meteringvalues-mp-xxxxx-consumption-201905-20191004T1140.csv\")\n",
    "print(\"Forbruket mellom\", startTid[0], \"og\", stopTid[0], \"var\", forbruk[0], \"kWh\")"
   ]
  },
  {
   "cell_type": "markdown",
   "metadata": {
    "deletable": false,
    "editable": false,
    "nbgrader": {
     "cell_type": "markdown",
     "checksum": "eba3c30e0d5679520d9efdabfa456ad6",
     "grade": false,
     "grade_id": "cell-5b40028800227e8f",
     "locked": true,
     "schema_version": 3,
     "solution": false,
     "task": false
    }
   },
   "source": [
    "Hvis du har lest fila riktig skal utskriften fra cella over være første linje med *data* i fila, **ikke** header-informasjonen: \n",
    "\n",
    "    Forbruket mellom 01.05.2019 00:00 og 01.05.2019 01:00 var 1.553 kWh"
   ]
  },
  {
   "cell_type": "markdown",
   "metadata": {
    "deletable": false,
    "editable": false,
    "nbgrader": {
     "cell_type": "markdown",
     "checksum": "cb0e94ccc9afbe09fda2d2ba8c6a059a",
     "grade": false,
     "grade_id": "cell-b58a9711172151ed",
     "locked": true,
     "schema_version": 3,
     "solution": false,
     "task": false
    }
   },
   "source": [
    "## Steg 2: \"Parsing\" av tidsstempel\n",
    "\n",
    "Så langt er tidsintervallene lastet inn fra datafila fortsatt i form av tekststrenger. Disse er oversiktlige å lese, men ikke velegnet for videre prosessering av data. Her må vi utføre såkalt \"parsing\", ved å anvende forhåndsdefinert kunnskap om hvordan hvert tidspunkt er skrevet, og hente ut informasjonen vi trenger. Hvis vi studerer csv-fila nøye ser vi at alle tidspunktene overholder formatet `dd.mm.yyyy hh:mm`. Dette betyr at hvert tidsstempel vil bestå av nøyaktig 16 tegn, og hver av de ulike enhetene tar opp de samme indeksene i strengen.\n",
    "\n",
    "**Indeks** | 0|1|2|3|4|5|6|7|8|9|10|11|12|13|14|15\n",
    "---|---|---|---|---|---|---|---|---|---|---|---|---|---|---|---|---\n",
    "**Tegn:**|`'d'`|`'d'`|`'.'`|`'m'`|`'m'`|`'.'`|`'y'`|`'y'`|`'y'`|`'y'`|`' '`|`'h'`|`'h'`|`':'`|`'m'`|`'m'`\n",
    "\n",
    "Her er et eksempel på hvordan man kan hente ut årstall fra en slik tekststreng som viser et gitt tidspunkt.\n",
    "\n",
    "```python\n",
    "def getYear(timeStampStr):\n",
    "    yearStr = timeStampStr[6:10]\n",
    "    year = int(yearStr)\n",
    "    return year\n",
    "\n",
    "timeStamp = '17.05.2020 09:00'\n",
    "print(getYear(timeStamp)\n",
    "```\n",
    "Out \\[ \\]: `2020`\n",
    "\n",
    "Det er også fullt mulig å benytte seg av modulen `datetime` for å parse tiden, men dette vil innebære å bruke en ikke ubetydelig tidsmengde på å sette seg inn i dokumentasjonen for å få til nøyaktig det du vil. I denne oppgaven skal vi gjøre så pass enkle beregninger med dato og tid at bruk av `datetime` ikke er hensiktsmessig med mindre du ønsker en utfordring.\n",
    "\n",
    "\n",
    "\n",
    "### 2.1: Finn antall dager i måneden.\n",
    "\n",
    "Velg ut én av listene (starttid kan være mest hensiktsmessig her) å ta utgangspunkt i. Fullfør en funksjon `getDayCount()` som returnerer antallet dager i måneden som heltall."
   ]
  },
  {
   "cell_type": "code",
   "execution_count": 38,
   "metadata": {
    "deletable": false,
    "nbgrader": {
     "cell_type": "code",
     "checksum": "a8451d24024f7050b63ae34f8be6916c",
     "grade": true,
     "grade_id": "cell-0956eafb18cb1500",
     "locked": false,
     "points": 0,
     "schema_version": 3,
     "solution": true,
     "task": false
    }
   },
   "outputs": [
    {
     "name": "stdout",
     "output_type": "stream",
     "text": [
      "05\n",
      "01\n",
      "[30]\n"
     ]
    }
   ],
   "source": [
    "def getDayCount(timeStampList):\n",
    "    lastMont = timeStampList[0][3:5]\n",
    "    lastDay = timeStampList[0][:2]\n",
    "    print(lastMont)\n",
    "    print(lastDay)\n",
    "    dayCount = [0]\n",
    "    for line in timeStampList:\n",
    "        mont = line[3:5]\n",
    "        day = line[:2]\n",
    "        if(mont != lastMont):\n",
    "            dayCount.append(0)\n",
    "        if day != lastDay:\n",
    "            dayCount[-1] += 1\n",
    "        lastMont = mont\n",
    "        lastDay = day\n",
    "    return dayCount\n",
    "\n",
    "print(getDayCount(startTid))"
   ]
  },
  {
   "cell_type": "markdown",
   "metadata": {
    "deletable": false,
    "editable": false,
    "nbgrader": {
     "cell_type": "markdown",
     "checksum": "a75c7b736fa2a7e868aa99319ae64a3c",
     "grade": false,
     "grade_id": "cell-b6c887540343955e",
     "locked": true,
     "schema_version": 3,
     "solution": false,
     "task": false
    }
   },
   "source": [
    "*NB! Det vil ikke oppgis noen egne test-celler videre i oppgaven for å verifisere returverdien til funksjonene. Du oppfordres til å kalle funksjonene du har laget etter hver oppgave for å verifisere at de fungerer slik som ønsket.*\n",
    "\n",
    "### 2.2: Identifiser måned.\n",
    "\n",
    "Velg ut én av listene (starttid kan være mest hensiktsmessig her) å ta utgangspunkt i. Fullfør en funksjon `getMonth()` som returnerer ***navnet*** på måneden som tekststreng."
   ]
  },
  {
   "cell_type": "code",
   "execution_count": 47,
   "metadata": {
    "deletable": false,
    "nbgrader": {
     "cell_type": "code",
     "checksum": "6d4e6bfd3607fa200cd8ab6c85bc83b0",
     "grade": true,
     "grade_id": "cell-9ff5207c43664f99",
     "locked": false,
     "points": 0,
     "schema_version": 3,
     "solution": true,
     "task": false
    }
   },
   "outputs": [
    {
     "name": "stdout",
     "output_type": "stream",
     "text": [
      "May\n"
     ]
    }
   ],
   "source": [
    "import datetime\n",
    "\n",
    "def getMonth(dateAndTimeStr):\n",
    "    #-------------------------------------\n",
    "    # SKRIV DIN KODE HER:\n",
    "    month = int(dateAndTimeStr[0][3:5])\n",
    "    month = datetime.date(2015, month, 1).strftime('%B')\n",
    "    \n",
    "    #-------------------------------------\n",
    "    return month\n",
    "print(getMonth(startTid))"
   ]
  },
  {
   "cell_type": "markdown",
   "metadata": {},
   "source": [
    "### 2.3: Lag egne lister for dato og time.\n",
    "\n",
    "Én måte å holde orden på dato og tidspunkt som numeriske verdier er å skille de ut i én liste hver. Det vil si at vi ønsker én liste med datoer for måneden, og en annen liste for timeslag. Minutter trengs ikke da alle minuttverdiene i csv-filen er \"00\". Listene bør være like lange som listen med forbruksdata. På den måten vil f.eks. `dayList[121]`, `hourList{121]` og `consumption[121]` være henholdsvis dato og time på dagen for måling nr. 122, samt forbruk i løpet av påfølgende time.\n",
    "\n",
    "Fullfør funksjonene `getDays()` og `getHours()` slik at de returnerer lister med heltallsverdier for henholdsvis dato og timeslag."
   ]
  },
  {
   "cell_type": "code",
   "execution_count": 50,
   "metadata": {
    "deletable": false,
    "nbgrader": {
     "cell_type": "code",
     "checksum": "d4b73af1b65677b6ebc77cbc552502e6",
     "grade": true,
     "grade_id": "cell-5fd78f6df5444eb0",
     "locked": false,
     "points": 0,
     "schema_version": 3,
     "solution": true,
     "task": false
    }
   },
   "outputs": [
    {
     "name": "stdout",
     "output_type": "stream",
     "text": [
      "['01', '01', '01', '01', '01', '01', '01', '01', '01', '01', '01', '01', '01', '01', '01', '01', '01', '01', '01', '01', '01', '01', '01', '01', '02', '02', '02', '02', '02', '02', '02', '02', '02', '02', '02', '02', '02', '02', '02', '02', '02', '02', '02', '02', '02', '02', '02', '02', '03', '03', '03', '03', '03', '03', '03', '03', '03', '03', '03', '03', '03', '03', '03', '03', '03', '03', '03', '03', '03', '03', '03', '03', '04', '04', '04', '04', '04', '04', '04', '04', '04', '04', '04', '04', '04', '04', '04', '04', '04', '04', '04', '04', '04', '04', '04', '04', '05', '05', '05', '05', '05', '05', '05', '05', '05', '05', '05', '05', '05', '05', '05', '05', '05', '05', '05', '05', '05', '05', '05', '05', '06', '06', '06', '06', '06', '06', '06', '06', '06', '06', '06', '06', '06', '06', '06', '06', '06', '06', '06', '06', '06', '06', '06', '06', '07', '07', '07', '07', '07', '07', '07', '07', '07', '07', '07', '07', '07', '07', '07', '07', '07', '07', '07', '07', '07', '07', '07', '07', '08', '08', '08', '08', '08', '08', '08', '08', '08', '08', '08', '08', '08', '08', '08', '08', '08', '08', '08', '08', '08', '08', '08', '08', '09', '09', '09', '09', '09', '09', '09', '09', '09', '09', '09', '09', '09', '09', '09', '09', '09', '09', '09', '09', '09', '09', '09', '09', '10', '10', '10', '10', '10', '10', '10', '10', '10', '10', '10', '10', '10', '10', '10', '10', '10', '10', '10', '10', '10', '10', '10', '10', '11', '11', '11', '11', '11', '11', '11', '11', '11', '11', '11', '11', '11', '11', '11', '11', '11', '11', '11', '11', '11', '11', '11', '11', '12', '12', '12', '12', '12', '12', '12', '12', '12', '12', '12', '12', '12', '12', '12', '12', '12', '12', '12', '12', '12', '12', '12', '12', '13', '13', '13', '13', '13', '13', '13', '13', '13', '13', '13', '13', '13', '13', '13', '13', '13', '13', '13', '13', '13', '13', '13', '13', '14', '14', '14', '14', '14', '14', '14', '14', '14', '14', '14', '14', '14', '14', '14', '14', '14', '14', '14', '14', '14', '14', '14', '14', '15', '15', '15', '15', '15', '15', '15', '15', '15', '15', '15', '15', '15', '15', '15', '15', '15', '15', '15', '15', '15', '15', '15', '15', '16', '16', '16', '16', '16', '16', '16', '16', '16', '16', '16', '16', '16', '16', '16', '16', '16', '16', '16', '16', '16', '16', '16', '16', '17', '17', '17', '17', '17', '17', '17', '17', '17', '17', '17', '17', '17', '17', '17', '17', '17', '17', '17', '17', '17', '17', '17', '17', '18', '18', '18', '18', '18', '18', '18', '18', '18', '18', '18', '18', '18', '18', '18', '18', '18', '18', '18', '18', '18', '18', '18', '18', '19', '19', '19', '19', '19', '19', '19', '19', '19', '19', '19', '19', '19', '19', '19', '19', '19', '19', '19', '19', '19', '19', '19', '19', '20', '20', '20', '20', '20', '20', '20', '20', '20', '20', '20', '20', '20', '20', '20', '20', '20', '20', '20', '20', '20', '20', '20', '20', '21', '21', '21', '21', '21', '21', '21', '21', '21', '21', '21', '21', '21', '21', '21', '21', '21', '21', '21', '21', '21', '21', '21', '21', '22', '22', '22', '22', '22', '22', '22', '22', '22', '22', '22', '22', '22', '22', '22', '22', '22', '22', '22', '22', '22', '22', '22', '22', '23', '23', '23', '23', '23', '23', '23', '23', '23', '23', '23', '23', '23', '23', '23', '23', '23', '23', '23', '23', '23', '23', '23', '23', '24', '24', '24', '24', '24', '24', '24', '24', '24', '24', '24', '24', '24', '24', '24', '24', '24', '24', '24', '24', '24', '24', '24', '24', '25', '25', '25', '25', '25', '25', '25', '25', '25', '25', '25', '25', '25', '25', '25', '25', '25', '25', '25', '25', '25', '25', '25', '25', '26', '26', '26', '26', '26', '26', '26', '26', '26', '26', '26', '26', '26', '26', '26', '26', '26', '26', '26', '26', '26', '26', '26', '26', '27', '27', '27', '27', '27', '27', '27', '27', '27', '27', '27', '27', '27', '27', '27', '27', '27', '27', '27', '27', '27', '27', '27', '27', '28', '28', '28', '28', '28', '28', '28', '28', '28', '28', '28', '28', '28', '28', '28', '28', '28', '28', '28', '28', '28', '28', '28', '28', '29', '29', '29', '29', '29', '29', '29', '29', '29', '29', '29', '29', '29', '29', '29', '29', '29', '29', '29', '29', '29', '29', '29', '29', '30', '30', '30', '30', '30', '30', '30', '30', '30', '30', '30', '30', '30', '30', '30', '30', '30', '30', '30', '30', '30', '30', '30', '30', '31', '31', '31', '31', '31', '31', '31', '31', '31', '31', '31', '31', '31', '31', '31', '31', '31', '31', '31', '31', '31', '31', '31', '31']\n"
     ]
    }
   ],
   "source": [
    "def getDays(timeStampList):\n",
    "    #-------------------------------------\n",
    "    # SKRIV DIN KODE HER:\n",
    "    dayList = []\n",
    "    for line in timeStampList:\n",
    "        dayList.append(line[:2])\n",
    "    #-------------------------------------\n",
    "    return dayList\n",
    "    \n",
    "def getHours(timeStampList):\n",
    "    #-------------------------------------\n",
    "    # SKRIV DIN KODE HER:\n",
    "    hourList = []\n",
    "    for line in timeStampList:\n",
    "        hourList.append(line[:2])\n",
    "    #-------------------------------------\n",
    "    return hourList\n",
    "print(getHours(startTid))"
   ]
  },
  {
   "cell_type": "markdown",
   "metadata": {
    "deletable": false,
    "editable": false,
    "nbgrader": {
     "cell_type": "markdown",
     "checksum": "63dbf66cf4aecf9feb25f3b4b139d5d9",
     "grade": false,
     "grade_id": "cell-9f29bc08f9013a41",
     "locked": true,
     "schema_version": 3,
     "solution": false,
     "task": false
    }
   },
   "source": [
    "## Steg 3: Generell Statistikk\n",
    "\n",
    "Når du har forbruksdata og tidsinformasjon i listeform kan du gjøre noen statistiske beregninger på dataene. Det oppfordres til å teste ut funksjonene, og kontrollere resultatet ved å se gjennom csv-fila selv.\n",
    "\n",
    "### 3.1: Regn ut gjennomsnittlig timesforbruk\n",
    "\n",
    "Fullfør funksjonen `getAverage()`, eller skriv en helt egen funksjon som tar inn listen med timesforbruk som parameter og returnerer gjennomsnittlig timesforbruk.\n",
    "\n"
   ]
  },
  {
   "cell_type": "code",
   "execution_count": null,
   "metadata": {
    "deletable": false,
    "nbgrader": {
     "cell_type": "code",
     "checksum": "4b13bd6081cb41b2647fe8c027695b55",
     "grade": true,
     "grade_id": "Cell_31_Gjennomsnitt",
     "locked": false,
     "points": 0,
     "schema_version": 3,
     "solution": true,
     "task": false
    }
   },
   "outputs": [],
   "source": [
    "# Dette er kun et forslag til funksjonsoppsett\n",
    "def getAverage(dataList):\n",
    "    #-------------------------------------\n",
    "    # SKRIV DIN KODE HER:\n",
    "    #-------------------------------------\n",
    "    return average"
   ]
  },
  {
   "cell_type": "markdown",
   "metadata": {
    "deletable": false,
    "editable": false,
    "nbgrader": {
     "cell_type": "markdown",
     "checksum": "56ce4579c81a93f7e1d7a8031f690228",
     "grade": false,
     "grade_id": "cell-d7dbbe6957bc7377",
     "locked": true,
     "schema_version": 3,
     "solution": false,
     "task": false
    }
   },
   "source": [
    "### 3.2: Regn ut høyeste forbruk, og tidspunktet for høyeste forbruk.\n",
    "\n",
    "Fullfør funksjonen `findPeakInterval()`, eller skriv en helt egen funksjon som tar inn listene med timesforbruk **og** tidspunkt, og returnerer både toppforbruket og hvilken dato/tidspunkt det fant sted. Her kan listemetoden `list.index()` komme svært godt med.\n"
   ]
  },
  {
   "cell_type": "code",
   "execution_count": null,
   "metadata": {
    "deletable": false,
    "nbgrader": {
     "cell_type": "code",
     "checksum": "c51be431456f6141d8391f2b4718af6c",
     "grade": true,
     "grade_id": "Cell_32_Toppunkt",
     "locked": false,
     "points": 0,
     "schema_version": 3,
     "solution": true,
     "task": false
    }
   },
   "outputs": [],
   "source": [
    "# Dette er kun et forslag til funksjonsoppsett\n",
    "def findPeakInterval(consumption, dateList, hourList):\n",
    "    #-------------------------------------\n",
    "    # SKRIV DIN KODE HER:\n",
    "    #-------------------------------------\n",
    "    return consumptionPeak, peakDate, peakHour"
   ]
  },
  {
   "cell_type": "markdown",
   "metadata": {
    "deletable": false,
    "editable": false,
    "nbgrader": {
     "cell_type": "markdown",
     "checksum": "48cbc8bd1fd321869bd20cdb6c433442",
     "grade": false,
     "grade_id": "cell-bb4d24863312476a",
     "locked": true,
     "schema_version": 3,
     "solution": false,
     "task": false
    }
   },
   "source": [
    "### 3.3: Regn ut standardavvik for månedens timeforbruk *(frivillig)*.\n",
    "\n",
    "Fullfør funksjonen `getStdDev()`, eller skriv en helt egen funksjon som tar inn listen med timesforbruk *og* gjennomsnittsverdi, og regner ut standardavvik."
   ]
  },
  {
   "cell_type": "code",
   "execution_count": null,
   "metadata": {
    "deletable": false,
    "nbgrader": {
     "cell_type": "code",
     "checksum": "42a1d772e0a031bf6e3f16aeb3a09f04",
     "grade": true,
     "grade_id": "Cell_33_Standardavvik",
     "locked": false,
     "points": 0,
     "schema_version": 3,
     "solution": true,
     "task": false
    }
   },
   "outputs": [],
   "source": [
    "def getStdDev(dataList, average):\n",
    "    #-------------------------------------\n",
    "    # SKRIV DIN KODE HER:\n",
    "    #-------------------------------------\n",
    "    return stdDev"
   ]
  },
  {
   "cell_type": "markdown",
   "metadata": {
    "deletable": false,
    "editable": false,
    "nbgrader": {
     "cell_type": "markdown",
     "checksum": "c7e7786154be36a72055d26c19ba32ea",
     "grade": false,
     "grade_id": "cell-c97b4c9d09e75023",
     "locked": true,
     "schema_version": 3,
     "solution": false,
     "task": false
    }
   },
   "source": [
    "## Steg 4: Listeprosessering\n",
    "\n",
    "Du skal nå ta utgangspunkt i listene med informasjon om timesforbruk og tidspunkt, og generere nye lister som kan brukes til plotting av grafer i neste oppgave.\n",
    "\n",
    "### 4.1: Regn ut daglig forbruk\n",
    "\n",
    "Målet med denne oppgaven er å lage en ny liste for å kartlegge forbruket, hvor hver verdi i lista tilsvarer det totale forbruket i løpet av en dag. Et forslag for hvordan du kan utføre dett er med å definere en funksjon som `getDailyConsumtion()`, hvor informasjonen i listene med timesforbruk og datoer kombineres til å produsere ønsket data.\n",
    "\n",
    "Fullfør funksjonen `getDailyConsumption()`, eller skriv din egen som tar inn nødvendig informasjon ved hjelp av parametre, og returnerer en liste med daglig forbruk."
   ]
  },
  {
   "cell_type": "code",
   "execution_count": null,
   "metadata": {
    "deletable": false,
    "nbgrader": {
     "cell_type": "code",
     "checksum": "784a6d278783bb2378404853459a6a0e",
     "grade": true,
     "grade_id": "cell-88d95290802803b9",
     "locked": false,
     "points": 0,
     "schema_version": 3,
     "solution": true,
     "task": false
    }
   },
   "outputs": [],
   "source": [
    "# Dette er kun et forslag til funksjonsoppsett\n",
    "def getDailyConsumption(hourConsumption, dayList):\n",
    "    #-------------------------------------\n",
    "    # SKRIV DIN KODE HER:\n",
    "    #-------------------------------------\n",
    "    return dailyConsumption"
   ]
  },
  {
   "cell_type": "markdown",
   "metadata": {
    "deletable": false,
    "editable": false,
    "nbgrader": {
     "cell_type": "markdown",
     "checksum": "9f554e9ab80d643085fcb3740676bd68",
     "grade": false,
     "grade_id": "cell-5e077f25071e9162",
     "locked": true,
     "schema_version": 3,
     "solution": false,
     "task": false
    }
   },
   "source": [
    "### 4.2: Regn ut forbruket i et gjennomsnittlig døgn for den aktuelle måneden *(frivillig)*\n",
    "\n",
    "Fullfør eller lag en funksjon som regner ut timesforbruket i en gjennomsnittlig dag."
   ]
  },
  {
   "cell_type": "code",
   "execution_count": null,
   "metadata": {
    "deletable": false,
    "nbgrader": {
     "cell_type": "code",
     "checksum": "84119ee50663a91cd0568cec000a5feb",
     "grade": true,
     "grade_id": "cell-e6af4c87ec024042",
     "locked": false,
     "points": 0,
     "schema_version": 3,
     "solution": true,
     "task": false
    }
   },
   "outputs": [],
   "source": [
    "# Dette er kun et forslag til funksjonsoppsett\n",
    "def getAvgDay(hourConsumption, hourList):\n",
    "    #-------------------------------------\n",
    "    # SKRIV DIN KODE HER:\n",
    "    #-------------------------------------\n",
    "    return avgHourly"
   ]
  },
  {
   "cell_type": "markdown",
   "metadata": {
    "deletable": false,
    "editable": false,
    "nbgrader": {
     "cell_type": "markdown",
     "checksum": "817df7b3febd05f1d20202b9eb0134d1",
     "grade": false,
     "grade_id": "cell-35b629f26f76eccd",
     "locked": true,
     "schema_version": 3,
     "solution": false,
     "task": false
    }
   },
   "source": [
    "## Steg 5: Visualisering\n",
    "\n",
    "Du skal nå bruke modulen `matplotlib.pyplot` til å visualisere listedataen(e) fra steg 4. Du står fritt til å velge hva slags graf du lager med dataen, men for denne typen data ville jeg personlig foreslått å lage søylediagram med funksjonen `bar()`. \n",
    "\n",
    "*Husk å merke aksene på figuren med informative merkelapper, samt å gi figuren en tittel som inkluderer navnet på måneden.*\n",
    "\n",
    "### 5.1: Vis daglig forbruk\n",
    "\n",
    "Fullfør funksjonen `plotDailyConsumption()` som vil lage en graf av daglig forbruk. Her skal du bruke dataen fra steg 4.1."
   ]
  },
  {
   "cell_type": "code",
   "execution_count": null,
   "metadata": {
    "deletable": false,
    "nbgrader": {
     "cell_type": "code",
     "checksum": "e5009f88998861e363684b2a1217fac2",
     "grade": true,
     "grade_id": "cell-1338c7bac3a57ba3",
     "locked": false,
     "points": 0,
     "schema_version": 3,
     "solution": true,
     "task": false
    }
   },
   "outputs": [],
   "source": [
    "import matplotlib.pyplot as plt # Forslag til importering av pyplot-modul\n",
    "%matplotlib notebook # Genererte plot integreres i notebook-dokumentet som interaktive grafer\n",
    "\n",
    "def plotDailyConsumption(dailyConsumption, month):\n",
    "    #-------------------------------------\n",
    "    # SKRIV DIN KODE HER:\n",
    "    #-------------------------------------"
   ]
  },
  {
   "cell_type": "markdown",
   "metadata": {
    "deletable": false,
    "editable": false,
    "nbgrader": {
     "cell_type": "markdown",
     "checksum": "48e879bb328b577d045966ce067e1304",
     "grade": false,
     "grade_id": "cell-6fd8231538d5b5bc",
     "locked": true,
     "schema_version": 3,
     "solution": false,
     "task": false
    }
   },
   "source": [
    "### 5.2: Vis gjennomsnittlig timesforbruk (*frivillig*)\n",
    "\n",
    "Fullfør funksjonen `plotAvgDay()` som vil lage en graf av daglig forbruk. Her skal du bruke dataen fra steg 4.2."
   ]
  },
  {
   "cell_type": "code",
   "execution_count": null,
   "metadata": {
    "deletable": false,
    "nbgrader": {
     "cell_type": "code",
     "checksum": "df6d4a66f55451f071743646fb5fe456",
     "grade": true,
     "grade_id": "cell-ae7be7477a4e514f",
     "locked": false,
     "points": 0,
     "schema_version": 3,
     "solution": true,
     "task": false
    }
   },
   "outputs": [],
   "source": [
    "def plotAvgDay(avgHourly, month):\n",
    "    #-------------------------------------\n",
    "    # SKRIV DIN KODE HER:\n",
    "    #-------------------------------------"
   ]
  },
  {
   "cell_type": "markdown",
   "metadata": {
    "deletable": false,
    "editable": false,
    "nbgrader": {
     "cell_type": "markdown",
     "checksum": "8deb9b6b630f07764895e6a24c4b8127",
     "grade": false,
     "grade_id": "cell-fe4e993c5f7baf6f",
     "locked": true,
     "schema_version": 3,
     "solution": false,
     "task": false
    }
   },
   "source": [
    "## Steg 6: Sett sammen alle bitene\n",
    "\n",
    "Skriv programkode som kaller *alle* funksjonene vi har skrevet hittil i steg 1-5til å utføre databehandlingen beskrevet i [oppgavebeskrivelsen](01_Oppgavebeskrivelse.ipynb), samt presentere de aktuelle utregnede verdiene som grafer eller utskrift."
   ]
  },
  {
   "cell_type": "code",
   "execution_count": null,
   "metadata": {
    "deletable": false,
    "nbgrader": {
     "cell_type": "code",
     "checksum": "16f6bb788a009343470a35809000ec59",
     "grade": true,
     "grade_id": "cell-68ef9c48d61f317a",
     "locked": false,
     "points": 20,
     "schema_version": 3,
     "solution": true,
     "task": false
    }
   },
   "outputs": [],
   "source": [
    "#-------------------------------------\n",
    "# SKRIV DIN KODE HER:\n",
    "#-------------------------------------"
   ]
  }
 ],
 "metadata": {
  "kernelspec": {
   "display_name": "Python 3",
   "language": "python",
   "name": "python3"
  },
  "language_info": {
   "codemirror_mode": {
    "name": "ipython",
    "version": 3
   },
   "file_extension": ".py",
   "mimetype": "text/x-python",
   "name": "python",
   "nbconvert_exporter": "python",
   "pygments_lexer": "ipython3",
   "version": "3.8.3"
  }
 },
 "nbformat": 4,
 "nbformat_minor": 4
}
