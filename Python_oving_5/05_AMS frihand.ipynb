{
 "cells": [
  {
   "cell_type": "markdown",
   "metadata": {
    "deletable": false,
    "editable": false,
    "nbgrader": {
     "cell_type": "markdown",
     "checksum": "1142572faba48b4987d7c46eabbbbfce",
     "grade": false,
     "grade_id": "cell-ba5bf37f0f3a714f",
     "locked": true,
     "points": 20,
     "schema_version": 3,
     "solution": false,
     "task": true
    }
   },
   "source": [
    "# Analyse av AMS-data\n",
    "\n",
    "Dersom du velger å skrive programmet selv fra bunnen av, er det lagt opp til at du kan skrive besvarelsen her. Programmet skal oppfylle alle kravene i [oppgavebeskrivelsen](01_Oppgavebeskrivelse.ipynb), og du står fri til å ta i bruk så mange kodeceller du måtte behøve. Husk å teste at programmet kjører uten feilmeldinger før du leverer.\n",
    "\n",
    "*Lykke til!*"
   ]
  },
  {
   "cell_type": "code",
   "execution_count": null,
   "metadata": {},
   "outputs": [],
   "source": []
  }
 ],
 "metadata": {
  "kernelspec": {
   "display_name": "Python 3",
   "language": "python",
   "name": "python3"
  },
  "language_info": {
   "codemirror_mode": {
    "name": "ipython",
    "version": 3
   },
   "file_extension": ".py",
   "mimetype": "text/x-python",
   "name": "python",
   "nbconvert_exporter": "python",
   "pygments_lexer": "ipython3",
   "version": "3.8.3"
  }
 },
 "nbformat": 4,
 "nbformat_minor": 4
}
