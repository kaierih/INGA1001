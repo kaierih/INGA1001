{
 "cells": [
  {
   "cell_type": "markdown",
   "metadata": {
    "deletable": false,
    "editable": false,
    "nbgrader": {
     "cell_type": "markdown",
     "checksum": "82eed424cc71743c0d9827e580a6be1e",
     "grade": false,
     "grade_id": "cell-3078ede690a52a5e",
     "locked": true,
     "schema_version": 3,
     "solution": false,
     "task": false
    }
   },
   "source": [
    "# Analyse av AMS-data\n",
    "\n",
    "### Problemstilling\n",
    "\n",
    "De fleste norske husholdninger og bedrifter har nå fått innstallert automatiske strøm-målere ([AMS](https://www.enova.no/privat/smarte-strommalere-ams/)). Disse måler strømforbruket kontinuerlig og rapporterer dette hver time til en sentral database, elhub. Dette danner grunnlag for avregning av både strømforbruk og nettleie. Alle strøm-abonnenter kan logge inn på elhub og hente ut sine egne data, og har dermed grunnlag for å kunne analysere sitt eget forbruksmønster.\n",
    "\n",
    "Nettselskapene, som eier og drifter strømnettet, må bygge ut strømnettet slik at det har tilstrekkelig kapasitet. Forbruket kan variere mye gjennom døgnet, og det betyr at det på noen tidspunkt er overkapasitet. Hvis forbrukerne kunne tilpasse forbruket og jevne det ut kan man senke nivået på utbygd kapasitet. Det betyr lavere investeringer og kanskje lavere nettleie. Et mulig framtidsscenario er å ha forskjellige nettleie-satser til ulike tider på døgnet.\n",
    "\n",
    "For å tilpasse seg dette må forbukerne kjenne sitt eget strømforbruk, og ha teknisk utstyr som kan styre strømforbruket.\n",
    "\n",
    "### Data\n",
    "\n",
    "Data over strømforbuk kan lastes ned som CSV-fil fra elhub. Det er en fil pr. måned. Hver linje inneholder tidspunkt og forbruket den siste timen.\n",
    "\n",
    "\n",
    "* Her er det tre eksempelfiler som skal brukes i besvarelsen. Du kan velge å ta utgangspunkt i en av disse: <li><a href=\"meteringvalues-mp-xxxxx-consumption-201905-20191004T1140.csv\">AMS-data, alternativ 1</a></li>\n",
    "<li><a href=\"meteringvalues-mp-xxxxx-consumption-201906-20191004T1143.csv\">AMS-data, alternativ 2</a></li>\n",
    "<li><a href=\"meteringvalues-mp-xxxxx-consumption-201907-20191004T1143.csv\">AMS-data, alternativ 3</a></li>\n",
    "\n",
    "*P.S. Disse filene ligger i samme mappe som øvingsfilene, og trenger ikke å lastes ned for å kunne importeres med Python.*\n",
    "\n",
    "### Oppgave \n",
    "\n",
    "Dette er en individuell oppgave, men det anbefales å samarbeide med medstudenter underveis for bl.a. å diskutere alternative løsninger.\n",
    "Din oppgave er å skrive et Python-program som analyserer forbruket for en måned. Python-programmet må gjøre visse operasjoner:\n",
    "\n",
    "* Åpne datafila\n",
    "* Lese gjennom fila linje for linje\n",
    "* Lagre data om tidspunkt og forbruk i passende datastrukturer\n",
    "* Lese gjennom datastrukturene for iå finne eller beregne ønsket statistikk\n",
    "* Framstille de avleste dataen med en oversiktlig graf\n",
    "* Skrive ut ønsket statistikk til dokumentet på et forståelig format\n",
    "\n",
    "*P.S. Bruk f.eks. notepad til å studere fil-innholdet og identifisere hvordan de ulike datasettene kan avleses.*\n",
    "\n",
    "### Ønsket Resultat\n",
    "\n",
    "**Øsket statistikk i utskrift:**\n",
    "* antall dager i måneden\n",
    "* gjennomsnittlig forbruk pr. time\n",
    "* tidspunkt for det høyeste forbruket\n",
    "\n",
    "**Ønsket grafisk fremstilling:**\n",
    "* En figur som viser totalt strømforbruk per dag i måneden.\n",
    "* Figuren skal ha tittel som inkluderer hvilken måned det er, og fornuftig merkede akser.\n",
    "\n",
    "**Frivillig / avansert**\n",
    "* Lag en ekstra graf som viser et \"gjennomsnittlig døgn\" av måneden, hvor hvert datapunkt er gjennomsnittet av alle målinger for samme tidspunkt i døgnet.\n",
    "* Regn ut standardavviket for forbruket pr. time ved bruk av formelen nedenfor, og skriv det ut til bruker. Formelen for dette gitt en dataserie $x_i$ med lengde $N$, hvor $ \\bar{x}$ er utregnet gjennomsnitt for dataserien $x_i$ er:\n",
    "\n",
    "$$ \\sigma = \\sqrt{ \\frac{1}{N} \\sum_{i=1}^{N} \\left(x_i - \\bar{x} \\right)^2 }$$"
   ]
  },
  {
   "cell_type": "code",
   "execution_count": null,
   "metadata": {},
   "outputs": [],
   "source": []
  }
 ],
 "metadata": {
  "kernelspec": {
   "display_name": "Python 3",
   "language": "python",
   "name": "python3"
  },
  "language_info": {
   "codemirror_mode": {
    "name": "ipython",
    "version": 3
   },
   "file_extension": ".py",
   "mimetype": "text/x-python",
   "name": "python",
   "nbconvert_exporter": "python",
   "pygments_lexer": "ipython3",
   "version": "3.8.3"
  }
 },
 "nbformat": 4,
 "nbformat_minor": 4
}
