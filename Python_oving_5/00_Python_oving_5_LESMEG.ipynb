{
 "cells": [
  {
   "cell_type": "markdown",
   "metadata": {
    "deletable": false,
    "editable": false,
    "nbgrader": {
     "cell_type": "markdown",
     "checksum": "0f7beed642429e3aa40f0305013673f9",
     "grade": false,
     "grade_id": "cell-c18c0f96dddb35e9",
     "locked": true,
     "schema_version": 3,
     "solution": false,
     "task": false
    }
   },
   "source": [
    "# Øving 5\n",
    "\n",
    "#### Kort Introduksjon:\n",
    "\n",
    "I denne øvingen skal du bruke Python til å hente inn data om strømforbruket til en husholdning fra en loggfil, analysere dataen for relevant informasjon og produsere oversiktlige grafer som kartlegger forbruket over tid.\n",
    "\n",
    "[**Detaljer toppgavebeskrivelse her.**](01_Oppgavebeskrivelse.ipynb) *Les denne før du begynner å programmere!*\n",
    "\n",
    "#### Læringsmål:\n",
    "\n",
    "* Fillesing\n",
    "* Funksjoner\n",
    "* Bruk av sekvenstyper for å håndtere data\n",
    "* Prosessereing av data med løkker\n",
    "* Bruk av Matplotlib til å visualisere data\n",
    "\n",
    "#### Fundamentals of Python Programming:\n",
    "\n",
    "* 7 - Writing Functions\n",
    "\n",
    "## Godkjenning:\n",
    "\n",
    "**Øving 5 *må* være innlevert og godkjent for å få godkjent Python-modulen.** \n",
    "\n",
    "Øving 5 fungerer annerledes enn Øving 1-4. Innleveringene vil rettes manuelt etter innleveringsfrist, og tiblakemelding gis etter at alle er rettet. Kravene som må oppfylles for å få øvingen godkjent er:\n",
    "\n",
    "* Programkoden skal utføre oppgavene spesifisert i [oppgavebeskrivelsen](01_Oppgavebeskrivelse.ipynb).\n",
    "* Programkoden skal kunne kjøre uten feilmeldinger.\n",
    "* Programkoden skal være så generell at den kan gi gyldig output for hver av de tre AMS-filene.\n",
    "\n",
    "## Utføring av oppgaven:\n",
    "\n",
    "I denne øvingen kan du velge mellom å *enten* programmere hele oppgaven for \"frihånd\", eller å følge en oppskrift som deler opp problemet i mindre biter. Det betyr at du **kun trenger å besvare én av oppgavefilene i tabellen nedenfor**, men det er fremdeles viktig at du fyller inn besvarelsen i én av disse to filene, og ikke lager en helt ny en.\n",
    "\n",
    "<br></br>\n",
    "\n",
    "**Alternativ 1: følg en forhåndsdefinert instruks og arkitektur.** | **Alternativ 2: Skriv hele programkoden fra grunnen av.**\n",
    "---|---\n",
    "[**Analyse av AMS-data steg for steg**](02_AMS%20steg%20for%20steg.ipynb) | [**Gjør det selv!**](05_AMS%20frihand.ipynb)"
   ]
  }
 ],
 "metadata": {
  "kernelspec": {
   "display_name": "Python 3",
   "language": "python",
   "name": "python3"
  },
  "language_info": {
   "codemirror_mode": {
    "name": "ipython",
    "version": 3
   },
   "file_extension": ".py",
   "mimetype": "text/x-python",
   "name": "python",
   "nbconvert_exporter": "python",
   "pygments_lexer": "ipython3",
   "version": "3.8.3"
  }
 },
 "nbformat": 4,
 "nbformat_minor": 4
}
