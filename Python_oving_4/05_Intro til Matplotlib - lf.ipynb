{
 "cells": [
  {
   "cell_type": "code",
   "execution_count": null,
   "metadata": {},
   "outputs": [],
   "source": [
    "from numpy import sin, cos, exp, sqrt, log, pi\n",
    "import numpy as np\n",
    "import matplotlib.pyplot as plt\n",
    "\n",
    "# Linjen nedenfor betyr at figurer skal plottes i notebook-dokumentent,\n",
    "# og inkludere knapper for zooming, panning etc...\n",
    "%matplotlib notebook"
   ]
  },
  {
   "cell_type": "code",
   "execution_count": null,
   "metadata": {},
   "outputs": [],
   "source": [
    "# a)\n",
    "\n",
    "k = np.arange(6)\n",
    "theta = pi/2 + k*(2*pi/5*2)\n",
    "x = cos(theta)\n",
    "y = sin(theta)\n",
    "plt.figure()\n",
    "plt.plot(x, y)\n",
    "plt.axis([-1.1, 1.1, -1.1, 1.1])\n",
    "plt.show()"
   ]
  },
  {
   "cell_type": "code",
   "execution_count": null,
   "metadata": {},
   "outputs": [],
   "source": [
    "# b & c)\n",
    "\n",
    "t = linspace(0, 5, 501)\n",
    "xt = 0.8**t*cos(2*pi*8*t)\n",
    "plt.figure()\n",
    "plt.subplot(2,1,1)\n",
    "plt.plot(t, xt)\n",
    "plt.grid(True)\n",
    "plt.xlabel(\"t\")\n",
    "plt.ylabel(\"x(t)\");\n",
    "\n"
   ]
  }
 ],
 "metadata": {
  "kernelspec": {
   "display_name": "Python 3",
   "language": "python",
   "name": "python3"
  },
  "language_info": {
   "codemirror_mode": {
    "name": "ipython",
    "version": 3
   },
   "file_extension": ".py",
   "mimetype": "text/x-python",
   "name": "python",
   "nbconvert_exporter": "python",
   "pygments_lexer": "ipython3",
   "version": "3.7.9"
  }
 },
 "nbformat": 4,
 "nbformat_minor": 4
}
