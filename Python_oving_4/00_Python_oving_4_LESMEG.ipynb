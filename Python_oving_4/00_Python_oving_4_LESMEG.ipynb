{
 "cells": [
  {
   "cell_type": "markdown",
   "metadata": {
    "deletable": false,
    "editable": false,
    "nbgrader": {
     "cell_type": "markdown",
     "checksum": "1119ecc476bc1effbaa24a6186973500",
     "grade": false,
     "grade_id": "cell-65dac2e0e6e8c77c",
     "locked": true,
     "schema_version": 3,
     "solution": false,
     "task": false
    }
   },
   "source": [
    "# Øving 4\n",
    "\n",
    "**Læringsmål:**  \n",
    "\n",
    "* Lister\n",
    "* Løkker og lister\n",
    "* Numpy-modulen\n",
    "* _Plotting med matplotlib_\n",
    "\n",
    "**Fundamentals of Python Programming:**\n",
    "\n",
    "* Kap. 7: Lists and Tuples\n",
    "\n",
    "## Godkjenning:\n",
    "\n",
    "Oppgavene er delt inn i to kategorier; Valgfrie og Poenggivende Oppgaver. Noen valgfrie oppgaver er såkalte \"tutorials\" som introduserer fagstoffet for denne øvingen. Disse er anbefalt å gå gjennom hvis du ikke allerede føler du har god kontroll på temaet i oppgaven. \n",
    "\n",
    "De poenggivende oppgavene kan til sammen gi 10 poeng. For at øvingsarbeidet i Python-modulen skal være godkjent må minst du oppnå minst __50%__ av tilgjengelig poengsum samlet for de 4 første øvingsoppgavene. I tillegg __må__ øving 5 være godkjent.\n",
    "\n",
    "Oppgave | Poeng | Tema | Merknad\n",
    "--- | --- | ---|---\n",
    "[Generelt om lister](01_Generelt%20om%20lister.ipynb) |0|Lister|Tutorial \n",
    "[Lett og blandet om lister](02_Lett%20og%20blandet.ipynb)|0|Lister, funksjoner og metoder|Tutorial\n",
    "[Lotto](03_Lotto.ipynb)|7|Løkker og lister|Varierende vanskelighetskgrad\n",
    "[Intro til Numpy](04_Intro%20til%20numpy.ipynb)|3|Matematikk med numpy|Lav vanskelighetsgrad\n",
    "[Intro til Matplotlib](05_Intro%20til%20Matplotlib.ipynb)|0|Plotting av matematiske funksjoner | Tutorial\n",
    "[Koch's Snøflak](06_Koch_snoflak.ipynb)|0|Løkker, lister og plotting|Frivillig og ekstra vanskelig\n"
   ]
  }
 ],
 "metadata": {
  "kernelspec": {
   "display_name": "Python 3",
   "language": "python",
   "name": "python3"
  },
  "language_info": {
   "codemirror_mode": {
    "name": "ipython",
    "version": 3
   },
   "file_extension": ".py",
   "mimetype": "text/x-python",
   "name": "python",
   "nbconvert_exporter": "python",
   "pygments_lexer": "ipython3",
   "version": "3.8.3"
  }
 },
 "nbformat": 4,
 "nbformat_minor": 4
}
