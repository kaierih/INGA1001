{
 "cells": [
  {
   "cell_type": "markdown",
   "metadata": {
    "deletable": false,
    "editable": false,
    "nbgrader": {
     "cell_type": "markdown",
     "checksum": "9ee517cd3fb91b355cc6f532b529d128",
     "grade": false,
     "grade_id": "cell-a96c53aefff4eaac",
     "locked": true,
     "schema_version": 3,
     "solution": false,
     "task": false
    }
   },
   "source": [
    "<nav class=\"navbar navbar-default\">\n",
    "  <div class=\"container-fluid\">\n",
    "    <div class=\"navbar-header\">\n",
    "      <a class=\"navbar-brand\" href=\"00_Python_oving_4_LESMEG.ipynb\">Øving 4</a>\n",
    "    </div>\n",
    "    <ul class=\"nav navbar-nav\">\n",
    "    <li class=\"active\"><a href=\"01_Generelt%20om%20lister.ipynb\">Generelt om lister</a></li>\n",
    "    <li><a href=\"02_Lett%20og%20blandet.ipynb\">Lett og blandet</a></li>\n",
    "    <li><a href=\"03_Lotto.ipynb\">Lotto</a></li>\n",
    "    <li><a href=\"04_Intro%20til%20numpy.ipynb\">Intro til numpy</a></li>  \n",
    "    <li><a href=\"05_Intro%20til%20Matplotlib.ipynb\">Intro til Matplotlib</a></li>  \n",
    "    <li><a href=\"06_Koch_snoflak.ipynb\">Koch's Snøflak</a></li>  \n",
    "    </ul>\n",
    "  </div>\n",
    "</nav>\n",
    "\n",
    "# Generelt om lister\n",
    "\n",
    "**Læringsmål:**\n",
    "\n",
    "* Lister\n",
    "* Indeksering\n",
    "* List Slicing\n",
    "\n",
    "\n",
    "I denne oppgaven skal vi bli kjent med hvordan lister fungerer i Python ved å opprette enkle lister, endre på dem, og skrive ut listene til konsollen. "
   ]
  },
  {
   "cell_type": "markdown",
   "metadata": {
    "deletable": false,
    "editable": false,
    "nbgrader": {
     "cell_type": "markdown",
     "checksum": "0b0e6f32f5a0594e1f4d13c89d38a7f2",
     "grade": false,
     "grade_id": "cell-abbf7884cc842d93",
     "locked": true,
     "schema_version": 3,
     "solution": false,
     "task": false
    }
   },
   "source": [
    "### Generelt om lister\n",
    "\n",
    "Lister er en mye brukt datastruktur for å tilordne én variabel en rekke med verdier. Lister kan blant annet inneholde tall, strenger eller andre lister.\n",
    "\n",
    "For å opprette en tom liste i Python skriver vi []. Vilkårlig lange lister kan lages ved å skrive [a, b, c, ... ], der a, b, og c er elementer i listen. For eksempel:"
   ]
  },
  {
   "cell_type": "code",
   "execution_count": null,
   "metadata": {},
   "outputs": [],
   "source": [
    "min_liste = [4,'elementer','i','listen']"
   ]
  },
  {
   "cell_type": "markdown",
   "metadata": {
    "deletable": false,
    "editable": false,
    "nbgrader": {
     "cell_type": "markdown",
     "checksum": "cc478230344b9e782d45c9bb7982b909",
     "grade": false,
     "grade_id": "cell-6cb78ed229ec1247",
     "locked": true,
     "schema_version": 3,
     "solution": false,
     "task": false
    }
   },
   "source": [
    "Hvert element i en liste har en indeks, som beskriver posisjonen elementet har i listen. Denne brukes når vi skal endre eller finne et element i en liste.\n",
    "\n",
    "Lister i Python er nullindeksert, det vil si at det første elementet har indeks 0, det neste elementet har indeks 1, osv. Ved å skrive liste[index] kan vi finne eller endre elementer i en liste. Dvs. at min_liste[0] er 4, min_liste[1] er 'elementer', min_liste[2] er 'i' og min_liste[3] er 'listen'. Dette er summert opp i tabellen nedenfor:\n",
    "\n",
    "`indeks` | `min_liste[indeks]`\n",
    "---|---\n",
    "`0` | `4`\n",
    "`1` | `'elementer'`\n",
    "`2` | `'i'`\n",
    "`3` | `'listen'`\n",
    "\n",
    "\n",
    "For eksempel: (**Prøv gjerne å endre på koden og se hva som skjer**)"
   ]
  },
  {
   "cell_type": "code",
   "execution_count": null,
   "metadata": {},
   "outputs": [],
   "source": [
    "min_liste = [4,'elementer','i','listen']\n",
    "print(min_liste[0])  # koden skriver ut elementet på posisjon 0 i listen: 4\n",
    "min_liste[1] = 'ting'\n",
    "print(min_liste[1])  # koden skriver ut elementet på posisjon 1 i listen: ting"
   ]
  },
  {
   "cell_type": "markdown",
   "metadata": {
    "deletable": false,
    "editable": false,
    "nbgrader": {
     "cell_type": "markdown",
     "checksum": "c59d68dbfc04de4ad6b56accdff79c37",
     "grade": false,
     "grade_id": "cell-25c311676715923d",
     "locked": true,
     "schema_version": 3,
     "solution": false,
     "task": false
    }
   },
   "source": [
    "### Deloppgave a)\n",
    "\n",
    "Lag en liste `my_first_list` med alle heltallene fra og med 1 til og med 6.\n",
    "\n",
    "Eksempel på kjøring:\n",
    "\n",
    "```python\n",
    "print(my_first_list)\n",
    "[1, 2, 3, 4, 5, 6]\n",
    "```\n",
    "***Skriv koden din i boksen under.***"
   ]
  },
  {
   "cell_type": "code",
   "execution_count": null,
   "metadata": {},
   "outputs": [],
   "source": []
  },
  {
   "cell_type": "markdown",
   "metadata": {
    "deletable": false,
    "editable": false,
    "nbgrader": {
     "cell_type": "markdown",
     "checksum": "c7502b7d19651f7c31348ab484979b79",
     "grade": false,
     "grade_id": "cell-403c9a169a3d4f43",
     "locked": true,
     "schema_version": 3,
     "solution": false,
     "task": false
    }
   },
   "source": [
    "### Lengde av lister\n",
    "\n",
    "For å finne lengden på en liste er det nyttig å benytte seg av den innebygde funksjonen, `len()`. Dersom vi tar `len(min_liste)` vil dette være lik 4 dersom min_liste er lik som under Generelt om lister. Lengden er altså lik antall elementer i listen. Ettersom en liste er nullindeksert vil indeksen til det siste elementet alltid være lik lengden-1. For eksempel vil det siste elementet i `min_liste` være på indeks 3 når lengden er 4. En annen måte å få ut det siste elementet i en liste er å tenke at det siste elementet har indeks -1, da vil det nest siste elementet ha indeks -2 osv."
   ]
  },
  {
   "cell_type": "markdown",
   "metadata": {
    "deletable": false,
    "editable": false,
    "nbgrader": {
     "cell_type": "markdown",
     "checksum": "86a3d6e0d9984f60d83df67ec68c3e1b",
     "grade": false,
     "grade_id": "cell-69e807704b60481a",
     "locked": true,
     "schema_version": 3,
     "solution": false,
     "task": false
    }
   },
   "source": [
    "### Deloppgave b)\n",
    "\n",
    "Skriv ut det siste elementet i listen til skjerm. **Husk at du kan bruke listen fra forrige oppgave uten å definere `my_first_list` på nytt.**\n",
    "\n",
    "(obs: dette kan gjøres på to forskjellige måter)\n",
    "\n",
    "Eksempel på kjøring:\n",
    "```python\n",
    "6\n",
    "```\n",
    "***Skriv koden din i boksen under.***"
   ]
  },
  {
   "cell_type": "code",
   "execution_count": null,
   "metadata": {},
   "outputs": [],
   "source": []
  },
  {
   "cell_type": "markdown",
   "metadata": {
    "deletable": false,
    "editable": false,
    "nbgrader": {
     "cell_type": "markdown",
     "checksum": "840b83a75e772ba6aeba0f4657cdad02",
     "grade": false,
     "grade_id": "cell-07b9cacfc9c2b980",
     "locked": true,
     "schema_version": 3,
     "solution": false,
     "task": false
    }
   },
   "source": [
    "### Deloppgave c)\n",
    "\n",
    "Bytt ut det nest siste elementet (5) med tekststrengen 'pluss'.\n",
    "\n",
    "Eksempel på kjøring:\n",
    "\n",
    "```python\n",
    "print(my_first_list)\n",
    "[1, 2, 3, 4, 'pluss', 6]\n",
    "```\n",
    "\n",
    "***Skriv koden din i boksen under.***"
   ]
  },
  {
   "cell_type": "code",
   "execution_count": null,
   "metadata": {},
   "outputs": [],
   "source": []
  },
  {
   "cell_type": "markdown",
   "metadata": {
    "deletable": false,
    "editable": false,
    "nbgrader": {
     "cell_type": "markdown",
     "checksum": "8a168e7777fd0d3a2ff74702f15842a9",
     "grade": false,
     "grade_id": "cell-ddebc8642ffea685",
     "locked": true,
     "schema_version": 3,
     "solution": false,
     "task": false
    }
   },
   "source": [
    "### Slicing av lister\n",
    "\n",
    "La oss si at vi har en liste som inneholder 5 elementer, for eksempel"
   ]
  },
  {
   "cell_type": "code",
   "execution_count": null,
   "metadata": {},
   "outputs": [],
   "source": [
    "bokstaver = ['a', 'b', 'c', 'd', 'e']"
   ]
  },
  {
   "cell_type": "markdown",
   "metadata": {
    "deletable": false,
    "editable": false,
    "nbgrader": {
     "cell_type": "markdown",
     "checksum": "6077cc6f25f4b8daf46debdbf2ca4b1f",
     "grade": false,
     "grade_id": "cell-94ac388c942f1617",
     "locked": true,
     "schema_version": 3,
     "solution": false,
     "task": false
    }
   },
   "source": [
    "Vi ønsker en ny liste som kun inneholder de første 3 elementene, dvs. 'a', 'b' og 'c', og den listen skal hete bokstaver_abc."
   ]
  },
  {
   "cell_type": "code",
   "execution_count": null,
   "metadata": {},
   "outputs": [],
   "source": [
    "bokstaver_abc = bokstaver[:3]\n",
    "print(bokstaver_abc)"
   ]
  },
  {
   "cell_type": "markdown",
   "metadata": {
    "deletable": false,
    "editable": false,
    "nbgrader": {
     "cell_type": "markdown",
     "checksum": "f90a172b7f2ad2374ab08a8e2513ab9d",
     "grade": false,
     "grade_id": "cell-5ddf8a0958651ec8",
     "locked": true,
     "schema_version": 3,
     "solution": false,
     "task": false
    }
   },
   "source": [
    "En generell formel for slicing er:\n",
    "\n",
    "```python\n",
    "nyListe = liste[start:slutt]\n",
    "```\n",
    "\n",
    "hvor start er indeksen til det første tallet du ønsker å ha med, og slutt er indeksen+1 til det siste tallet du ønsker å ha med. Altså er den formelen skrevet som \"fra og med\" start og \"til, men ikke med\" slutt. Dersom man ikke skriver noe på start som i eksempelet over, vil programmet anta at du mener fra starten av listen, og dersom du ikke skriver noe på slutt vil programmet anta at du mener frem til listen er ferdig."
   ]
  },
  {
   "cell_type": "markdown",
   "metadata": {
    "deletable": false,
    "editable": false,
    "nbgrader": {
     "cell_type": "markdown",
     "checksum": "81aef9041fe316e9bba99f858a556c36",
     "grade": false,
     "grade_id": "cell-d2f5e9014fb400b0",
     "locked": true,
     "schema_version": 3,
     "solution": false,
     "task": false
    }
   },
   "source": [
    "### Deloppgave d)\n",
    "\n",
    "Lag en ny liste `my_second_list` som skal inneholde de tre siste elementene i `my_first_list`.\n",
    "\n",
    "Eksempel på kjøring:\n",
    "\n",
    "```python\n",
    "print(my_second_list)\n",
    "[4, 'pluss', 6]```\n",
    "\n",
    "***Skriv koden din i boksen under.***"
   ]
  },
  {
   "cell_type": "code",
   "execution_count": null,
   "metadata": {},
   "outputs": [],
   "source": []
  },
  {
   "cell_type": "markdown",
   "metadata": {
    "deletable": false,
    "editable": false,
    "nbgrader": {
     "cell_type": "markdown",
     "checksum": "4c70548c43ddec936f88be7d198737ae",
     "grade": false,
     "grade_id": "cell-456b8d415905d2af",
     "locked": true,
     "schema_version": 3,
     "solution": false,
     "task": false
    }
   },
   "source": [
    "### Deloppgave e)\n",
    "\n",
    "Skriv ut `my_second_list` og tekststrengen 'er lik 10' til skjerm.\n",
    "\n",
    "Eksempel på kjøring:\n",
    "\n",
    "```python\n",
    "[4, 'pluss', 6] er lik 10\n",
    "```\n",
    "\n",
    "***Skriv koden din i boksen under.***"
   ]
  },
  {
   "cell_type": "code",
   "execution_count": null,
   "metadata": {},
   "outputs": [],
   "source": []
  },
  {
   "cell_type": "markdown",
   "metadata": {
    "deletable": false,
    "editable": false,
    "nbgrader": {
     "cell_type": "markdown",
     "checksum": "421b993ef11570d02d1d5d66f6515e5c",
     "grade": false,
     "grade_id": "cell-cc824b00641cb365",
     "locked": true,
     "schema_version": 3,
     "solution": false,
     "task": false
    }
   },
   "source": [
    "### Se Løsning:\n",
    "<li><a href=\"01_Generelt%20om%20lister%20-%20lf.ipynb\">Generelt om lister - løsningsforslag</a></li>"
   ]
  }
 ],
 "metadata": {
  "kernelspec": {
   "display_name": "Python 3",
   "language": "python",
   "name": "python3"
  },
  "language_info": {
   "codemirror_mode": {
    "name": "ipython",
    "version": 3
   },
   "file_extension": ".py",
   "mimetype": "text/x-python",
   "name": "python",
   "nbconvert_exporter": "python",
   "pygments_lexer": "ipython3",
   "version": "3.8.3"
  }
 },
 "nbformat": 4,
 "nbformat_minor": 4
}
