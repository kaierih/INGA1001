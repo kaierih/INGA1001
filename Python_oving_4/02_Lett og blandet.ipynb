{
 "cells": [
  {
   "cell_type": "markdown",
   "metadata": {
    "deletable": false,
    "editable": false,
    "nbgrader": {
     "cell_type": "markdown",
     "checksum": "eadf8f13b35ad4e89203b9f55dcaba68",
     "grade": false,
     "grade_id": "cell-44942383a10bc5ba",
     "locked": true,
     "schema_version": 3,
     "solution": false,
     "task": false
    }
   },
   "source": [
    "<nav class=\"navbar navbar-default\">\n",
    "  <div class=\"container-fluid\">\n",
    "    <div class=\"navbar-header\">\n",
    "      <a class=\"navbar-brand\" href=\"00_Python_oving_4_LESMEG.ipynb\">Øving 4</a>\n",
    "    </div>\n",
    "    <ul class=\"nav navbar-nav\">\n",
    "    <li><a href=\"01_Generelt%20om%20lister.ipynb\">Generelt om lister</a></li>\n",
    "    <li class=\"active\"><a href=\"02_Lett%20og%20blandet.ipynb\">Lett og blandet</a></li>\n",
    "    <li><a href=\"03_Lotto.ipynb\">Lotto</a></li>\n",
    "    <li><a href=\"04_Intro%20til%20numpy.ipynb\">Intro til numpy</a></li>  \n",
    "    <li><a href=\"05_Intro%20til%20Matplotlib.ipynb\">Intro til Matplotlib</a></li>  \n",
    "    <li><a href=\"06_Koch_snoflak.ipynb\">Koch's Snøflak</a></li>  \n",
    "    </ul>\n",
    "  </div>\n",
    "</nav>\n",
    "\n",
    "# Lett og blandet om lister\n",
    "\n",
    "**Læringsmål:**\n",
    "\n",
    "* Lister\n",
    "\n",
    "**Starting Out with Python:**\n",
    "\n",
    "* Kap. 7.1-7.3\n",
    "\n",
    "I denne oppgaven skal vi se litt på utregninger med hele lister, samt noen innebygde listemetoder. Du kan lese om innebygde funksjoner i Python [her](https://docs.python.org/3/library/functions.html), og mer om lister og listemetoder i Python [her](https://docs.python.org/3/tutorial/datastructures.html). I denne oppgaven skal vi introdusere funksjonene `sum()` og `len()`, i tillegg til listemetoden `.sort()`.\n",
    "\n"
   ]
  },
  {
   "cell_type": "markdown",
   "metadata": {
    "deletable": false,
    "editable": false,
    "nbgrader": {
     "cell_type": "markdown",
     "checksum": "c74722c9b5db45377d1939a5ca570b86",
     "grade": false,
     "grade_id": "cell-e87e160d3b619d9d",
     "locked": true,
     "schema_version": 3,
     "solution": false,
     "task": false
    }
   },
   "source": [
    "### Deloppgave a)\n",
    "\n",
    "Fullfør funksjonen **is_six_at_edge()**, som tar inn en liste med heltall som parameter og returnerer **True** dersom **6** er det første eller det siste elementet i listen. Funksjonen returnerer ellers **False**.\n",
    "NB! Funksjonen skal også returnere True hvis lista starter **og** slutter på 6. \n",
    "\n",
    "Eksempel på kjøring:\n",
    "```python\n",
    "print(is_six_at_edge([1,2,3,4,5,6]))\n",
    "True\n",
    ">>>  \n",
    "print(is_six_at_edge([1,2,3,4,5,6,7]))\n",
    "False\n",
    "```\n",
    "***Skriv koden din i boksen under.***"
   ]
  },
  {
   "cell_type": "code",
   "execution_count": null,
   "metadata": {},
   "outputs": [],
   "source": [
    "def is_six_at_edge(numberList):\n",
    "    #------------------------\n",
    "    # Skriv din kode her\n",
    "    #------------------------\n",
    "    return six_at_edge"
   ]
  },
  {
   "cell_type": "markdown",
   "metadata": {
    "deletable": false,
    "editable": false,
    "nbgrader": {
     "cell_type": "markdown",
     "checksum": "9ddf258dd696ef0993c1a0f7aba875eb",
     "grade": false,
     "grade_id": "cell-ba6a42c0d31693d0",
     "locked": true,
     "schema_version": 3,
     "solution": false,
     "task": false
    }
   },
   "source": [
    "### Sum og lengde av en liste\n",
    "\n",
    "`sum(listen)` returnerer den totale summen av alle elementene i listen, for eksempel sum([1,2,3,4]) = 1+2+3+4 = 10.\n",
    "\n",
    "`len(listen)` returnerer antall elementer i listen, for eksempel len([1,2,3,4])=4."
   ]
  },
  {
   "cell_type": "markdown",
   "metadata": {
    "deletable": false,
    "editable": false,
    "nbgrader": {
     "cell_type": "markdown",
     "checksum": "2c5ebc7ce603cf3e2cc627839e7ccebd",
     "grade": false,
     "grade_id": "cell-055cada34dc5e523",
     "locked": true,
     "schema_version": 3,
     "solution": false,
     "task": false
    }
   },
   "source": [
    "### Deloppgave b)\n",
    "\n",
    "Bruk den innebygde funksjonen [sum()](https://docs.python.org/3/library/functions.html#sum), samt [len()](https://docs.python.org/3/library/functions.html#len) for å fullføre funksjonen `average()` som tar inn en liste med tall som parameter og returnerer gjennomsnittsverdien til tallene i listen.\n",
    "\n",
    "Eksempel på kjøring:\n",
    "```python\n",
    "print(average([1,3,5,7,9,11]))\n",
    "6```\n",
    "\n",
    "***Skriv koden din i boksen under.***"
   ]
  },
  {
   "cell_type": "code",
   "execution_count": null,
   "metadata": {},
   "outputs": [],
   "source": [
    "def average(numberList):\n",
    "    #------------------------\n",
    "    # Skriv din kode her\n",
    "    #------------------------\n",
    "    return listAvg"
   ]
  },
  {
   "cell_type": "markdown",
   "metadata": {
    "deletable": false,
    "editable": false,
    "nbgrader": {
     "cell_type": "markdown",
     "checksum": "a5e2c69908a8b8e24497771e205e0d61",
     "grade": false,
     "grade_id": "cell-e3ab4115e1a5bd5c",
     "locked": true,
     "schema_version": 3,
     "solution": false,
     "task": false
    }
   },
   "source": [
    "### Deloppgave c)\n",
    "\n",
    "Bruk den innebygde metoden [**.sort()**](https://docs.python.org/3/howto/sorting.html) for å fullføre funksjonen **median()** som tar inn en liste og finner medianen av listen og returnerer den. Husk at medianen er det midterste elementet i en sortert rekkefølge av listens elementer.  \n",
    "*NB! Du kan anta at det er et oddetall antall elementer i listen!*\n",
    "\n",
    "Eksempel på kjøring:\n",
    "```python\n",
    "print(median([1,2,4,5,7,9,10]))\n",
    "5\n",
    ">>>  \n",
    "print(median([1,4,2,5,3]))\n",
    "3\n",
    "```\n",
    "***Skriv koden din i boksen under.***"
   ]
  },
  {
   "cell_type": "code",
   "execution_count": null,
   "metadata": {},
   "outputs": [],
   "source": [
    "def median(numberList):\n",
    "    #------------------------\n",
    "    # Skriv din kode her\n",
    "    #------------------------\n",
    "    return listMedian"
   ]
  },
  {
   "cell_type": "markdown",
   "metadata": {
    "deletable": false,
    "editable": false,
    "nbgrader": {
     "cell_type": "markdown",
     "checksum": "edff7659cd12296886e9621a609c00ec",
     "grade": false,
     "grade_id": "cell-a80828552749b582",
     "locked": true,
     "schema_version": 3,
     "solution": false,
     "task": false
    }
   },
   "source": [
    "#### Hint\n",
    "\n",
    "Ved å skrive **my_list.sort()** sorterer du elementene i listen **my_list**. \n",
    "\n",
    "NB! Dette vil ikke returnere en verdi. Endringene utføres _direkte_ på variabelen `my_list`."
   ]
  },
  {
   "cell_type": "markdown",
   "metadata": {
    "deletable": false,
    "editable": false,
    "nbgrader": {
     "cell_type": "markdown",
     "checksum": "0764477c08629014e8039828b50dbbe3",
     "grade": false,
     "grade_id": "cell-a89e95af9d3dc484",
     "locked": true,
     "schema_version": 3,
     "solution": false,
     "task": false
    }
   },
   "source": [
    "### Se løsning:\n",
    "<li><a href=\"02_Lett%20og%20blandet%20-%20lf.ipynb\">Lett og blandet om lister - løsningsforslag</a></li>"
   ]
  }
 ],
 "metadata": {
  "kernelspec": {
   "display_name": "Python 3",
   "language": "python",
   "name": "python3"
  },
  "language_info": {
   "codemirror_mode": {
    "name": "ipython",
    "version": 3
   },
   "file_extension": ".py",
   "mimetype": "text/x-python",
   "name": "python",
   "nbconvert_exporter": "python",
   "pygments_lexer": "ipython3",
   "version": "3.8.3"
  }
 },
 "nbformat": 4,
 "nbformat_minor": 4
}
