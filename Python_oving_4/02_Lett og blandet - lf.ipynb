{
 "cells": [
  {
   "cell_type": "code",
   "execution_count": null,
   "metadata": {},
   "outputs": [],
   "source": [
    "#a)\n",
    "\n",
    "def isSixAtEdge(numberList):\n",
    "    six_at_edge = numberList[0] == 6 or numberList[-1] == 6\n",
    "    return six_at_edge\n",
    " \n",
    "\n",
    "#b)\n",
    "\n",
    "def average(numberList):\n",
    "    listAvg = sum(numberList)/len(numberList)\n",
    "    return listAvg\n",
    " \n",
    "\n",
    "\n",
    "#c)\n",
    "\n",
    "def median(numberList):\n",
    "    numberList.sort()\n",
    "    medianIndex = int((len(numberList)-1)/2)\n",
    "    listMedian = numberList[medianIndex]\n",
    "    return listMedian"
   ]
  }
 ],
 "metadata": {
  "kernelspec": {
   "display_name": "Python 3",
   "language": "python",
   "name": "python3"
  },
  "language_info": {
   "codemirror_mode": {
    "name": "ipython",
    "version": 3
   },
   "file_extension": ".py",
   "mimetype": "text/x-python",
   "name": "python",
   "nbconvert_exporter": "python",
   "pygments_lexer": "ipython3",
   "version": "3.7.9"
  }
 },
 "nbformat": 4,
 "nbformat_minor": 2
}
