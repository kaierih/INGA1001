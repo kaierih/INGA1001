{
 "cells": [
  {
   "cell_type": "markdown",
   "metadata": {
    "deletable": false,
    "editable": false,
    "nbgrader": {
     "cell_type": "markdown",
     "checksum": "a7e86400c0e8443cccffe3b87a74547d",
     "grade": false,
     "grade_id": "cell-e127ca3bd468c1e4",
     "locked": true,
     "schema_version": 3,
     "solution": false,
     "task": false
    }
   },
   "source": [
    "<nav class=\"navbar navbar-default\">\n",
    "  <div class=\"container-fluid\">\n",
    "    <div class=\"navbar-header\">\n",
    "      <a class=\"navbar-brand\" href=\"00_Python_oving_4_LESMEG.ipynb\">Øving 4</a>\n",
    "    </div>\n",
    "    <ul class=\"nav navbar-nav\">\n",
    "    <li><a href=\"01_Generelt%20om%20lister.ipynb\">Generelt om lister</a></li>\n",
    "    <li><a href=\"02_Lett%20og%20blandet.ipynb\">Lett og blandet</a></li>\n",
    "    <li><a href=\"03_Lotto.ipynb\">Lotto</a></li>\n",
    "    <li class=\"active\"><a href=\"04_Intro%20til%20numpy.ipynb\">Intro til numpy</a></li>  \n",
    "    <li><a href=\"05_Intro%20til%20Matplotlib.ipynb\">Intro til Matplotlib</a></li>  \n",
    "    <li><a href=\"06_Koch_snoflak.ipynb\">Koch's Snøflak</a></li>  \n",
    "    </ul>\n",
    "  </div>\n",
    "</nav>\n",
    "\n",
    "# Intro til Numpy\n",
    "### Fra matematiske funksjonsuttrykk til python-kode\n",
    "\n",
    "__Læringsmål__:\n",
    "* Bli kjent med numpy-typen ndarray\n",
    "* Være i stand til å generere en tallrekke med utgangspunkt i et matematisk funksjonsuttrykk\n",
    "\n",
    "**Mulige Poeng:**\n",
    "\n",
    "* 3 poeng\n",
    "\n",
    "NB! Denne oppgaven bes du ikke om å lage funksjoner, men heller variabler med et spesifikkt navn."
   ]
  },
  {
   "cell_type": "markdown",
   "metadata": {
    "deletable": false,
    "editable": false,
    "nbgrader": {
     "cell_type": "markdown",
     "checksum": "484e3a5bfa6b24135cc4ac68d56f5b31",
     "grade": false,
     "grade_id": "cell-a75aa7fd6cafe3dc",
     "locked": true,
     "schema_version": 3,
     "solution": false,
     "task": false
    }
   },
   "source": [
    "## Måleserier som som tallrekker\n",
    "\n",
    "Enhver serie med innsamlet data over tid kan anses som et digitalt signal. Et eksempel på dette kunne vært følgende korte serie med vindstyrke-målinger:\n",
    "```python\n",
    "t = [0, 10, 20, 30, 40, 50]   # Måletidspunkt i sekund\n",
    "vt = [3, 2, 5, 1, 2, 8]       # Vindstyrke målt i m/s \n",
    "```\n",
    "Her har vi altså to lister, hvor den éne er en serie med måletidspunkt `t`, og den andre er en serie med vindstyrkemålinger `vt` tatt i tidspunktene angitt i listen `t`. Intervallet mellom målinger ser vi er 10 sekund. I denne oppgaven skal vi utforske et bibliotek som forenkler håndteringen av informasjon i denne formen.\n",
    "\n",
    "## NumPy - en modul for behandling av multidimensjonale tabeller/arrays.\n",
    "\n",
    "I en rekke ingeniørfaglige emner kommer vi ofte til å ha behov for å gjøre matematiske bergninger på data eller matematiske funksjoner som i form av en eller annen sekvens. Eksempler på dette kan være å lage en sinusbølge, eller multiplisere en liste med en annen. La oss si at vi vil generere tallrekken som er gitt ved det matematiske uttrykket nedenfor:\n",
    "\n",
    "$$x_n = 2^n, \\ \\ \\ n\\in \\{0, 1, 2, 3, 4, 5, 6, 7, 8, 9\\}$$\n",
    "\n",
    "Uttrykket $n \\in \\{0, 1, 2, 3, 4, 5, 6, 7, 8, 9\\}$ kan leses som $n$ er heltall fra og med 0 til og med 9.\n",
    "\n",
    "Med vanlige listeoperasjoner kan dette utføres med bruk av en for-løkke, og den innebygde liste-metoden `append()`:\n",
    "```python\n",
    "x_n = []             # Initialiser en tom liste\n",
    "for n in range(10):  # Iterer over alle heltall fra 0 til 9\n",
    "    x_n.append(2**n) # Regn ut hvert element og legg til på slutten av listen\n",
    "```\n",
    "\n",
    "Når man skal utføre matematiske operasjoner med slike tallrekker, så kan det være tungvindt og uoversiktlig å måtte ta i bruk en for-løkke hver gang man skal utføre en kalkulasjon med hvert element i en liste. Det er her biblioteket `numpy` kommer inn i bildet. Numpy introduserer noe som nærmest er en \"universalklasse\" for multidimensjonale tabeller med navnet `ndarray`. Hele resten av `numpy`-modulen er bygd rundt denne datatypen. Den aller viktigste egenskapen til denne klassen er at den tillater __*elementvise operasjoner*__. Med bruk av `numpy` kan dermed utregningen ovenfor enkelt utføres med følgende kode:\n",
    "```python\n",
    "import numpy as np  \n",
    "n = np.arange(10)   # Generer en ndarray for heltallene \"n\"\n",
    "x_n = 2**n          # Elementvis utregning av eksponentialer med vanlig potens-operator\n",
    "```\n",
    "\n",
    "`np.arange(10)` tilsvarer i grunn `list(range(10))`, men returnerer en 1x10 `ndarray` istedenfor en 10-elements liste. Her ser vi at når vi først har generert en array med heltalsverdiene $n$, kan vi anvende det med vanlige matematiske operatorer til å generere nye arrays ut ifra et funksjonsuttrykk. Vi kan også lage `ndarray`-objekter ut av vanlige lister med funksjonen `np.array()`.\n",
    "\n",
    "```python\n",
    "my_list = [2, 3, 1, 5]\n",
    "my_array = np.array(my_list)\n",
    "```\n",
    "\n",
    "Det er også verdt å nevne at `numpy` inneholder egne varianter av funksjoner for elementvis utregning av matematiske uttrykk som `sin()`, `cos()`, `exp()`, `sqrt()`, `log()` osv. Mer detaljert informasjon finner du [her](https://numpy.org/devdocs/user/quickstart.html). En ulempe med sekvenstypen `ndarray` er at størrelsen på arrayen er \"låst\" når den opprettes, og vi har dermed ikke tilgang til metoder som `.pop()`, `.append()` eller `.nsert()`. Indeksering, list-slicing o.l. fungerer fremdeles likt.\n",
    "\n",
    "__Nedenfor er en kodecelle som importerer en rekke matematiske funksjoner fra modulen numpy uten prefiks, samt importerer resten av modulen med prefiks `np`. Husk å kjøre denne cellen før du begynner på deloppgavene.__"
   ]
  },
  {
   "cell_type": "code",
   "execution_count": null,
   "metadata": {},
   "outputs": [],
   "source": [
    "from numpy import sin, cos, exp, sqrt, log, pi # Forenkler matematiske funksjonsuttrykk\n",
    "import numpy as np # Importerer resten av numpy-modulen"
   ]
  },
  {
   "cell_type": "markdown",
   "metadata": {
    "deletable": false,
    "editable": false,
    "nbgrader": {
     "cell_type": "markdown",
     "checksum": "f955dcf390be0aac6edbb05ede64efae",
     "grade": false,
     "grade_id": "cell-477eacf4df557884",
     "locked": true,
     "schema_version": 3,
     "solution": false,
     "task": false
    }
   },
   "source": [
    "## Eksempel:\n",
    "Vi skal generere et array som realiserer denne rekken, hvor \"n\" er indeksverdien. Rekken ar variabelnavnet `x_n`, og innholdet skrives ut med `print()` funksjonen.\n",
    "$$x_{n} = \\frac{1}{2}\\cdot n^2 + 2\\cdot n -3, \\ \\ \\ \\ \\ n \\in \\{0, 1, 2, 3, 4, 5, 6 ,7 ,8, 9\\}$$\n",
    "\n",
    "Prøv å kjøre cellen nedenfor og vurder om utskriften ser riktig ut."
   ]
  },
  {
   "cell_type": "code",
   "execution_count": null,
   "metadata": {},
   "outputs": [],
   "source": [
    "n = np.arange(10)\n",
    "xa_n = n**2/2 + 2*n - 3\n",
    "print(xa_n)"
   ]
  },
  {
   "cell_type": "markdown",
   "metadata": {},
   "source": [
    "Vi ser her at addisjon `+`, subtraksjon `-` og poensoperasjonen `**` utfører de aktuelle matematiske utregningene på _hvet element_ i array-variabelen `n`.\n",
    "\n",
    "Dette lar oss utføre rimelig kompliserte og store utregninger med relativt få linjer. Tabellen nedenfor gir en forklaring på hvilke matematiske operatorer som støttes med numpy sine `ndarray` typer:\n",
    "\n",
    "Operator | Forklaring\n",
    "---|---\n",
    "+ | Elementvis Addisjon\n",
    "- | Elementvis Subtraksjon\n",
    "* | Elementvis Multiplikasjon\n",
    "** | Elementvis Potensregning\n",
    "@ | Matrisemultiplikasjon\n",
    "\n"
   ]
  },
  {
   "cell_type": "markdown",
   "metadata": {
    "deletable": false,
    "editable": false,
    "nbgrader": {
     "cell_type": "markdown",
     "checksum": "a726ab78210437aefe0eb2a05635f4d8",
     "grade": false,
     "grade_id": "cell-cd8650295706c28e",
     "locked": true,
     "schema_version": 3,
     "solution": false,
     "task": false
    }
   },
   "source": [
    "## Deloppgave a)\n",
    "Lag en ny array `x_n` (det presise navnet er viktig) som følger progresjonen genererer de angitte elementene i den geometriske rekken. I denne oppgaven skal du bruke datatypen `ndarray`.\n",
    "$$x_n = 0.64^{\\frac{n}{2}}, \\ \\ \\ \\ \\ n \\in \\{0, 1, 2, 3, 4, 5, 6 ,7 ,8, 9\\}$$"
   ]
  },
  {
   "cell_type": "code",
   "execution_count": null,
   "metadata": {
    "deletable": false,
    "nbgrader": {
     "cell_type": "code",
     "checksum": "9a996c27a4536a165bdd7f77468110d5",
     "grade": false,
     "grade_id": "cell-960990e05f61f59f",
     "locked": false,
     "schema_version": 3,
     "solution": true,
     "task": false
    }
   },
   "outputs": [],
   "source": [
    "#-------------------------------------\n",
    "# SKRIV DIN KODE HER:\n",
    "#-------------------------------------"
   ]
  },
  {
   "cell_type": "code",
   "execution_count": null,
   "metadata": {
    "deletable": false,
    "editable": false,
    "nbgrader": {
     "cell_type": "code",
     "checksum": "353cec638b8f951b4403e23120274e7c",
     "grade": true,
     "grade_id": "cell-c6c1e99a81e05c32",
     "locked": true,
     "points": 1,
     "schema_version": 3,
     "solution": false,
     "task": false
    }
   },
   "outputs": [],
   "source": [
    "print(\"x_n har verdiene: \\n\", x_n)"
   ]
  },
  {
   "cell_type": "markdown",
   "metadata": {
    "deletable": false,
    "editable": false,
    "nbgrader": {
     "cell_type": "markdown",
     "checksum": "d423dc109a4efdfd34c8220f391c5dcb",
     "grade": false,
     "grade_id": "cell-9c1ded6eb9833384",
     "locked": true,
     "schema_version": 3,
     "solution": false,
     "task": false
    }
   },
   "source": [
    "## Deloppgave b)\n",
    "Lag en ny array `y_n` som følger sinussekvensen.\n",
    "$$y_n = \\cos \\left( \\frac{\\pi \\cdot n}{11} + \\frac{\\pi}{6} \\right), \\ \\ \\ \\ \\ n \\in \\{0, 1, 2, 3, 4, 5, 6 ,7 ,8, 9\\}$$"
   ]
  },
  {
   "cell_type": "code",
   "execution_count": null,
   "metadata": {
    "deletable": false,
    "nbgrader": {
     "cell_type": "code",
     "checksum": "60bcd74f58321dec6d8402a7225e1e05",
     "grade": false,
     "grade_id": "cell-35daa7cadd57fbc4",
     "locked": false,
     "schema_version": 3,
     "solution": true,
     "task": false
    }
   },
   "outputs": [],
   "source": [
    "#-------------------------------------\n",
    "# SKRIV DIN KODE HER:\n",
    "#-------------------------------------"
   ]
  },
  {
   "cell_type": "code",
   "execution_count": null,
   "metadata": {
    "deletable": false,
    "editable": false,
    "nbgrader": {
     "cell_type": "code",
     "checksum": "2f9fd31523953bdc84e9d518d857ca96",
     "grade": true,
     "grade_id": "cell-b65238d432e1751a",
     "locked": true,
     "points": 1,
     "schema_version": 3,
     "solution": false,
     "task": false
    }
   },
   "outputs": [],
   "source": [
    "print(\"y_n har verdiene: \\n\", y_n)"
   ]
  },
  {
   "cell_type": "markdown",
   "metadata": {
    "deletable": false,
    "editable": false,
    "nbgrader": {
     "cell_type": "markdown",
     "checksum": "3968b886a49eea1c31407ad10a0dbee5",
     "grade": false,
     "grade_id": "cell-470cf8bf8bca4089",
     "locked": true,
     "schema_version": 3,
     "solution": false,
     "task": false
    }
   },
   "source": [
    "**Flere sekvenser i ett uttrykk.**\n",
    "\n",
    "Hittil har vi sett på tilfeller hvor vi en av operanden i en regneoperasjon er et enkelt tall, og den andre er en array. Men det er også fullt mulig at begge operander er en array, så lenge de har ***like dimensjoner***. \n",
    "\n",
    "Se for eksempel på kodesnutten nedenfor:\n",
    "```python\n",
    "x1 = np.array([1, 2, 3, 4, 5, 6])\n",
    "x2 = np.array([6, 5, 4, 3, 2, 1])\n",
    "\n",
    "x3 = x1/x2\n",
    "```\n",
    "\n",
    "Her vil hvert element i `x3` være resulatet av tilsvarende element i `x1` delt på tilsvarende element i `x2`. Med andre ord er linjen `x3 = x1/x2` ekvivalent med køkken nedenfor.\n",
    "\n",
    "```python\n",
    "x3 = np.zeros(6) # Start med en array med 0-ere og lengde lik 6. \n",
    "for i in range(6):\n",
    "    x3[i] = x1[i]/x2[i]\n",
    "```\n",
    "\n",
    "P.S. Her brukes funksjonen `np.zeros()` til å lage en \"tom\" array hvor hvert element har verdien 0. Dette er fordi vi typisk _ikke_ kan endre på lengden til en `ndarray` med listemetoder som `append()` eller `pop()` underveis uten å lage en helt ny array. "
   ]
  },
  {
   "cell_type": "markdown",
   "metadata": {
    "deletable": false,
    "editable": false,
    "nbgrader": {
     "cell_type": "markdown",
     "checksum": "15d82da98760b04d40ff2dd8b558bdff",
     "grade": false,
     "grade_id": "cell-1c52ca8c09c7b09a",
     "locked": true,
     "schema_version": 3,
     "solution": false,
     "task": false
    }
   },
   "source": [
    "## Deloppgave c) \n",
    "Bruk elementvis multiplikasjon til å lage en array `z_n` som er _produktet_ av `x_n`og `y_n` fra deloppgave __b__ og __c__).\n",
    "$$z_n = x_n \\cdot y_n, \\ \\ \\ \\ \\ n \\in \\{0, 1, 2, 3, 4, 5, 6 ,7 ,8, 9\\}$$"
   ]
  },
  {
   "cell_type": "code",
   "execution_count": null,
   "metadata": {
    "deletable": false,
    "nbgrader": {
     "cell_type": "code",
     "checksum": "803bc57174805ed6b7ebdebe0cbb37f3",
     "grade": false,
     "grade_id": "cell-dfdfc74a04e0dd9a",
     "locked": false,
     "schema_version": 3,
     "solution": true,
     "task": false
    }
   },
   "outputs": [],
   "source": [
    "#-------------------------------------\n",
    "# SKRIV DIN KODE HER:\n",
    "#-------------------------------------"
   ]
  },
  {
   "cell_type": "code",
   "execution_count": null,
   "metadata": {
    "deletable": false,
    "editable": false,
    "nbgrader": {
     "cell_type": "code",
     "checksum": "1775c9a94570b3ff4f804cc00cfbc084",
     "grade": true,
     "grade_id": "cell-4758a5edd37aea17",
     "locked": true,
     "points": 1,
     "schema_version": 3,
     "solution": false,
     "task": false
    }
   },
   "outputs": [],
   "source": [
    "print(\"y_n har verdiene: \\n\", z_n)"
   ]
  }
 ],
 "metadata": {
  "kernelspec": {
   "display_name": "Python 3",
   "language": "python",
   "name": "python3"
  },
  "language_info": {
   "codemirror_mode": {
    "name": "ipython",
    "version": 3
   },
   "file_extension": ".py",
   "mimetype": "text/x-python",
   "name": "python",
   "nbconvert_exporter": "python",
   "pygments_lexer": "ipython3",
   "version": "3.8.3"
  }
 },
 "nbformat": 4,
 "nbformat_minor": 4
}
