{
 "cells": [
  {
   "cell_type": "markdown",
   "metadata": {
    "deletable": false,
    "editable": false,
    "nbgrader": {
     "cell_type": "markdown",
     "checksum": "004040a8e273745f3b8f833d893f36f6",
     "grade": false,
     "grade_id": "cell-1cc0f12d4abfdb8f",
     "locked": true,
     "schema_version": 3,
     "solution": false,
     "task": false
    }
   },
   "source": [
    "<nav class=\"navbar navbar-default\">\n",
    "  <div class=\"container-fluid\">\n",
    "    <div class=\"navbar-header\">\n",
    "      <a class=\"navbar-brand\" href=\"00_Python_oving_4_LESMEG.ipynb\">Øving 4</a>\n",
    "    </div>\n",
    "    <ul class=\"nav navbar-nav\">\n",
    "    <li><a href=\"01_Generelt%20om%20lister.ipynb\">Generelt om lister</a></li>\n",
    "    <li><a href=\"02_Lett%20og%20blandet.ipynb\">Lett og blandet</a></li>\n",
    "    <li><a href=\"03_Lotto.ipynb\">Lotto</a></li>\n",
    "    <li><a href=\"04_Intro%20til%20numpy.ipynb\">Intro til numpy</a></li>  \n",
    "    <li class=\"active\"><a href=\"05_Intro%20til%20Matplotlib.ipynb\">Intro til Matplotlib</a></li>  \n",
    "    <li><a href=\"06_Koch_snoflak.ipynb\">Koch's Snøflak</a></li>  \n",
    "    </ul>\n",
    "  </div>\n",
    "</nav>\n",
    "\n",
    "# Plotting av matematiske funksjoner med Matplotlib\n",
    "\n",
    "__Læringsmål__:\n",
    "* Tilnærming til \"kontinuerlige\" funksjoner\n",
    "* Plotting av funksjoner med bruk av matplotlib\n",
    "* Kvadratisk koordinatsystem og polar koordinatsystem\n",
    "\n",
    "__Cellen nedenfor importerer nødvendige moduler, og angir hvordan plot skal fremstilles.__"
   ]
  },
  {
   "cell_type": "code",
   "execution_count": null,
   "metadata": {},
   "outputs": [],
   "source": [
    "from numpy import sin, cos, exp, sqrt, log, pi\n",
    "import numpy as np\n",
    "import matplotlib.pyplot as plt\n",
    "\n",
    "# Linjen nedenfor betyr at figurer skal plottes i notebook-dokumentent,\n",
    "# og inkludere knapper for zooming, panning etc...\n",
    "%matplotlib notebook"
   ]
  },
  {
   "cell_type": "markdown",
   "metadata": {
    "deletable": false,
    "editable": false,
    "nbgrader": {
     "cell_type": "markdown",
     "checksum": "7dfaab3b99221e1dc0ef7f134a55f4cc",
     "grade": false,
     "grade_id": "cell-77ffeb5e1bc47c8e",
     "locked": true,
     "schema_version": 3,
     "solution": false,
     "task": false
    }
   },
   "source": [
    "__Plotting av funksjoner__\n",
    "\n",
    "Vi kommer ofte til å ha lyst til å studere matematiske funksjoner grafisk. Det er derfor nyttig å være i stand til å framstille gode og informative figurer som formidler informasjonen vi er interessert i.\n",
    "\n",
    "Vi skal nå jobbe med matriser og vektorer med svært mange elementer. Istedenfor å benytte en array med heltall `n` slik som i oppgave 1, skal vi nå bruke en array med flyttall slik at vi får høyere \"oppløsning\" enn ett datapunkt per heltall. Her er det anbefalt å bruke funksjonen `linspace(start, stop, num)`, som returnerer en array med `num` element som er uniformt distribuert fra og med `start` til og med `stop`. Et eksempel på dette kan være:\n",
    "\n",
    "```python\n",
    "x = linspace(1, 2, 11)\n",
    "print(x)\n",
    "[1.0, 1.1, 1.2, 1.3, 1.4, 1.5, 1.6, 1.7, 1.8, 1.9, 2.0]\n",
    "```\n",
    "\n",
    "Funksjonen `lot(x,y)` i modulen `matplotlib.pyplot` benytter to sekvensvariabler x og y med _lik lengde_ hvor hvert element i sekvensene angir x-koordinatene og y-koordinatene til et punkt på grafen. Matplotlib vil så generere en graf om trekker linjer mellom alle disse punktene i kronologisk rekkefølge. Det går også an å bruke kun ett argument plot(y), da vil matplotlib anta at x-vektoren er en heltallsarray `x = [1, 2, 3, 4, .....]`.\n",
    "\n",
    "Mer informasjon om funksjonaliteten til plot-funksjonen kan du finne [her](https://matplotlib.org/api/pyplot_api.html), og vi skal utforske en del av mulighetene utover denne oppgaven. Bruk av matplotlib likner for øvrig veldig på MATLAB.\n",
    "Nedenfor er to eksempler med kode, én som plotter den lineære kvadratiske  funksjonen $y = 0.7\\cdot x^2 - x + 4$ for $ 0 \\leq x < 10$, og én som plotter ellipsen beskrevet med $x^2 + 2y^2 = 3^2$."
   ]
  },
  {
   "cell_type": "code",
   "execution_count": null,
   "metadata": {},
   "outputs": [],
   "source": [
    "from numpy import sin, cos, exp, sqrt, log, pi\n",
    "import numpy as np\n",
    "import matplotlib.pyplot as plt\n",
    "\n",
    "x = np.linspace(-3, 3, 1001)\n",
    "f_x = x**2*sin(x)*cos(x)\n",
    "plt.plot(x, f_x)"
   ]
  },
  {
   "cell_type": "code",
   "execution_count": null,
   "metadata": {},
   "outputs": [],
   "source": [
    "# Kvadratisk Funksjon!\n",
    "x1 = np.linspace(0, 10, 101) # Returnerer en array med 101 flyttalsverdier uniformt fordelt mellom 0 og 10\n",
    "y1 = 0.7*x1**2 - x1 + 4\n",
    "plt.figure(1)             # Lager en ny figur\n",
    "plt.plot(x1, y1)          # Plotter en graf ut i fra x- og y koordinater i arrayene x2 og y2 med en connect-the-dots tilnærming\n",
    "plt.show()                # Viser figuren"
   ]
  },
  {
   "cell_type": "code",
   "execution_count": null,
   "metadata": {},
   "outputs": [],
   "source": [
    "# Ellipse!\n",
    "# Ettersom dette er en sirkulær figur er blir det vanskelig å regne ut y-verdier med utgangspunkt i x-verdier.\n",
    "# Her er det bedre å ta utgangspunkt i vinkel \"theta\", og regne ut både x- og y arrays med utgangspunkt i vinkel.\n",
    "\n",
    "theta = np.linspace(0, 2*pi, 101) # Returnerer en array med 101 flyttalsverdier uniformt fordelt mellom 0 og 2*pi\n",
    "x2 = 3*cos(theta) \n",
    "y2 = 3*sin(theta)/sqrt(2)\n",
    "plt.figure(2)                  # Lager en ny figur\n",
    "plt.plot(x2, y2)               # Plotter en graf ut i fra x- og y koordinater i arrayene x2 og y2 med en connect-the-dots tilnærming\n",
    "plt.show()                     # Viser figuren"
   ]
  },
  {
   "cell_type": "markdown",
   "metadata": {
    "deletable": false,
    "editable": false,
    "nbgrader": {
     "cell_type": "markdown",
     "checksum": "25f309a540eb2bc7f886af4fce9cb2a4",
     "grade": false,
     "grade_id": "cell-ca819e3d6c8639dc",
     "locked": true,
     "schema_version": 3,
     "solution": false,
     "task": false
    }
   },
   "source": [
    "## a)\n",
    "\n",
    "Lag et script som vil generere et plot av en femkantet stjerne. Husk å bruke funksjonen `plt.figure()` til å lage en ny figur, ellers vil scriptet tegne en ny graf i forrige figur som ble laget, og stjernen vil antageligvis tegnes sammen med ellipsen."
   ]
  },
  {
   "cell_type": "code",
   "execution_count": null,
   "metadata": {},
   "outputs": [],
   "source": [
    "plt.figure(3)"
   ]
  },
  {
   "cell_type": "markdown",
   "metadata": {
    "deletable": false,
    "editable": false,
    "nbgrader": {
     "cell_type": "markdown",
     "checksum": "ae5f256ac851ab4bb58d1b2c27244043",
     "grade": false,
     "grade_id": "cell-d7fb9ffd76f1bf80",
     "locked": true,
     "schema_version": 3,
     "solution": false,
     "task": false
    }
   },
   "source": [
    "__Tilleggsinformasjon:__\n",
    "\n",
    "Det er mange tilpasninger man kan gjøre for å legge til informasjon i et plot. Noen nyttige funksjoner gir muligheten til å legge til rutenett, og gi plot og akser tittel.\n",
    "\n",
    "```python\n",
    "plt.grid(True)         # Aktiverer rutenett\n",
    "plt.xlabel(\"x-akse\")   # Gir x-aksen en tittel\n",
    "plt.ylabel(\"y-akse\")   # Gir y-aksen en tittel\n",
    "ptl.title(\"Mitt Plot\") # Gir figuren en tittel\n",
    "```"
   ]
  },
  {
   "cell_type": "markdown",
   "metadata": {
    "deletable": false,
    "editable": false,
    "nbgrader": {
     "cell_type": "markdown",
     "checksum": "491ea9351f2bcb1ea7e5fb0845685688",
     "grade": false,
     "grade_id": "cell-8d6eae18129d1f2c",
     "locked": true,
     "schema_version": 3,
     "solution": false,
     "task": false
    }
   },
   "source": [
    "## b)\n",
    "Formelen for en dempet oscillasjon som funksjon av tid er gitt nedenfor:\n",
    "\n",
    "$$x(t) = 0.8^t \\cdot \\cos (2\\pi \\cdot 8 \\cdot t), \\ \\ \\ \\ \\ t \\geq 0$$\n",
    "\n",
    "* generer arrayene `t` og `xt` som vil representere funksjonen $x(t)$ for $0\\leq t < 5$. Arrayene skal ha 100 datapunkt per sekund.\n",
    "* lag et plot av signalet, aktiver rutenett i plotet, gi figuren navn på aksene og en tittel"
   ]
  },
  {
   "cell_type": "code",
   "execution_count": null,
   "metadata": {},
   "outputs": [],
   "source": [
    "plt.figure(4)"
   ]
  },
  {
   "cell_type": "markdown",
   "metadata": {
    "deletable": false,
    "editable": false,
    "nbgrader": {
     "cell_type": "markdown",
     "checksum": "9ab8f634d84a9c589f9a1bba78d62cc3",
     "grade": false,
     "grade_id": "cell-acbf48a2b2c8a77a",
     "locked": true,
     "schema_version": 3,
     "solution": false,
     "task": false
    }
   },
   "source": [
    "__Subplot:__\n",
    "\n",
    "Det kan ofte være aktuelt å framstille flere plot i samme figur slik at de kan studeres ved siden av hverandre. Til dette kan vi bruke funksjonen `subplot`, som deler opp en figur i et rutenett med mulige plot-felt. Ved bruk av subplot må man spesifisere antall rader, antall kolonner og aktiv posisjon som skal plottes i: `plt.subplot(rows, cols, pos)`. \n",
    "\n",
    "For eksempel vil funksjonskallet `plt.subplot(2,3,5)` dele opp en figur i 6 ruter fordelt på 2 rader og 3 kolonner, og aktivere rute nr. 5 slik tabellen illustrerer.\n",
    "\n",
    "| |  |  |\n",
    "| --- | --- | --- |\n",
    "| 1 | 2 | 3 |\n",
    "| 4 | [5] | 6 |"
   ]
  },
  {
   "cell_type": "markdown",
   "metadata": {
    "deletable": false,
    "editable": false,
    "nbgrader": {
     "cell_type": "markdown",
     "checksum": "01ff4f0de72c3b8b81860f8320794623",
     "grade": false,
     "grade_id": "cell-6ff6a6f4310f76e6",
     "locked": true,
     "schema_version": 3,
     "solution": false,
     "task": false
    }
   },
   "source": [
    "## c)\n",
    "Bygg videre på koden fra deloppgave __b__ slik at figuren viser to plot nedenfor hverandre. Den øverste skal være figuren fra oppgave __b__, og den nederste skal være et utklipp av den øverste figuren hvor vi har zoomet inn langs x-aksen. Plotet skal vise et utsnitt av signalet $x(t)$ for tidsintervallet $2.0 \\leq t < 2.75$. Dette kan for eksempel gjøres ved å velge ut en liten del av signalet med bruk av _list slicing_. Eksempel: `plt.plot(t[a:b], xt[a:b])`. "
   ]
  },
  {
   "cell_type": "markdown",
   "metadata": {
    "deletable": false,
    "editable": false,
    "nbgrader": {
     "cell_type": "markdown",
     "checksum": "6ba1a1571b2a2cd941647fae5875f043",
     "grade": false,
     "grade_id": "cell-d5e623f302cd725b",
     "locked": true,
     "schema_version": 3,
     "solution": false,
     "task": false
    }
   },
   "source": [
    "### Se løsning:\n",
    "\n",
    "<li><a href=\"05_Intro%20til%20Matplotlib%20-%20lf.ipynb\">Intro til Matplotlib - løsningsforslag</a></li>"
   ]
  }
 ],
 "metadata": {
  "kernelspec": {
   "display_name": "Python 3",
   "language": "python",
   "name": "python3"
  },
  "language_info": {
   "codemirror_mode": {
    "name": "ipython",
    "version": 3
   },
   "file_extension": ".py",
   "mimetype": "text/x-python",
   "name": "python",
   "nbconvert_exporter": "python",
   "pygments_lexer": "ipython3",
   "version": "3.8.3"
  }
 },
 "nbformat": 4,
 "nbformat_minor": 4
}
