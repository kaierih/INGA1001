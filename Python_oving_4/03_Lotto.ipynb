{
 "cells": [
  {
   "cell_type": "markdown",
   "metadata": {
    "deletable": false,
    "editable": false,
    "nbgrader": {
     "cell_type": "markdown",
     "checksum": "d59e16a4e3a06db74ff7a8c2f5025b84",
     "grade": false,
     "grade_id": "cell-cb6f7b834a4599d4",
     "locked": true,
     "schema_version": 3,
     "solution": false,
     "task": false
    }
   },
   "source": [
    "<nav class=\"navbar navbar-default\">\n",
    "  <div class=\"container-fluid\">\n",
    "    <div class=\"navbar-header\">\n",
    "      <a class=\"navbar-brand\" href=\"00_Python_oving_4_LESMEG.ipynb\">Øving 4</a>\n",
    "    </div>\n",
    "    <ul class=\"nav navbar-nav\">\n",
    "    <li><a href=\"01_Generelt%20om%20lister.ipynb\">Generelt om lister</a></li>\n",
    "    <li><a href=\"02_Lett%20og%20blandet.ipynb\">Lett og blandet</a></li>\n",
    "    <li class=\"active\"><a href=\"03_Lotto.ipynb\">Lotto</a></li>\n",
    "    <li><a href=\"04_Intro%20til%20numpy.ipynb\">Intro til numpy</a></li>  \n",
    "    <li><a href=\"05_Intro%20til%20Matplotlib.ipynb\">Intro til Matplotlib</a></li>  \n",
    "    <li><a href=\"06_Koch_snoflak.ipynb\">Koch's Snøflak</a></li>  \n",
    "    </ul>\n",
    "  </div>\n",
    "</nav>\n",
    "\n",
    "# Lotto\n",
    "\n",
    "**Læringsmål:**\n",
    "\n",
    "* Lister\n",
    "* Tilfeldige tall\n",
    "\n",
    "**Mulige Poeng:** \n",
    "\n",
    "7 poeng\n",
    "\n",
    "\n",
    "<br></br>\n",
    "I denne oppgaven lage du lage en lottosimulator. \n",
    "\n",
    "Reglene er som følger:\n",
    "\n",
    "* Det trekkes ut 7 lottotall og 3 tilleggstall fra og med 1 til og med 34. Alle tallene som trekkes skal være unike.\n",
    "* Premier deles ut basert på følgende tabell:\n",
    "\n",
    "Premiergruppe|Premie (kr)\n",
    ":---|---\n",
    "7 rette\t|2 749 455\n",
    "6 rette + 1 tilleggstall\t|102 110\n",
    "6 rette\t|3 385\n",
    "5 rette\t|95\n",
    "4 rette + 1 tilleggstall\t|45"
   ]
  },
  {
   "cell_type": "markdown",
   "metadata": {
    "deletable": false,
    "editable": false,
    "nbgrader": {
     "cell_type": "markdown",
     "checksum": "a08c746ee0cad6645aae8cb56a045544",
     "grade": false,
     "grade_id": "cell-c222f072a4519558",
     "locked": true,
     "schema_version": 3,
     "solution": false,
     "task": false
    }
   },
   "source": [
    "### Deloppgave a)\n",
    "\n",
    "Lag en liste som heter `numbers` og som inneholder alle heltall fra og med 1 til og med 34 i stigende rekkefølge.\n",
    "\n",
    "***Skriv koden din i boksen under.***"
   ]
  },
  {
   "cell_type": "code",
   "execution_count": 3,
   "metadata": {
    "deletable": false,
    "nbgrader": {
     "cell_type": "code",
     "checksum": "b191fc736d1eba5a03d7d952e3ad2fc5",
     "grade": false,
     "grade_id": "cell-2a436d24a61a7154",
     "locked": false,
     "schema_version": 3,
     "solution": true,
     "task": false
    }
   },
   "outputs": [],
   "source": [
    "#-------------------------------------\n",
    "# SKRIV DIN KODE HER:\n",
    "#-------------------------------------\n",
    "numbers = list(range(1,35))"
   ]
  },
  {
   "cell_type": "markdown",
   "metadata": {
    "deletable": false,
    "editable": false,
    "nbgrader": {
     "cell_type": "markdown",
     "checksum": "9b473198633c31d0c552020c2fd72701",
     "grade": false,
     "grade_id": "cell-ad5311e7ed571c33",
     "locked": true,
     "schema_version": 3,
     "solution": false,
     "task": false
    }
   },
   "source": [
    "**Testutskrift:**"
   ]
  },
  {
   "cell_type": "code",
   "execution_count": 4,
   "metadata": {
    "deletable": false,
    "editable": false,
    "nbgrader": {
     "cell_type": "code",
     "checksum": "044d67343e243d8a6f2c0cc4aac74344",
     "grade": true,
     "grade_id": "cell-b7f4257cc0f90b17",
     "locked": true,
     "points": 1,
     "schema_version": 3,
     "solution": false,
     "task": false
    }
   },
   "outputs": [
    {
     "name": "stdout",
     "output_type": "stream",
     "text": [
      "Alle de mulige tallen er: \n",
      " [1, 2, 3, 4, 5, 6, 7, 8, 9, 10, 11, 12, 13, 14, 15, 16, 17, 18, 19, 20, 21, 22, 23, 24, 25, 26, 27, 28, 29, 30, 31, 32, 33, 34]\n"
     ]
    }
   ],
   "source": [
    "print(\"Alle de mulige tallen er: \\n\", numbers)"
   ]
  },
  {
   "cell_type": "markdown",
   "metadata": {},
   "source": [
    "### Deloppgave b)\n",
    "\n",
    "Fullfør funksjonen `drawNumbers()` som tar inn `N` som argument og som trekker ut `N` tall ut av listen `numbers` og legger de i en egen liste `numbersDrawn`.  \n",
    "For å gjøre ting tilfeldig kan du bruke funksjonen `randint()` fra modulen `random`, som er importert i kodecellen under. `randint(min, max)` vil returnere et heltall fra og med `min` til og med `max`. Det skal ikke være mulig å trekke samme tall to ganger.\n",
    "\n",
    "Eksempel på kjøring:\n",
    "\n",
    "```python\n",
    ">>>print(drawNumbers(numbers, 7))\n",
    "[16, 33, 5, 20, 7, 4, 8]\n",
    "```\n",
    "\n",
    "P.S: Du kan anta at man aldr vil prøve å trekke ut flere tall `N` enn det som er tilgjengelig i listen `numbers`.\n",
    "\n",
    "***Skriv koden din i boksen under.***"
   ]
  },
  {
   "cell_type": "code",
   "execution_count": 84,
   "metadata": {
    "deletable": false,
    "nbgrader": {
     "cell_type": "code",
     "checksum": "073458b668aa34dd18ed07fe3c217f75",
     "grade": false,
     "grade_id": "cell-f3ebc3481171ee43",
     "locked": false,
     "schema_version": 3,
     "solution": true,
     "task": false
    }
   },
   "outputs": [],
   "source": [
    "from random import randint\n",
    "def drawNumbers(numbers, N):\n",
    "    #-------------------------------------\n",
    "    # SKRIV DIN KODE HER:\n",
    "    #-------------------------------------\n",
    "    numbersDrawn = []\n",
    "    rand = 0\n",
    "    while N > 1:\n",
    "        rand = randint(0,N)\n",
    "        print(rand)\n",
    "        numbersDrawn.append(numbers.pop(rand))\n",
    "        #del numbers[rand]\n",
    "        N -= 1\n",
    "    return numbersDrawn\n",
    "        \n",
    "    "
   ]
  },
  {
   "cell_type": "markdown",
   "metadata": {
    "deletable": false,
    "editable": false,
    "nbgrader": {
     "cell_type": "markdown",
     "checksum": "894bf7adda1705b6548ac99a72ce2169",
     "grade": false,
     "grade_id": "cell-03719d5102d61606",
     "locked": true,
     "schema_version": 3,
     "solution": false,
     "task": false
    }
   },
   "source": [
    "**Hint:**\n",
    "\n",
    "Bruk metodene `.pop()` og `.append()` for å fjerne og legge til elementer i en liste. Husk at pop fjerner et element i en indeks i lista, den fjerner ikke tallet. Så numbers.pop(rand_num) fjerner elementet på indeks rand_num - altså hvis rand_num er 13 fjernes tallet på indeks 13, ikke tallet 13!\n",
    "\n",
    "**Testkjøring:**"
   ]
  },
  {
   "cell_type": "code",
   "execution_count": 89,
   "metadata": {
    "deletable": false,
    "editable": false,
    "nbgrader": {
     "cell_type": "code",
     "checksum": "4eaf91e474af55e308042e68a12732ad",
     "grade": true,
     "grade_id": "cell-62eddfd899225b92",
     "locked": true,
     "points": 2,
     "schema_version": 3,
     "solution": false,
     "task": false
    }
   },
   "outputs": [
    {
     "name": "stdout",
     "output_type": "stream",
     "text": [
      "1\n",
      "4\n",
      "2\n",
      "3\n",
      "1\n",
      "0\n",
      "Lottorekken ble: \n",
      " [2, 6, 4, 7, 3, 1]\n"
     ]
    }
   ],
   "source": [
    "print(\"Lottorekken ble: \\n\", drawNumbers(numbers.copy(), 7))"
   ]
  },
  {
   "cell_type": "markdown",
   "metadata": {
    "deletable": false,
    "editable": false,
    "nbgrader": {
     "cell_type": "markdown",
     "checksum": "8f703612998eb805bf3b5842dccdf11b",
     "grade": false,
     "grade_id": "cell-d1e997c2febdb9bb",
     "locked": true,
     "schema_version": 3,
     "solution": false,
     "task": false
    }
   },
   "source": [
    "**P.S.** listemetoden `.copy()` benyttes i testcellen slik at listevariabelen `numbers` ikke får de trekte tallene fjernet fra listen. Du kan lese mer om dette [her](https://docs.python.org/3/library/copy.html)."
   ]
  },
  {
   "cell_type": "markdown",
   "metadata": {
    "deletable": false,
    "editable": false,
    "nbgrader": {
     "cell_type": "markdown",
     "checksum": "3093e194b3fe873b6a9cb0c3438c5b4d",
     "grade": false,
     "grade_id": "cell-1d1e723e7530beab",
     "locked": true,
     "schema_version": 3,
     "solution": false,
     "task": false
    }
   },
   "source": [
    "### Deloppgave c)\n",
    "\n",
    "Fullfør funksjonen `compList` som sammenligner to lister med tall. Antall like tall i listene skal returneres. Her spiller ikke rekkefølge noen rolle så lenge to lister inneholder samme tall en eller annen plas i listene.\n",
    "\n",
    "Eksempel på kjøring:\n",
    "\n",
    "```python\n",
    ">>>print(compList(drawNumbers(numbers,7),myGuess))\n",
    "1\n",
    "```\n",
    "\n",
    "***Fullfør funksjonsdefinisjonen nedenfor.***"
   ]
  },
  {
   "cell_type": "code",
   "execution_count": 91,
   "metadata": {
    "deletable": false,
    "nbgrader": {
     "cell_type": "code",
     "checksum": "7c5c5abdb959ef017c9a997d82f76fb8",
     "grade": false,
     "grade_id": "cell-64ed748006ed3cff",
     "locked": false,
     "schema_version": 3,
     "solution": true,
     "task": false
    }
   },
   "outputs": [],
   "source": [
    "def compList(drawList, guessList):\n",
    "    #-------------------------------------\n",
    "    # SKRIV DIN KODE HER:\n",
    "    matchCount = 0\n",
    "    for i in guessList:\n",
    "        if i in drawList:\n",
    "            matchCount += 1\n",
    "    \n",
    "    \n",
    "    #-------------------------------------\n",
    "    return matchCount"
   ]
  },
  {
   "cell_type": "markdown",
   "metadata": {
    "deletable": false,
    "editable": false,
    "nbgrader": {
     "cell_type": "markdown",
     "checksum": "8de617fe109cf974b7e059d20a572aa7",
     "grade": false,
     "grade_id": "cell-a9eb258857657995",
     "locked": true,
     "schema_version": 3,
     "solution": false,
     "task": false
    }
   },
   "source": [
    "**Testkjøring:**"
   ]
  },
  {
   "cell_type": "code",
   "execution_count": 95,
   "metadata": {
    "deletable": false,
    "editable": false,
    "nbgrader": {
     "cell_type": "code",
     "checksum": "cf75819903c80287df023f1c53e3f94e",
     "grade": true,
     "grade_id": "cell-9a2f9dd76801ae83",
     "locked": true,
     "points": 2,
     "schema_version": 3,
     "solution": false,
     "task": false
    }
   },
   "outputs": [
    {
     "name": "stdout",
     "output_type": "stream",
     "text": [
      "Du gjettet riktig på 2 lottotall og 0 tilleggstall.\n"
     ]
    }
   ],
   "source": [
    "myGuess = [12, 16, 6, 34, 2, 29, 33]\n",
    "numbersDrawn = [28, 3, 22, 33, 8, 31, 6]\n",
    "bonusNumbers = [4, 14, 18]\n",
    "\n",
    "matches = compList(numbersDrawn, myGuess)\n",
    "bonusMatches = compList(bonusNumbers, myGuess)\n",
    "\n",
    "print(\"Du gjettet riktig på\", matches, \"lottotall og\", bonusMatches, \"tilleggstall.\")"
   ]
  },
  {
   "cell_type": "markdown",
   "metadata": {
    "deletable": false,
    "editable": false,
    "nbgrader": {
     "cell_type": "markdown",
     "checksum": "82b7ca1d49d59fe7a46687ad5e4ea031",
     "grade": false,
     "grade_id": "cell-20c0dad9dda27fd1",
     "locked": true,
     "schema_version": 3,
     "solution": false,
     "task": false
    }
   },
   "source": [
    "### Deloppgave d)\n",
    "\n",
    "Fullfør funksjonen `getWinnings()` som tar inn antall like tall og like tilleggstall, og returnerer premien du har vunnet. Du kan anta at antal like tall er mellom 0 og 7, og antall like tilleggstall er mellom 0 og 3.\n",
    "\n",
    "Eksempel på kjøring:\n",
    "\n",
    "```python\n",
    ">>>print(Winnings(7,1))\n",
    ">>>print(Winnings(5,2))\n",
    ">>>print(Winnings(3,1))\n",
    "2749455\n",
    "95\n",
    "0\n",
    "```\n",
    "\n",
    "***Skriv koden din i boksen under.***"
   ]
  },
  {
   "cell_type": "code",
   "execution_count": null,
   "metadata": {
    "deletable": false,
    "nbgrader": {
     "cell_type": "code",
     "checksum": "34d4ed5919f29bee393aa470b805714f",
     "grade": false,
     "grade_id": "cell-dc2535cc8a4732a7",
     "locked": false,
     "schema_version": 3,
     "solution": true,
     "task": false
    }
   },
   "outputs": [],
   "source": [
    "def getWinnings(matches, bonusMatches):\n",
    "    #-------------------------------------\n",
    "    switch(matches){\n",
    "        7 :\n",
    "        winnings = 2749455\n",
    "        break\n",
    "        6:\n",
    "        if bounusMatches >= 1:\n",
    "            winnings = 102110\n",
    "        else:\n",
    "            winnings = 3385\n",
    "6 rette \t3 385\n",
    "5 rette \t95\n",
    "4 rette + 1 tilleggstall \t45\n",
    "    }\n",
    "    \n",
    "    # SKRIV DIN KODE HER:\n",
    "    #-------------------------------------\n",
    "    return winnings"
   ]
  },
  {
   "cell_type": "markdown",
   "metadata": {
    "deletable": false,
    "editable": false,
    "nbgrader": {
     "cell_type": "markdown",
     "checksum": "5fa00d6d9d24ca87eb327b7714436c2e",
     "grade": false,
     "grade_id": "cell-992b48fc2b634245",
     "locked": true,
     "schema_version": 3,
     "solution": false,
     "task": false
    }
   },
   "source": [
    "**Testkjøring:**"
   ]
  },
  {
   "cell_type": "code",
   "execution_count": null,
   "metadata": {
    "deletable": false,
    "editable": false,
    "nbgrader": {
     "cell_type": "code",
     "checksum": "195df4ce8f20bd8a5477a6aef09938ec",
     "grade": true,
     "grade_id": "cell-b79b40306b5ab166",
     "locked": true,
     "points": 2,
     "schema_version": 3,
     "solution": false,
     "task": false
    }
   },
   "outputs": [],
   "source": [
    "print(getWinnings(7,1))\n",
    "print(getWinnings(5,2))\n",
    "print(getWinnings(3,1))"
   ]
  },
  {
   "cell_type": "markdown",
   "metadata": {
    "deletable": false,
    "editable": false,
    "nbgrader": {
     "cell_type": "markdown",
     "checksum": "cc9f6d0cd80fa1cedf8d94426e19480d",
     "grade": false,
     "grade_id": "cell-d5a2169f13bf24b5",
     "locked": true,
     "schema_version": 3,
     "solution": false,
     "task": false
    }
   },
   "source": [
    "## Deloppgave e) *(frivillig)*\n",
    "\n",
    "Bruk funksjonene du har skrevet så langt til å lage en fullverdig lottosimulator. Denne skal bruke en liste `myGuess` som utgangspunkt, \"spille\" en runde lotto for så å skrive ut gevinsten. Tallene du skal trekke ut (både lottotallene og tilleggstallene) kan legges i samme liste. Funksjonen `compList` kan da sammenligne de første 7 tallene, og så de siste 3 tallene, for å finne ut hvor mange like tall du har. Du skal også finne ut hvor mye du har tjent eller mest sannsynlig tapt på denne lottorekken. Dersom en lottorekke kosten 5 kroner, vil -5 returneres dersom Winnings() er 0. Hvis du er heldig og Winnings() blir 95 skal 90 returneres fra main(). \n",
    "\n",
    "**Husk at du kan bruke alle funksjoner du har definert over!**\n",
    "\n",
    "***Skriv koden din i boksen under.***"
   ]
  },
  {
   "cell_type": "code",
   "execution_count": null,
   "metadata": {},
   "outputs": [],
   "source": []
  }
 ],
 "metadata": {
  "kernelspec": {
   "display_name": "Python 3",
   "language": "python",
   "name": "python3"
  },
  "language_info": {
   "codemirror_mode": {
    "name": "ipython",
    "version": 3
   },
   "file_extension": ".py",
   "mimetype": "text/x-python",
   "name": "python",
   "nbconvert_exporter": "python",
   "pygments_lexer": "ipython3",
   "version": "3.8.3"
  }
 },
 "nbformat": 4,
 "nbformat_minor": 4
}
