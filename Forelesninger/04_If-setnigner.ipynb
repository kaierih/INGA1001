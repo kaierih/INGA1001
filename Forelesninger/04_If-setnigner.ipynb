{
 "cells": [
  {
   "cell_type": "markdown",
   "metadata": {
    "slideshow": {
     "slide_type": "slide"
    }
   },
   "source": [
    "<img src=\"Figurer/NTNU_Logo.png\" align=\"left\">\n",
    "<br clear=\"all\">\n",
    "\n",
    "<br/><br/>\n",
    "\n",
    "\n",
    "\n",
    "# If-setninger\n",
    "\n",
    "\n",
    "* Emne INGA1001 - Ingeniørfaglig Innføringsemne Pythonmodul\n",
    "* Fjerde forelesning, Onsdag 7. Oktober\n",
    "* Underviser: Kai Erik Hoff\n",
    "\n",
    "\n",
    "<br/><br/>"
   ]
  },
  {
   "cell_type": "markdown",
   "metadata": {
    "slideshow": {
     "slide_type": "slide"
    }
   },
   "source": [
    "# Tema\n",
    "\n",
    "* Repetisjon fra sist uke\n",
    "* Kontrollstrukturer\n",
    "* Betingelser\n",
    "* Sammenligning av strenger\n",
    "* If-setninger\n",
    "* if-else\n",
    "* if-elif-else\n",
    "* Logiske uttrykk"
   ]
  },
  {
   "cell_type": "markdown",
   "metadata": {
    "slideshow": {
     "slide_type": "slide"
    }
   },
   "source": [
    "## Oppsummering importering av moduler\n",
    "\n",
    "* Når ikke basisfunksjonene og standard-operatorene strekker til, har man muligheten til å hente flere funksjoner fra en modul.\n",
    "* Et eksempel på dette kan være hvis man vil regne ut f.eks. $\\sin(x)$, $\\cos(x)$, $\\tan(x)$, $\\sqrt{x}$ eller noe annet.\n",
    "* Til dette benyttes nøkkelordet `import`.\n",
    "* Ulike metoder for å importere fra modulen `math`:\n",
    "```python\n",
    "import math\n",
    "import math as m\n",
    "from math import sqrt\n",
    "from math import *\n",
    "```"
   ]
  },
  {
   "cell_type": "code",
   "execution_count": 3,
   "metadata": {
    "slideshow": {
     "slide_type": "fragment"
    }
   },
   "outputs": [
    {
     "data": {
      "text/plain": [
       "0.8660254037844387"
      ]
     },
     "execution_count": 3,
     "metadata": {},
     "output_type": "execute_result"
    }
   ],
   "source": [
    "from math import * \n",
    "\n",
    "cos(pi/6)"
   ]
  },
  {
   "cell_type": "markdown",
   "metadata": {
    "slideshow": {
     "slide_type": "slide"
    }
   },
   "source": [
    "# Oppsummering datatyper\n",
    "\n",
    "* Variabler har en _datatype_ som angir et rammeverk for hvordan informasjon av denne typen håndteres.\n",
    "* Hver _datatype_ har innebygde _metoder_, som er en spesiell type funksjon som kun utføres på variabler av den aktuelle datatypen. Disse har en spesiell syntaks:\n",
    "```python\n",
    "resultatVerdi = variabelNavn.metodeNavn()\n",
    "```\n",
    "* Et eksempel på en slik metode er `str.lower()` som setter alle blokkbokstaver i en streng til å være liten bokstav."
   ]
  },
  {
   "cell_type": "code",
   "execution_count": 4,
   "metadata": {
    "slideshow": {
     "slide_type": "fragment"
    }
   },
   "outputs": [
    {
     "name": "stdout",
     "output_type": "stream",
     "text": [
      "streng for å teste ut metoder\n"
     ]
    }
   ],
   "source": [
    "tekst = \"StreNg fOr Å tEsTe uT METoDEr\"\n",
    "tekst = tekst.lower()\n",
    "print(tekst)"
   ]
  },
  {
   "cell_type": "code",
   "execution_count": 5,
   "metadata": {
    "slideshow": {
     "slide_type": "fragment"
    }
   },
   "outputs": [
    {
     "ename": "AttributeError",
     "evalue": "'int' object has no attribute 'lower'",
     "output_type": "error",
     "traceback": [
      "\u001b[1;31m---------------------------------------------------------------------------\u001b[0m",
      "\u001b[1;31mAttributeError\u001b[0m                            Traceback (most recent call last)",
      "\u001b[1;32m<ipython-input-5-78d449f526b5>\u001b[0m in \u001b[0;36m<module>\u001b[1;34m\u001b[0m\n\u001b[0;32m      1\u001b[0m \u001b[0mtall\u001b[0m \u001b[1;33m=\u001b[0m \u001b[1;36m450100\u001b[0m\u001b[1;33m\u001b[0m\u001b[1;33m\u001b[0m\u001b[0m\n\u001b[1;32m----> 2\u001b[1;33m \u001b[0mtall\u001b[0m\u001b[1;33m.\u001b[0m\u001b[0mlower\u001b[0m\u001b[1;33m(\u001b[0m\u001b[1;33m)\u001b[0m\u001b[1;33m\u001b[0m\u001b[1;33m\u001b[0m\u001b[0m\n\u001b[0m",
      "\u001b[1;31mAttributeError\u001b[0m: 'int' object has no attribute 'lower'"
     ]
    }
   ],
   "source": [
    "tall = 450100\n",
    "tall.lower()"
   ]
  },
  {
   "cell_type": "markdown",
   "metadata": {
    "slideshow": {
     "slide_type": "slide"
    }
   },
   "source": [
    "<br></br>\n",
    "\n",
    "# If-setninger\n",
    "\n",
    "<br></br>\n",
    "\n",
    "* Tema for øving 2\n",
    "* Utdypt i kapittel 4 av boka Fundamentals of Python Programming\n",
    "    * Ligger på blackboard i PDF-form, i Programmering->Undervisningsmateriell.\n"
   ]
  },
  {
   "cell_type": "markdown",
   "metadata": {
    "slideshow": {
     "slide_type": "slide"
    }
   },
   "source": [
    "# Motivasjon\n",
    "\n",
    "* Det er svært vanlig for et program å utføre ulike operasjoner avhengig av forskjellige situasjoner som kan oppstå.\n",
    "    * Vi kaller dette en _kontrollstruktur_\n",
    "* If-setnigner gir oss muligheten til å lage slike kontrolstrukturer.\n",
    "\n",
    "<br></br>\n",
    "\n",
    "* Eksempelbeskrivelse av et program som bruker en slik kontrollstruktur, der formålet er å avjøre hvorvidt en oppgavebesvarelse er bestått:\n",
    "    1. Hente inn poengsum for oppgavebesvarelse\n",
    "    2. Undersøk om poengsummen er større enn eller lik 20\n",
    "        * Hvis ja, sett vurdering lik _godkjent_.\n",
    "        * hvis nei, ett vurdering lik _ikke godkjent_.\n",
    "    3. Skriv ut vurderingen til bruker"
   ]
  },
  {
   "cell_type": "markdown",
   "metadata": {
    "slideshow": {
     "slide_type": "slide"
    }
   },
   "source": [
    "# Flytskjema\n",
    "\n",
    "\n",
    "![](Figurer/Beslutningsstruktur.png)"
   ]
  },
  {
   "cell_type": "markdown",
   "metadata": {
    "slideshow": {
     "slide_type": "slide"
    }
   },
   "source": [
    "# Betingelser\n",
    "\n",
    "* Konstrueres med _sammenligningsoperatorer_.\n",
    "\n",
    "Operator | Betydning\n",
    "---|---\n",
    "> | Større enn\n",
    ">= | Større enn eller lik\n",
    "< | Mindre enn\n",
    "<= | Mindre enn eller lik\n",
    "== | Er lik\n",
    "!= | Er ulik\n",
    "\n",
    "* Resultatet av en utregning med bruk av en _sammenligningsoperator_ er enten `True` eller `False`.\n",
    "* NB! Pass på at du ikke blander _tilordning_ `a=5` med _evaluering_ `a==5`."
   ]
  },
  {
   "cell_type": "code",
   "execution_count": 12,
   "metadata": {
    "slideshow": {
     "slide_type": "fragment"
    }
   },
   "outputs": [],
   "source": [
    "a = 3\n",
    "b = 5.0\n",
    "a = b"
   ]
  },
  {
   "cell_type": "markdown",
   "metadata": {
    "slideshow": {
     "slide_type": "slide"
    }
   },
   "source": [
    "# Sammenligning av strenger\n",
    "\n",
    "* Vi kan bruke operatorene `!=` og `==` til å sjekke om to strenger er like eller ulike.\n",
    "* Bruk metoden `str.lower()` eller `str.upper()` om du ikke vil gjøre forskjell på stor og liten bokstav."
   ]
  },
  {
   "cell_type": "code",
   "execution_count": 16,
   "metadata": {
    "slideshow": {
     "slide_type": "fragment"
    }
   },
   "outputs": [
    {
     "data": {
      "text/plain": [
       "True"
      ]
     },
     "execution_count": 16,
     "metadata": {},
     "output_type": "execute_result"
    }
   ],
   "source": [
    "navn1 = 'Peter'\n",
    "navn2 = 'peter'\n",
    "navn1 != navn2"
   ]
  },
  {
   "cell_type": "markdown",
   "metadata": {
    "slideshow": {
     "slide_type": "slide"
    }
   },
   "source": [
    "# Størrelse på strenger?\n",
    "\n",
    "* Det er også mulig å sjekke om en streng er større (eller mindre) enn en annen streng.\n",
    "    * Dvs. at en tekststreng har tegn som er representert med mindre eller større verdier enn i den andre strengen.\n",
    "    * Alle tegn i Python representerer en tallverdi.\n",
    "* Generell regel\n",
    "    * Et tegn har høyere verdi hvis det kommer senere i alfabetet enn et annet tegn\n",
    "    * __Alle__ blokkbokstaver har lavere verdi enn små bokstaver."
   ]
  },
  {
   "cell_type": "code",
   "execution_count": 20,
   "metadata": {
    "slideshow": {
     "slide_type": "fragment"
    }
   },
   "outputs": [
    {
     "data": {
      "text/plain": [
       "False"
      ]
     },
     "execution_count": 20,
     "metadata": {},
     "output_type": "execute_result"
    }
   ],
   "source": [
    "tegn1 = \"c\"\n",
    "tegn2 = \"a\"\n",
    "tegn1 < tegn2"
   ]
  },
  {
   "cell_type": "markdown",
   "metadata": {
    "slideshow": {
     "slide_type": "slide"
    }
   },
   "source": [
    "# ASCII tabellen - tegn representert som tall.\n",
    "\n",
    "![](Figurer/ASCII.png)"
   ]
  },
  {
   "cell_type": "markdown",
   "metadata": {
    "slideshow": {
     "slide_type": "slide"
    }
   },
   "source": [
    "# Sammenligning av to strenger\n",
    "\n",
    "![](Figurer/Strengsammenligning.png)"
   ]
  },
  {
   "cell_type": "markdown",
   "metadata": {
    "slideshow": {
     "slide_type": "slide"
    }
   },
   "source": [
    "# Enkel if-setning\n",
    "\n",
    "\n",
    "![](Figurer/If-setning.png)\n"
   ]
  },
  {
   "cell_type": "markdown",
   "metadata": {
    "slideshow": {
     "slide_type": "slide"
    }
   },
   "source": [
    "## Kodeeksempel:\n",
    "1. Lag et program som spør om temperatur og forteller brukeren at han/hun skal ta på jakke før de går ut hvis temperaturen er mindre enn 10 grader."
   ]
  },
  {
   "cell_type": "code",
   "execution_count": 23,
   "metadata": {
    "slideshow": {
     "slide_type": "fragment"
    }
   },
   "outputs": [
    {
     "name": "stdout",
     "output_type": "stream",
     "text": [
      "Hva er temperaturen i dag? 9\n",
      "Husk å ta på jakke!\n",
      "ha en fin dag.\n"
     ]
    }
   ],
   "source": [
    "temperatur = int(input(\"Hva er temperaturen i dag? \"))\n",
    "\n",
    "if temperatur < 10:\n",
    "    print(\"Husk å ta på jakke!\")\n",
    "\n",
    "print(\"ha en fin dag.\")"
   ]
  },
  {
   "cell_type": "markdown",
   "metadata": {
    "slideshow": {
     "slide_type": "slide"
    }
   },
   "source": [
    "# if-else setning\n",
    "\n",
    "* If-else brukes til å kjøre en blokk kode hvis betingelsen er sann (`True`) og en annen blokk kode hvis betingelsen er usann (`False`).\n",
    "* If-else uttrykk skal brukes i koden der det er to muliege alternativer av kode som skal utføres.\n",
    "\n",
    "### Eksempel på kode:\n",
    "```python\n",
    "if betingelse:\n",
    "    kode\n",
    "    etc\n",
    "else:\n",
    "    kode\n",
    "    etc\n",
    "```"
   ]
  },
  {
   "cell_type": "markdown",
   "metadata": {
    "slideshow": {
     "slide_type": "slide"
    }
   },
   "source": [
    "# Flytskjema \n",
    "![](Figurer/If-else-setning.png)"
   ]
  },
  {
   "cell_type": "markdown",
   "metadata": {
    "slideshow": {
     "slide_type": "slide"
    }
   },
   "source": [
    "## Kodeeksempel:\n",
    "\n",
    "1. Skriv et program som avgjør om et tall er partall eller oddetall."
   ]
  },
  {
   "cell_type": "code",
   "execution_count": 25,
   "metadata": {
    "slideshow": {
     "slide_type": "fragment"
    }
   },
   "outputs": [
    {
     "name": "stdout",
     "output_type": "stream",
     "text": [
      "Skriv inn et tall: 5682\n",
      "Tallet er et partall.\n"
     ]
    }
   ],
   "source": [
    "tall = int(input(\"Skriv inn et tall: \"))\n",
    "\n",
    "if tall % 2 == 1:\n",
    "    print(\"Tallet er et oddetall.\")\n",
    "else:\n",
    "    print(\"Tallet er et partall.\")"
   ]
  },
  {
   "cell_type": "markdown",
   "metadata": {
    "slideshow": {
     "slide_type": "slide"
    }
   },
   "source": [
    "# Nøsting av if-setninger\n",
    "* Vi kan skrive flere if-setninger inne i hverandre (nøsting)\n",
    "![](Figurer/Nostet_setning.png)"
   ]
  },
  {
   "cell_type": "markdown",
   "metadata": {
    "slideshow": {
     "slide_type": "slide"
    }
   },
   "source": [
    "# Nøsting av if-setninger\n",
    "\n",
    "* Kodeeksempel på _nøstet_ if-setninger:"
   ]
  },
  {
   "cell_type": "code",
   "execution_count": 29,
   "metadata": {
    "slideshow": {
     "slide_type": "fragment"
    }
   },
   "outputs": [
    {
     "name": "stdout",
     "output_type": "stream",
     "text": [
      "Hvor gammer er du? 18\n",
      "Fortsett til valglokalet.\n"
     ]
    }
   ],
   "source": [
    "alder = int(input(\"Hvor gammer er du? \"))\n",
    "if alder > 0:\n",
    "    if alder < 18:\n",
    "        print(\"kom tilbake til neste valg.\")\n",
    "    else: \n",
    "        print(\"Fortsett til valglokalet.\")\n",
    "else:\n",
    "    print(\"Ugyldig inngangsdata.\")"
   ]
  },
  {
   "cell_type": "markdown",
   "metadata": {
    "slideshow": {
     "slide_type": "fragment"
    }
   },
   "source": [
    "* Merk at du må bruke _innrykk_: for å si at de indre setningene hører til if-setningen.\n",
    "* Kan ha flere nivåer med if-setnigner inne i hverandre."
   ]
  },
  {
   "cell_type": "markdown",
   "metadata": {
    "slideshow": {
     "slide_type": "slide"
    }
   },
   "source": [
    "# if-elif-else setning\n",
    "\n",
    "* Nøsting av setnigner kan fort bli uoversiktlig. \n",
    "* Vi kan derfor bruke nøkkelordet `elif` (else if) i en if-setning. \n",
    "    * Kan tolkes som \"hvis ikke betingelse A, hva med betingelse B?\"\n",
    "    \n",
    "### Kodeeksempel: \n",
    "* Skrive et program som setter en bokstavkarakter (A, B, C, D, E eller F) avhengig av prosent uttelling på eksamen."
   ]
  },
  {
   "cell_type": "code",
   "execution_count": 31,
   "metadata": {
    "slideshow": {
     "slide_type": "fragment"
    }
   },
   "outputs": [
    {
     "name": "stdout",
     "output_type": "stream",
     "text": [
      "Hvor mange poeng fikk du på eksamen? 80\n",
      "B\n"
     ]
    }
   ],
   "source": [
    "prosentPoeng = int(input(\"Hvor mange poeng fikk du på eksamen? \"))\n",
    "\n",
    "# Finn ut bokstavkarakter basert på prosentpoeng\n",
    "if prosentPoeng >= 90:\n",
    "    karakter = \"A\"\n",
    "elif prosentPoeng >= 80:\n",
    "    karakter = \"B\"\n",
    "elif prosentPoeng >= 60:\n",
    "    karakter = \"C\"\n",
    "elif prosentPoeng >= 50:\n",
    "    karakter = \"D\"\n",
    "elif prosentPoeng >= 40:\n",
    "    karakter = \"E\"\n",
    "else:\n",
    "    karakter = \"F\"\n",
    "\n",
    "# Skriv ut resultat\n",
    "print(karakter)"
   ]
  },
  {
   "cell_type": "markdown",
   "metadata": {
    "slideshow": {
     "slide_type": "slide"
    }
   },
   "source": [
    "# Logiske uttrykk\n",
    "\n",
    "* På samme vis som vi har sammensatte _aritmetiske_ uttrykk for kompliserte utregninger, kan vi sette sammen betingelser til vilkårlig store uttrykk.\n",
    "* Dette kaller vi _Logiske Uttrykk_\n",
    "* Vi kaller \"koblingene\" som binder dette sammen for _logiske operatorer_\n",
    "* I python er følgende logiske operatorer definert:\n",
    "\n",
    "Operator | Beskrivelse\n",
    "---|---\n",
    "`or` | Logisk eller (OR)\n",
    "`and` | Logisk og (AND)\n",
    "`not` | Logisk ikke, negasjon (NOT)"
   ]
  },
  {
   "cell_type": "markdown",
   "metadata": {
    "slideshow": {
     "slide_type": "slide"
    }
   },
   "source": [
    "# Logisk OR:\n",
    "* Eksempel på skrivemåte: `a or b`\n",
    "    * Gir boolsk verdi `True` når `a` __eller__ `b` er `True`. `False` ellers.\n",
    "<br></br>\n",
    "* \"Sannhetstabell\" som viser de 4 mulige kombinasjonene ved utregning:\n",
    "\n",
    "Uttrykk | Resultat\n",
    "---|---\n",
    "`False or False` | `False`\n",
    "`False or True` | `True`\n",
    "`True or False` | `True`\n",
    "`True or True` | `True`"
   ]
  },
  {
   "cell_type": "code",
   "execution_count": null,
   "metadata": {
    "slideshow": {
     "slide_type": "fragment"
    }
   },
   "outputs": [],
   "source": []
  },
  {
   "cell_type": "markdown",
   "metadata": {
    "slideshow": {
     "slide_type": "slide"
    }
   },
   "source": [
    "# Logisk AND:\n",
    "\n",
    "* Eksempel på skrivemåte: `a and b`\n",
    "    * Gir boolsk verdi `True` når `a` og `b` er `True` samtidig. Vil være `False` ellers.\n",
    "* \"Sannehtstabell\" som viser de 4 mulige kombinasjonene ved utregning:\n",
    "\n",
    "Uttrykk | Resultat\n",
    "---|---\n",
    "`False or False` | `False`\n",
    "`False or True` | `False`\n",
    "`True or False` | `False`\n",
    "`True or True` | `True`"
   ]
  },
  {
   "cell_type": "code",
   "execution_count": null,
   "metadata": {
    "slideshow": {
     "slide_type": "fragment"
    }
   },
   "outputs": [],
   "source": []
  },
  {
   "cell_type": "markdown",
   "metadata": {
    "slideshow": {
     "slide_type": "slide"
    }
   },
   "source": [
    "# Logisk NOT:\n",
    "\n",
    "* Eksempel på skrivemåte: `not a`\n",
    "    * `True` hvis `a` er `False`, `False` hvis `a` er `True`\n",
    "* Sannhetstabell med 2 mulige operasjoner:\n",
    "\n",
    "Uttrykk | Resultat\n",
    "---|---\n",
    "`not False` | `True`\n",
    "`not True` | `False`"
   ]
  },
  {
   "cell_type": "code",
   "execution_count": null,
   "metadata": {
    "slideshow": {
     "slide_type": "fragment"
    }
   },
   "outputs": [],
   "source": []
  },
  {
   "cell_type": "markdown",
   "metadata": {
    "slideshow": {
     "slide_type": "slide"
    }
   },
   "source": [
    "# Eksempel på logiske uttrykk\n",
    "\n",
    "* Vanlig bruk er å sjekke at en verdi ligger i et intervall.\n",
    "```python\n",
    "x >= 5 and x <= 10\n",
    "```\n",
    "* For å sjekke at en verdi er _utenfor_ et intervall.\n",
    "```python\n",
    "x < 5 or x > 10\n",
    "```\n",
    "* Større logiske uttrykk for å sjekke flere betingelser kan skrives ved å bruke paranteser.\n",
    "```python\n",
    "(i>=1 and i<=N) or (j>=1 and j<=N)\n",
    "```"
   ]
  },
  {
   "cell_type": "code",
   "execution_count": null,
   "metadata": {
    "slideshow": {
     "slide_type": "fragment"
    }
   },
   "outputs": [],
   "source": []
  },
  {
   "cell_type": "markdown",
   "metadata": {
    "slideshow": {
     "slide_type": "slide"
    }
   },
   "source": [
    "# Husk operatorhierarki!\n",
    "Python-operator | Prioritet | Kommentar\n",
    "---|---|---\n",
    " () | 1 | \n",
    " f(x, y, z,...) | 2 | \n",
    " ** | 3 | \n",
    " *, /, //, % | 4 | Lik prioritet\n",
    " +, - | 5 | Lik prioritet\n",
    " <, <=, >, >=, !=, == | 6 | Lik prioritet\n",
    " not | 7 | \n",
    " and | 8 | \n",
    " or | 9 | "
   ]
  },
  {
   "cell_type": "markdown",
   "metadata": {
    "slideshow": {
     "slide_type": "slide"
    }
   },
   "source": [
    "## Pass på slike feil!\n",
    "\n",
    "* Hva er feil her?"
   ]
  },
  {
   "cell_type": "code",
   "execution_count": null,
   "metadata": {
    "slideshow": {
     "slide_type": "fragment"
    }
   },
   "outputs": [],
   "source": [
    "dag = input(\"Hvilken dag er det? \")\n",
    "if dag.lower() == \"lørdag\" or \"søndag\":\n",
    "    print(\"Det er helg!\")\n",
    "else:\n",
    "    print(\"Ikke helg enda.\")"
   ]
  },
  {
   "cell_type": "code",
   "execution_count": null,
   "metadata": {
    "slideshow": {
     "slide_type": "fragment"
    }
   },
   "outputs": [],
   "source": []
  },
  {
   "cell_type": "markdown",
   "metadata": {
    "slideshow": {
     "slide_type": "slide"
    }
   },
   "source": [
    "# Nøkkelordet `in`\n",
    "\n",
    "* `in` benyttes til å sjekke om en streng _(eller liste, tuple osv..)_ inneholder en gitt verdi. \n",
    "* Kan benyttes for å bekrefte om en streng inneholder en spesifikk bokstav.\n",
    "\n",
    "__Lag et program for å finne ut om en bokstav er en vokal:__"
   ]
  },
  {
   "cell_type": "code",
   "execution_count": null,
   "metadata": {
    "slideshow": {
     "slide_type": "fragment"
    }
   },
   "outputs": [],
   "source": []
  },
  {
   "cell_type": "markdown",
   "metadata": {
    "slideshow": {
     "slide_type": "slide"
    }
   },
   "source": [
    "## Kodeeksempel:\n",
    "\n",
    "* Vi skal skrive et program som teller antallet ulike vokaler i en streng."
   ]
  },
  {
   "cell_type": "code",
   "execution_count": 5,
   "metadata": {
    "slideshow": {
     "slide_type": "fragment"
    }
   },
   "outputs": [
    {
     "data": {
      "text/plain": [
       "5"
      ]
     },
     "execution_count": 5,
     "metadata": {},
     "output_type": "execute_result"
    }
   ],
   "source": [
    "setning = \"Are you suggesting that coconuts migrate?\"\n"
   ]
  }
 ],
 "metadata": {
  "celltoolbar": "Slideshow",
  "kernelspec": {
   "display_name": "Python 3",
   "language": "python",
   "name": "python3"
  },
  "language_info": {
   "codemirror_mode": {
    "name": "ipython",
    "version": 3
   },
   "file_extension": ".py",
   "mimetype": "text/x-python",
   "name": "python",
   "nbconvert_exporter": "python",
   "pygments_lexer": "ipython3",
   "version": "3.7.7"
  }
 },
 "nbformat": 4,
 "nbformat_minor": 4
}
