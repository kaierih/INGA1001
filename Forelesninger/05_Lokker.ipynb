{
 "cells": [
  {
   "cell_type": "markdown",
   "metadata": {
    "slideshow": {
     "slide_type": "slide"
    }
   },
   "source": [
    "<img src=\"Figurer/NTNU_Logo.png\" align=\"left\">\n",
    "<br clear=\"all\">\n",
    "\n",
    "<br/><br/>\n",
    "\n",
    "\n",
    "\n",
    "# Løkker\n",
    "\n",
    "\n",
    "* Emne INGA1001 - Ingeniørfaglig Innføringsemne Pythonmodul\n",
    "* Hovedtema for uke 42\n",
    "* Underviser: Kai Erik Hoff\n",
    "\n",
    "\n",
    "<br/><br/>"
   ]
  },
  {
   "cell_type": "markdown",
   "metadata": {
    "slideshow": {
     "slide_type": "slide"
    }
   },
   "source": [
    "# Tema\n",
    "\n",
    "* Hvorfor trenger vi løkker?\n",
    "* While-løkker\n",
    "* For-løkker\n",
    "* Oppsamlingsløkker\n",
    "* Nøstede Løkker\n"
   ]
  },
  {
   "cell_type": "markdown",
   "metadata": {
    "slideshow": {
     "slide_type": "slide"
    }
   },
   "source": [
    "# Motivasjon\n",
    "\n",
    "* I programmering er det _svært_ ofte at man ønsker at datamaskinen skal utføre _nesten_ samme operasjon mange ganger.\n",
    "* Et eksempel på dette være å skrive ut gangetabellen til et tall mellom 1 og 10:"
   ]
  },
  {
   "cell_type": "code",
   "execution_count": 1,
   "metadata": {
    "slideshow": {
     "slide_type": "fragment"
    }
   },
   "outputs": [
    {
     "name": "stdout",
     "output_type": "stream",
     "text": [
      "Skriv inn et tall5\n",
      "Gangetabellen til 5 er:\n",
      "1 --- 5\n",
      "2 --- 10\n",
      "3 --- 15\n",
      "4 --- 20\n",
      "5 --- 25\n",
      "6 --- 30\n",
      "7 --- 35\n",
      "8 --- 40\n",
      "9 --- 45\n",
      "10 --- 50\n"
     ]
    }
   ],
   "source": [
    "tall = int(input(\"Skriv inn et tall\"))\n",
    "print(\"Gangetabellen til\", tall, \"er:\")\n",
    "print(1, \"---\", tall*1)\n",
    "print(2, \"---\", tall*2)\n",
    "print(3, \"---\", tall*3)\n",
    "print(4, \"---\", tall*4)\n",
    "print(5, \"---\", tall*5)\n",
    "print(6, \"---\", tall*6)\n",
    "print(7, \"---\", tall*7)\n",
    "print(8, \"---\", tall*8)\n",
    "print(9, \"---\", tall*9)\n",
    "print(10, \"---\", tall*10)"
   ]
  },
  {
   "cell_type": "markdown",
   "metadata": {
    "slideshow": {
     "slide_type": "slide"
    }
   },
   "source": [
    "# Repeterende kode\n",
    "\n",
    "* Om vi kan beskrive matematisk nøyaktig hva som er forskjellen fra en linje til neste, er det lett å automatisere prosessen.\n",
    "* For gangetabell-eksempelet kan vi tenke oss følgende \"oppskrift\":\n",
    "    1. Hent tall fra bruker\n",
    "    2. Sett multiplikator $k=1$\n",
    "    3. Multipliser bruker-input med $k$\n",
    "    4. Skriv ut resultatet\n",
    "    5. Inkrementer multiplikator med 1 ($k = k+1$)\n",
    "    6. Hvis $k <= 10$, gå tilbake til punkt 3"
   ]
  },
  {
   "cell_type": "markdown",
   "metadata": {
    "slideshow": {
     "slide_type": "slide"
    }
   },
   "source": [
    "![](Figurer/while_gangetabell.png)"
   ]
  },
  {
   "cell_type": "markdown",
   "metadata": {
    "slideshow": {
     "slide_type": "slide"
    }
   },
   "source": [
    "# Begreper\n",
    "\n",
    "* Løkke:\n",
    "    - En repeterende struktur som gjør at en kodelinje eller flere kodelinjer blir kjørt flere ganger.\n",
    "* Betingelseskontrollert løkke (`while`):\n",
    "    - Bruker en `True`/`False` betingelse for å bestemme om kodelinjene skal kjøres _en gang til_.\n",
    "    - Kan sammenlignes med en if-setning som \"kobles tilbake over seg selv\".\n",
    "* Antallkontrollert løkke (`for`):\n",
    "    - Repeterer en eller flere kodelinjer et _bestemt antall ganger_."
   ]
  },
  {
   "cell_type": "markdown",
   "metadata": {
    "slideshow": {
     "slide_type": "slide"
    }
   },
   "source": [
    "# While-løkke\n",
    "\n",
    "![](Figurer/While_diagram.png)"
   ]
  },
  {
   "cell_type": "markdown",
   "metadata": {
    "slideshow": {
     "slide_type": "slide"
    }
   },
   "source": [
    "# Å Skrive en while-løkke\n",
    "\n",
    "* Generelt format fo en while-løkke i python\n",
    "```python\n",
    "while betingelse: # hvis True så...\n",
    "    kodelinje1 # Én linje som kjøres i løkken\n",
    "    kodelinje2 # Enda en linje som kjøres i løkken\n",
    "kodelinje3 # Utføres etter at løkken er avsluttet\n",
    "```\n",
    "\n",
    "* Hvis betingelsen er `True` vil kodelinje 1 og 2 bli uført om og om igjen helt til betingelsen blir `False`\n",
    "    * Kun kode med innrykk hører til while-løkka (altså ikke kodelinje 3)\n",
    "    * Kodelinje 3 og videre kjøres etter at betingelsen er satt til false."
   ]
  },
  {
   "cell_type": "markdown",
   "metadata": {
    "slideshow": {
     "slide_type": "slide"
    }
   },
   "source": [
    "## Kodeeksempel:\n",
    "* Vi skal lage et program som genererer et tilfeldig heltall mellom 0 og 99, og deretter lar brukeren gjette på hvilket tall dette er.\n",
    "    * Dokumentasjon om random-modulen finner vi [her](https://docs.python.org/3/library/random.html).\n",
    "    * Brukeren skal få en indikasjon på om de har gjettet for høyt eller lavt."
   ]
  },
  {
   "cell_type": "code",
   "execution_count": 5,
   "metadata": {
    "slideshow": {
     "slide_type": "fragment"
    }
   },
   "outputs": [
    {
     "name": "stdout",
     "output_type": "stream",
     "text": [
      "Gjett et tall: 5\n",
      "Du gjettet for lavt\n",
      "Prøv igjen: 7\n",
      "Du gjettet riktig på forsøk nr. 2\n"
     ]
    }
   ],
   "source": [
    "import random\n",
    "hemmelig_tall = random.randint(0, 99)\n",
    "brukerTall = int(input(\"Gjett et tall: \"))\n",
    "antallForsok = 1\n",
    "while brukerTall != hemmelig_tall:\n",
    "    if brukerTall > hemmelig_tall:\n",
    "        print(\"Du gjettet for høyt.\")\n",
    "    else: \n",
    "        print(\"Du gjettet for lavt\")\n",
    "    brukerTall = int(input(\"Prøv igjen: \"))\n",
    "    antallForsok += 1\n",
    "print(\"Du gjettet riktig på forsøk nr.\", antallForsok)"
   ]
  },
  {
   "cell_type": "markdown",
   "metadata": {
    "slideshow": {
     "slide_type": "fragment"
    }
   },
   "source": [
    "<br></br>\n",
    "<br></br>\n",
    "<br></br>\n",
    "<br></br>"
   ]
  },
  {
   "cell_type": "markdown",
   "metadata": {
    "slideshow": {
     "slide_type": "slide"
    }
   },
   "source": [
    "# Når bruker vi while-løkker?\n",
    "\n",
    "* While-løkker egner seg godt til situasjoner hvor det ikke er forhåndsbestemt hvor mange ganger kodelinjene i løkken skal gjenta seg selv.\n",
    "\n",
    "### Unngå evige løkker!\n",
    "\n",
    "* Hvis man ikke passer på, kan man definere en betingelse for while-løkken som _aldri_ blir `False`.\n",
    "* Da vil løkken fortsette å repetere evig, og programmet \"henger seg opp\".\n",
    "* Pass på at det _alltid_ finnes en realiserbar måte for programmet å komme seg ut av løkken."
   ]
  },
  {
   "cell_type": "code",
   "execution_count": null,
   "metadata": {
    "slideshow": {
     "slide_type": "fragment"
    }
   },
   "outputs": [
    {
     "name": "stdout",
     "output_type": "stream",
     "text": [
      "Skriv inn tall: 5\n"
     ]
    }
   ],
   "source": [
    "tall = int(input(\"Skriv inn tall: \"))\n",
    "samletSum = 0\n",
    "while tall < 0:\n",
    "    samletSum += tall\n",
    "    tall -= 1"
   ]
  },
  {
   "cell_type": "markdown",
   "metadata": {
    "slideshow": {
     "slide_type": "slide"
    }
   },
   "source": [
    "# For-løkke\n",
    "\n",
    "* Brukes for å gjenta en blokk ___et bestemt antall ganger___.\n",
    "* for.løkke er designet for å \"bla gjennom\" en sekvens (liste) av dataelementer.\n",
    "    - Starter med første element i listen og jobber seg bortover.\n",
    "    - Denne listen med dataelementer kan f.eks. være en streng."
   ]
  },
  {
   "cell_type": "markdown",
   "metadata": {
    "slideshow": {
     "slide_type": "slide"
    }
   },
   "source": [
    "## Tilbake til telling av vokaler.\n",
    "\n",
    "* Skriv et program som teller antall ulike vokaler i strengen nedenfor med bruk av løkker."
   ]
  },
  {
   "cell_type": "code",
   "execution_count": 2,
   "metadata": {
    "slideshow": {
     "slide_type": "fragment"
    }
   },
   "outputs": [
    {
     "name": "stdout",
     "output_type": "stream",
     "text": [
      "6\n"
     ]
    }
   ],
   "source": [
    "setning = \"Are you suggesting that coconuts migrate?\"\n",
    "vokalTeller = 0\n",
    "for vokal in \"aeiouy\":\n",
    "    if vokal in setning:\n",
    "        vokalTeller += 1\n",
    "\n",
    "print(vokalTeller)"
   ]
  },
  {
   "cell_type": "markdown",
   "metadata": {
    "slideshow": {
     "slide_type": "slide"
    }
   },
   "source": [
    "# Ny datatype: Liste\n",
    "\n",
    "* Serie med dataelement i rekkefølge.\n",
    "* Vi bruker klammeparantes `[`og `]` ved deklarasjon."
   ]
  },
  {
   "cell_type": "code",
   "execution_count": 2,
   "metadata": {
    "slideshow": {
     "slide_type": "fragment"
    }
   },
   "outputs": [
    {
     "data": {
      "text/plain": [
       "False"
      ]
     },
     "execution_count": 2,
     "metadata": {},
     "output_type": "execute_result"
    }
   ],
   "source": [
    "siffer = [0, 1, 2, 3, 4, 5, 6, 7, 8, 9]\n",
    "11 in siffer"
   ]
  },
  {
   "cell_type": "markdown",
   "metadata": {
    "slideshow": {
     "slide_type": "fragment"
    }
   },
   "source": [
    "* Mer om lister i neste time."
   ]
  },
  {
   "cell_type": "markdown",
   "metadata": {
    "slideshow": {
     "slide_type": "slide"
    }
   },
   "source": [
    "# For-løkke syntaks\n",
    "* Generelt format:\n",
    "```python\n",
    "for variabel in [verdi1, verdi2, verdi3, osv]:\n",
    "    repeterende kodelinje\n",
    "kodelinje utenfor løkke\n",
    "```\n",
    "* variabelen `variabel` får tilegnet verdier fra lista fra første til siste element. \n",
    "    * verdien \"hopper\" ett steg frem i lista hver gang løkken kjører.\n",
    "* Husk at det er viktig med innrykk for koden i for-løkka."
   ]
  },
  {
   "cell_type": "code",
   "execution_count": 5,
   "metadata": {
    "slideshow": {
     "slide_type": "fragment"
    }
   },
   "outputs": [
    {
     "name": "stdout",
     "output_type": "stream",
     "text": [
      "2\n",
      "3\n",
      "5\n",
      "7\n",
      "11\n"
     ]
    }
   ],
   "source": [
    "for i in [2, 3 ,5, 7, 11]:\n",
    "    print(i)"
   ]
  },
  {
   "cell_type": "markdown",
   "metadata": {
    "slideshow": {
     "slide_type": "slide"
    }
   },
   "source": [
    "![](Figurer/For_illustration.png)"
   ]
  },
  {
   "cell_type": "markdown",
   "metadata": {
    "slideshow": {
     "slide_type": "slide"
    }
   },
   "source": [
    "# for-løkke for variabel som inneholder en liste\n",
    "\n",
    "* En for-løkke kan også kjøres på en variabel som inneholder en liste over verdier:   "
   ]
  },
  {
   "cell_type": "code",
   "execution_count": 3,
   "metadata": {
    "slideshow": {
     "slide_type": "fragment"
    }
   },
   "outputs": [
    {
     "name": "stdout",
     "output_type": "stream",
     "text": [
      "Ole\n",
      "Per\n",
      "Oline\n",
      "Anna\n",
      "Frida\n"
     ]
    }
   ],
   "source": [
    "navneliste = ['Ole', 'Per', 'Oline', 'Anna', 'Frida']\n",
    "for navn in navneliste:\n",
    "    print(navn)"
   ]
  },
  {
   "cell_type": "markdown",
   "metadata": {
    "slideshow": {
     "slide_type": "fragment"
    }
   },
   "source": [
    "* Navnene skrives ut til skjermen i rekkefølge.\n",
    "* En for-løkke kan bla seg gjennom (iterere) en liste av alle typer verdier (strenger, heltall, flyttall, sannhetsverdier osv)."
   ]
  },
  {
   "cell_type": "markdown",
   "metadata": {
    "slideshow": {
     "slide_type": "slide"
    }
   },
   "source": [
    "# Bruk av `range()` i for-løkker\n",
    "\n",
    "* `range()` er en funksjon som gjør det enklere å skrive tellende for-løkker.\n",
    "* `range()` funksjonen lager et objekt av typen _iterable_\n",
    "    - _iterable_ er et objekt som ligner på en liste og inneholder verdier som en liste kan iterere over. \n",
    "    - Tenk på det som en type liste som er tiltenkt for-løkker.\n",
    "* Tre varianter:\n",
    "```python\n",
    "range(til)            # tilsvarer [0, 1, 2,...,til-1]\n",
    "range(fra, til)       # tilsvaer [fra, fra+1,...,til-1]\n",
    "range(fra, til, steg) # tilsvarerr [fra, fra+steg,..., til-1]\n",
    "```"
   ]
  },
  {
   "cell_type": "code",
   "execution_count": 9,
   "metadata": {
    "slideshow": {
     "slide_type": "fragment"
    }
   },
   "outputs": [
    {
     "data": {
      "text/plain": [
       "[10, 9, 8, 7, 6, 5, 4, 3, 2, 1]"
      ]
     },
     "execution_count": 9,
     "metadata": {},
     "output_type": "execute_result"
    }
   ],
   "source": [
    "list(range(10, 0, -1))"
   ]
  },
  {
   "cell_type": "markdown",
   "metadata": {
    "slideshow": {
     "slide_type": "slide"
    }
   },
   "source": [
    "## Kodeeksempel:\n",
    "* Skriv ut alle tallene i 3-gangen sammen med kvadratet av de tallene."
   ]
  },
  {
   "cell_type": "code",
   "execution_count": 12,
   "metadata": {
    "slideshow": {
     "slide_type": "fragment"
    }
   },
   "outputs": [
    {
     "name": "stdout",
     "output_type": "stream",
     "text": [
      "3 --- 9\n",
      "6 --- 36\n",
      "9 --- 81\n",
      "12 --- 144\n",
      "15 --- 225\n",
      "18 --- 324\n",
      "21 --- 441\n",
      "24 --- 576\n",
      "27 --- 729\n",
      "30 --- 900\n"
     ]
    }
   ],
   "source": [
    "for tall in range(3, 31, 3):\n",
    "    print(tall, '---', tall**2)"
   ]
  },
  {
   "cell_type": "markdown",
   "metadata": {
    "slideshow": {
     "slide_type": "slide"
    }
   },
   "source": [
    "# Oppsamlingsløkker\n",
    "\n",
    "* Det er ofte aktuelt å regne ut sum eller produkt av en tallrekke.\n",
    "* Et eksempel på dette kan være å utføre statistiske utregnigner på en måleserie. \n",
    "    * Middelverdi\n",
    "    * Standardavvik\n",
    "    * Etc..\n",
    "* Når et program skal gjøre dette starter man ofte med å lage en \"tom\" variabel som skal akkumulere alle verdiene i tallrekken.\n",
    "* For hver itersjon av løkken vil man da legge til / multiplisere neste verdi i rekken med akkumulator-variabelen."
   ]
  },
  {
   "cell_type": "markdown",
   "metadata": {
    "slideshow": {
     "slide_type": "slide"
    }
   },
   "source": [
    "# Sammensatte operatorer kommer godt med her:\n",
    "* Brukes i sammenhenger der en variabel skal endre verdi, og variabelens gamle verdi skal være med i utregningen av den nye verdien.\n",
    "\n",
    "Konvensjonell form | Kompakt form | Hva gjøres?\n",
    "---|---|---\n",
    "`x = x+4`|`x+=4`|Øker verdien til `x` med 4\n",
    "`x = x-3`|`x-=3`|Minsker verdien av `x` med 3\n",
    "`x = x*10`|`x*=10`|Multipliserer verdien av `x` med 10\n",
    "`x = x/2`|`x/=2`|Dividerer verdien av x med 2\n",
    "`x = x%4`|`x%=4`|Rest etter heltallstivisjon av `x` med 4"
   ]
  },
  {
   "cell_type": "code",
   "execution_count": 14,
   "metadata": {
    "slideshow": {
     "slide_type": "fragment"
    }
   },
   "outputs": [
    {
     "data": {
      "text/plain": [
       "1"
      ]
     },
     "execution_count": 14,
     "metadata": {},
     "output_type": "execute_result"
    }
   ],
   "source": [
    "x = 5\n",
    "x %= 4\n",
    "x"
   ]
  },
  {
   "cell_type": "markdown",
   "metadata": {
    "slideshow": {
     "slide_type": "slide"
    }
   },
   "source": [
    "## Kodeeksempel 1: kaste 5 terninger.\n",
    "* Vi vil skrive et program som genererer 5 tilfeldige tall fra 1 til 6 og legger sammen disse.\n",
    "    * For å lage tilfeldige tall kan vi bruke funksjonen `randint()` fra modulen `random`."
   ]
  },
  {
   "cell_type": "code",
   "execution_count": 26,
   "metadata": {
    "slideshow": {
     "slide_type": "fragment"
    }
   },
   "outputs": [
    {
     "name": "stdout",
     "output_type": "stream",
     "text": [
      "Terningkast:  2\n",
      "Terningkast:  3\n",
      "Terningkast:  6\n",
      "Terningkast:  1\n",
      "Terningkast:  4\n",
      "Summen av alle terningkastene er:  16\n"
     ]
    }
   ],
   "source": [
    "from random import randint\n",
    "\n",
    "runningSum = 0\n",
    "for i in range(5):\n",
    "    tilfeldigTall = randint(1,6)\n",
    "    print(\"Terningkast: \", tilfeldigTall)\n",
    "    runningSum += tilfeldigTall\n",
    "\n",
    "print(\"Summen av alle terningkastene er: \", runningSum)"
   ]
  },
  {
   "cell_type": "markdown",
   "metadata": {
    "slideshow": {
     "slide_type": "slide"
    }
   },
   "source": [
    "## Kodeeksempel 2: Alternerende Sum\n",
    "\n",
    "Fullfør en funksjon som leser inn et heltall n fra bruker og legger sammen tallserien under.\n",
    "\n",
    "**$1^{2}-2^{2}+3^{2}-4^{2}+5^{2}-\\cdot \\cdot \\cdot \\pm n^{2}$**"
   ]
  },
  {
   "cell_type": "code",
   "execution_count": 29,
   "metadata": {
    "slideshow": {
     "slide_type": "fragment"
    }
   },
   "outputs": [],
   "source": [
    "def alternerendeSum(n):\n",
    "    #-------------------\n",
    "    rekkeSum = 0\n",
    "    for i in range(1,n+1, 2):\n",
    "        rekkeSum += i**2\n",
    "    for i in range(2,n+1, 2):\n",
    "        rekkeSum -= i**2\n",
    "    #-------------------\n",
    "    return rekkeSum"
   ]
  },
  {
   "cell_type": "code",
   "execution_count": 32,
   "metadata": {
    "slideshow": {
     "slide_type": "fragment"
    }
   },
   "outputs": [
    {
     "data": {
      "text/plain": [
       "45"
      ]
     },
     "execution_count": 32,
     "metadata": {},
     "output_type": "execute_result"
    }
   ],
   "source": [
    "alternerendeSum(9)"
   ]
  },
  {
   "cell_type": "markdown",
   "metadata": {
    "slideshow": {
     "slide_type": "slide"
    }
   },
   "source": [
    "## Kodeeksempel 3: Geometriske Rekker\n",
    "\n",
    "En geometrisk rekke er en sum som kan skrives på formen under: \n",
    "\n",
    "$\\sum_{i=0}^{n}r^{i}=r^{0}+r^{1}+r^{2}+r^{3}+\\cdot \\cdot \\cdot +r^{\\infty}, \\ \\ \\ \\ \\ \\ \\ \\ -1<r<1$\n",
    "\n",
    "* Funksjonen `geoSum(r)` skal bruke en løkke til å regne ut en tilnærming til summen av en uendelig geometrisk rekke.\n",
    "    * En fornuftig fremgangsmåte vil være å regne ut en løpende sum helt til tallene i rekken blir så små at de kan neglisjeres.\n",
    "        * f.eks. når $r^i < 10^{-12}$."
   ]
  },
  {
   "cell_type": "code",
   "execution_count": null,
   "metadata": {
    "slideshow": {
     "slide_type": "fragment"
    }
   },
   "outputs": [],
   "source": [
    "def geoSum(r):\n",
    "    #-------------------\n",
    "    # FYLL INN KODE HER\n",
    "    #-------------------\n",
    "    return rekkeSum"
   ]
  },
  {
   "cell_type": "code",
   "execution_count": null,
   "metadata": {
    "slideshow": {
     "slide_type": "fragment"
    }
   },
   "outputs": [],
   "source": []
  },
  {
   "cell_type": "markdown",
   "metadata": {
    "slideshow": {
     "slide_type": "slide"
    }
   },
   "source": [
    "# Nøstede løkker\n",
    "\n",
    "* Når en løkke befinner seg inne i en annen løkke kalles dette nøstede løkker.\n",
    "* Noen fenomener er av en slik art at man trenger en hierarkisk gjennomkjøring av løkker.\n",
    "* Tid er et godt eksempel der man teller først 60 sekunder, før man øker minutt med 1 sov.\n",
    "* Utskrift av tid som nøstede løkker:"
   ]
  },
  {
   "cell_type": "code",
   "execution_count": null,
   "metadata": {
    "slideshow": {
     "slide_type": "fragment"
    }
   },
   "outputs": [],
   "source": [
    "import time\n",
    "\n",
    "for t in range(24):\n",
    "    for m in range(60):\n",
    "        for s in range(60):\n",
    "            # Strengmetoden zfill garanterer at tallet skrives med 2 siffer i strengen.\n",
    "            t_str = str(t).zfill(2)\n",
    "            m_str = str(m).zfill(2)\n",
    "            s_str = str(s).zfill(2)\n",
    "            # Skriv ut tid:\n",
    "            print(t_str, ':', m_str, ':', s_str, sep=\"\")\n",
    "            # Vent ett sekund\n",
    "            time.sleep(1)"
   ]
  },
  {
   "cell_type": "markdown",
   "metadata": {
    "slideshow": {
     "slide_type": "slide"
    }
   },
   "source": [
    "![](Figurer/Tid_flowchart.png)"
   ]
  },
  {
   "cell_type": "markdown",
   "metadata": {
    "slideshow": {
     "slide_type": "slide"
    }
   },
   "source": [
    "## Kodeeksempel\n",
    "\n",
    "* `A`, `B`, `C` og `D` er siffer i et firesifret tall (10-tallsystem).\n",
    "* Tallet `DCBA` er 4 ganger så stort som tallet `ABCD`.\n",
    "* Verken `A` eller `D` kan være 0.\n",
    "\n",
    "Hvor mange kombinasjoner oppfyller dette kravet, og hva er de?"
   ]
  },
  {
   "cell_type": "code",
   "execution_count": null,
   "metadata": {
    "slideshow": {
     "slide_type": "fragment"
    }
   },
   "outputs": [],
   "source": []
  }
 ],
 "metadata": {
  "celltoolbar": "Slideshow",
  "kernelspec": {
   "display_name": "Python 3",
   "language": "python",
   "name": "python3"
  },
  "language_info": {
   "codemirror_mode": {
    "name": "ipython",
    "version": 3
   },
   "file_extension": ".py",
   "mimetype": "text/x-python",
   "name": "python",
   "nbconvert_exporter": "python",
   "pygments_lexer": "ipython3",
   "version": "3.8.5"
  }
 },
 "nbformat": 4,
 "nbformat_minor": 4
}
