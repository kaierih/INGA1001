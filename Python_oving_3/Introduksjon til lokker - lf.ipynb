{
 "cells": [
  {
   "cell_type": "markdown",
   "metadata": {},
   "source": [
    "a)"
   ]
  },
  {
   "cell_type": "code",
   "execution_count": null,
   "metadata": {},
   "outputs": [],
   "source": [
    "n = int(input(\"Hvor mange adjektiv vil du gi? \"))\n",
    " \n",
    "for i in range(n):\n",
    "    adj = input(\"Beskriv deg selv med et adjektiv? \")\n",
    "    print(\"Hah, du\", adj + \"!? Jeg er mye\", adj + \"ere!\")\n",
    " \n",
    "print(\"Takk for nå!\")"
   ]
  },
  {
   "cell_type": "markdown",
   "metadata": {},
   "source": [
    "b)"
   ]
  },
  {
   "cell_type": "code",
   "execution_count": null,
   "metadata": {},
   "outputs": [],
   "source": [
    "print(\"Slå Enter uten å skrive noe for å slutte.\")\n",
    "adj = input(\"Beskriv deg selv med et adjektiv? \")\n",
    " \n",
    "while adj != \"\":\n",
    "    print(\"Hah, du\", adj + \"!? Jeg er mye\", adj + \"ere!\")\n",
    "    adj = input(\"Beskriv deg selv med et adjektiv? \")\n",
    " \n",
    "print(\"Takk for nå!\")"
   ]
  },
  {
   "cell_type": "markdown",
   "metadata": {},
   "source": [
    "c)\n"
   ]
  },
  {
   "cell_type": "code",
   "execution_count": null,
   "metadata": {},
   "outputs": [],
   "source": [
    "bokst = 42\n",
    " \n",
    "while bokst > 0:\n",
    "    print(\"Du har\", bokst, \"bokstaver til disposisjon.\")\n",
    "    adj = input(\"Beskriv deg selv med et adjektiv? \")\n",
    "    print(\"Hah, du\", adj + \"!? Jeg er mye\", adj + \"ere!\")\n",
    "    bokst = bokst - len(adj)\n",
    " \n",
    "print(\"Takk for nå!\")"
   ]
  },
  {
   "cell_type": "markdown",
   "metadata": {},
   "source": [
    "d)"
   ]
  },
  {
   "cell_type": "code",
   "execution_count": null,
   "metadata": {},
   "outputs": [],
   "source": [
    "print(\"Oddetallene fra 1 til 20:\")\n",
    "for number in range(1, 20, 2):\n",
    "    print(number, end = \" \")\n",
    "print()\n",
    "  \n",
    "print(\"Tallene i 3-gangen mellom 12 og 25:\")\n",
    "for number in range(12, 25, 3):\n",
    "    print(number, end = \" \")\n",
    "print()\n",
    "  \n",
    "print(\"Tallene i 5-gangen mellom 20 og 81:\")\n",
    "for number in range(20, 81, 5):\n",
    "    print(number, end = \" \")\n",
    "print()\n",
    "  \n",
    "print(\"Tallsekvensen 48, 56, 64, 72, 80\")\n",
    "for number in range(48, 81, 8):\n",
    "    print(number, end = \" \")\n",
    "print()\n",
    "  \n",
    "print(\"Telle baklengs fra 100 til 80, med intervall på -3, dvs. 100, 97, ...:\")\n",
    "for number in range(100, 80, -3):\n",
    "    print(number, end = \" \")\n",
    "print()"
   ]
  },
  {
   "cell_type": "markdown",
   "metadata": {},
   "source": [
    "e)"
   ]
  },
  {
   "cell_type": "code",
   "execution_count": null,
   "metadata": {},
   "outputs": [],
   "source": [
    "for x in range(1,6):\n",
    "    print(x)"
   ]
  },
  {
   "cell_type": "markdown",
   "metadata": {},
   "source": [
    "f)"
   ]
  },
  {
   "cell_type": "code",
   "execution_count": null,
   "metadata": {},
   "outputs": [],
   "source": [
    "for x in range(15, 0, -1):\n",
    "    print(x)"
   ]
  }
 ],
 "metadata": {
  "kernelspec": {
   "display_name": "Python 3",
   "language": "python",
   "name": "python3"
  },
  "language_info": {
   "codemirror_mode": {
    "name": "ipython",
    "version": 3
   },
   "file_extension": ".py",
   "mimetype": "text/x-python",
   "name": "python",
   "nbconvert_exporter": "python",
   "pygments_lexer": "ipython3",
   "version": "3.8.3"
  }
 },
 "nbformat": 4,
 "nbformat_minor": 2
}
