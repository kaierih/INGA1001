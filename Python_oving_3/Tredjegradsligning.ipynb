{
 "cells": [
  {
   "cell_type": "markdown",
   "metadata": {
    "deletable": false,
    "editable": false,
    "nbgrader": {
     "cell_type": "markdown",
     "checksum": "d348081ff6cf05b95df9646010ddbf6c",
     "grade": false,
     "grade_id": "cell-f10175ad26082d4d",
     "locked": true,
     "schema_version": 3,
     "solution": false,
     "task": false
    }
   },
   "source": [
    "<nav class=\"navbar navbar-default\">\n",
    "  <div class=\"container-fluid\">\n",
    "    <div class=\"navbar-header\">\n",
    "      <a class=\"navbar-brand\" href=\"_Python_oving_3.ipynb\">Øving 3</a>\n",
    "    </div>\n",
    "    <ul class=\"nav navbar-nav\">\n",
    "    <li ><a href=\"Intro%20til%20lokker.ipynb\">Intro til løkker</a></li>\n",
    "    <li ><a href=\"Mer%20om%20lokker.ipynb\">Mer om løkker</a></li>\n",
    "    <li ><a href=\"Nostede%20lokker.ipynb\">Intro til nøstede løkker</a></li>\n",
    "    <li ><a href=\"Utregning%20av%20Fakultet.ipynb\">Utregning av fakultet</a></li>\n",
    "    <li ><a href=\"Riskorn%20pa%20Sjakkbrett.ipynb\">Riskorn på Sjakkbrett</a></li>\n",
    "    <li ><a href=\"Fibonacci.ipynb\">Fibonacci</a></li>\n",
    "    <li class=\"active\"><a href=\"Tredjegradsligning.ipynb\">Tredjegradsligning med Newton's Metode</a></li>\n",
    "    </ul>\n",
    "  </div>\n",
    "</nav>\n",
    "\n",
    "# Tredjegradsligning med Newton's Metode\n",
    "\n",
    "**Læringsmål:**\n",
    "\n",
    "* While-løkker\n",
    "\n",
    "**Mulige Poeng: 2**\n",
    "\n",
    "_NB! Denne oppgaven kan være utfordrende._\n",
    "<br><br>\n",
    "\n",
    "I øving 2 skrev vi et program for å løse en andregradsligning. Andregradsligninger er rimelig enkle å løse, men tredjegradsligninger medfører et _mye_ mer komplisert uttrykk. \n",
    "\n",
    "Et alternativ til å løse likningen algebraisk er å bruke iterativ tilnærming med f.eks. Newton's metode. Newton's metode vil kunne finne nullpunktene til en funksjon $f(x)$ så lenge den er deriverbar, og bruker en startverdi $x=x_0$ som ikke har noen toppunkt/bunnpunkt i funksjonen $f(x)$ mellom seg og nullpunktet.\n",
    "\n",
    "I denne oppgaven skal vi kun konsentrere oss om å finne ett nullpunkt, og vi antar at startverdien $x_0$ befinner seg i et område hvor riktig implementasjon av newton's metode vil konvergere med nullpunktet.\n",
    "\n",
    "Metoden baserer seg på at hvis man starter med en verdi $x_n$, så kan man bruke funksjonsuttrykket $f(x)$ og funksjonens deriverte $f'(x)$ til å finne en ny verdi $x_{n+1}$ som vil være nærmere nullpunktet til $f(x)$:\n",
    "\n",
    "$$x_{n+1} = x_n - \\frac{f(x_n)}{f'(x_n)}$$\n",
    "\n",
    "Hvis man gjentar denne prosessen et tilstrekkelig antall ganger, så vil $x_n$ konvergere med nullpunktet, og differansen mellom $x_n$ og $x_{n+1}$ vil minke for hver iterasjon. Vanligvis avslutter man prosessen når differansen $\\left| x_n - x_{n+1}\\right|$ er mindre enn en fastsatt verdi, f.eks. $10^{-4}$. Du kan lese mer om Newton's metode [her](https://en.wikipedia.org/wiki/Newton%27s_method)."
   ]
  },
  {
   "cell_type": "markdown",
   "metadata": {
    "deletable": false,
    "editable": false,
    "nbgrader": {
     "cell_type": "markdown",
     "checksum": "96a1748193c9f07361a56a1c3b114a94",
     "grade": false,
     "grade_id": "cell-61ff3afb419d6d69",
     "locked": true,
     "schema_version": 3,
     "solution": false,
     "task": false
    }
   },
   "source": [
    "## Oppgave:\n",
    "\n",
    "En generell tredjegradsligning har følgende form:\n",
    "\n",
    "$$f(x) = a\\cdot x^3 + b\\cdot x^2 + c\\cdot x + d$$\n",
    "\n",
    "Målet med oppgaven er å lage implementere newton's metode i funksjonen `finn3gradNullpunkt` slik at den produserer én (og bare en) løsning for ligningen $ a\\cdot x^3 + b\\cdot x^2 + c\\cdot x + d = 0$. I tillegg til å ha en parameter for koeffisientene `a`, `b`, `c` og `d`, tar funksjonen også inn en parameter `x_start` som er det initielle estimatet $x_0$.\n",
    "\n",
    "Bruk en while-løkke til å gjenta prosedyren helt til differansen i hvert steg er mindre enn $10^{-4}$. Det vil si: $\\left| x_n - x_{n+1}\\right| < 10^{-4}$."
   ]
  },
  {
   "cell_type": "code",
   "execution_count": null,
   "metadata": {
    "deletable": false,
    "nbgrader": {
     "cell_type": "code",
     "checksum": "9e525b5016dd4eedb5f0b3a148a197b6",
     "grade": false,
     "grade_id": "cell-f6ec61fdff9a1155",
     "locked": false,
     "schema_version": 3,
     "solution": true,
     "task": false
    }
   },
   "outputs": [],
   "source": [
    "def finn3gradNullpunkt(a, b, c, d, x_start):\n",
    "    #-------------------------------------\n",
    "    # SKRIV DIN KODE HER:\n",
    "    #-------------------------------------\n",
    "    return x_nullpunkt"
   ]
  },
  {
   "cell_type": "markdown",
   "metadata": {
    "deletable": false,
    "editable": false,
    "nbgrader": {
     "cell_type": "markdown",
     "checksum": "d370738ac54496618041424055034b56",
     "grade": false,
     "grade_id": "cell-0c5531d1250a0603",
     "locked": true,
     "schema_version": 3,
     "solution": false,
     "task": false
    }
   },
   "source": [
    "__Test av utregning:__"
   ]
  },
  {
   "cell_type": "code",
   "execution_count": null,
   "metadata": {
    "deletable": false,
    "editable": false,
    "nbgrader": {
     "cell_type": "code",
     "checksum": "839547f5297ed4ca1ca43323a03d22f2",
     "grade": true,
     "grade_id": "cell-828906ed5cf1b203",
     "locked": true,
     "points": 2,
     "schema_version": 3,
     "solution": false,
     "task": false
    }
   },
   "outputs": [],
   "source": [
    "# Koeffisienter i tredjegradsligningen\n",
    "a = 1; b = 0; c = -3; d = -3\n",
    "\n",
    "# Startverdi for x\n",
    "x_start = -4\n",
    "\n",
    "# Finn et nullpunkt med newton's metode\n",
    "x_nullpunkt = finn3gradNullpunkt(a, b, c, d, x_start)\n",
    "\n",
    "# Sett sammen en streng med funksjonsuttrykket\n",
    "uttrykk = str(a)+\"x^3 + \"+str(b)+\"x^2 + \"+str(c)+\"x + \"+str(d)\n",
    "uttrykk = uttrykk.replace(\"+ -\", \"- \")\n",
    "\n",
    "# Skriv ut resultatet\n",
    "print(\"Ligningen\", uttrykk, \"= 0 har en løsning i ca. x =\", round(x_nullpunkt, 4))"
   ]
  },
  {
   "cell_type": "markdown",
   "metadata": {
    "deletable": false,
    "editable": false,
    "nbgrader": {
     "cell_type": "markdown",
     "checksum": "4e06aef5f53c7c9c47f9f1b15f40cd46",
     "grade": false,
     "grade_id": "cell-7cc7cf3e89d462d1",
     "locked": true,
     "schema_version": 3,
     "solution": false,
     "task": false
    }
   },
   "source": [
    "__Riktig Utskrift:__\n",
    "\n",
    "`Ligningen 1x^3 + 0x^2 - 3x - 3 = 0 har en løsning i ca. x = 2.1038`"
   ]
  }
 ],
 "metadata": {
  "kernelspec": {
   "display_name": "Python 3",
   "language": "python",
   "name": "python3"
  },
  "language_info": {
   "codemirror_mode": {
    "name": "ipython",
    "version": 3
   },
   "file_extension": ".py",
   "mimetype": "text/x-python",
   "name": "python",
   "nbconvert_exporter": "python",
   "pygments_lexer": "ipython3",
   "version": "3.8.3"
  }
 },
 "nbformat": 4,
 "nbformat_minor": 4
}
