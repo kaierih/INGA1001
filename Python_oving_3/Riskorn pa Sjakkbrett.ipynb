{
 "cells": [
  {
   "cell_type": "markdown",
   "metadata": {
    "deletable": false,
    "editable": false,
    "nbgrader": {
     "cell_type": "markdown",
     "checksum": "570c26d54a52b5913581992936faa9f1",
     "grade": false,
     "grade_id": "cell-e429188fddb142d1",
     "locked": true,
     "schema_version": 3,
     "solution": false,
     "task": false
    }
   },
   "source": [
    "<nav class=\"navbar navbar-default\">\n",
    "  <div class=\"container-fluid\">\n",
    "    <div class=\"navbar-header\">\n",
    "      <a class=\"navbar-brand\" href=\"_Python_oving_3.ipynb\">Øving 3</a>\n",
    "    </div>\n",
    "    <ul class=\"nav navbar-nav\">\n",
    "    <li ><a href=\"Intro%20til%20lokker.ipynb\">Intro til løkker</a></li>\n",
    "    <li ><a href=\"Mer%20om%20lokker.ipynb\">Mer om løkker</a></li>\n",
    "    <li ><a href=\"Nostede%20lokker.ipynb\">Intro til nøstede løkker</a></li>\n",
    "    <li ><a href=\"Utregning%20av%20Fakultet.ipynb\">Utregning av fakultet</a></li>\n",
    "    <li class=\"active\"><a href=\"Riskorn%20pa%20Sjakkbrett.ipynb\">Riskorn på Sjakkbrett</a></li>\n",
    "    <li ><a href=\"Fibonacci.ipynb\">Fibonacci</a></li>\n",
    "    <li ><a href=\"Tredjegradsligning.ipynb\">Tredjegradsligning med Newton's Metode</a></li>\n",
    "    </ul>\n",
    "  </div>\n",
    "</nav>\n",
    "\n",
    "# Riskorn på Sjakkbrett\n",
    "\n",
    "**Læringsmål:**\n",
    "\n",
    "* While-løkker\n",
    "\n",
    "**Mulige Poeng: 2**\n",
    "\n",
    "<br><br>\n",
    "Et vanlig matteproblem brukt for å illustrere eksponentiell vekst tar for seg plasseringen av riskorn på et sjakkbrett. Hvis man legger ett riskorn på den første ruten, to riskorn på den andre ruten, og forsetter å doble antallet riskorn for hver rute vil man få en _geometrisk rekke_ :\n",
    "\n",
    "$$x_n = 1, 2, 4, 8, 16, 32,\\dots$$\n",
    "\n",
    "Noe man etter hvert vil innse hvis man fortsetter rekkeutviklingen er at verdensbeholdnignen av ris vil tømmes lenge før sjakkbrettet blir fylt opp. Du kan lese mer [her](https://en.wikipedia.org/wiki/Wheat_and_chessboard_problem).\n",
    "\n",
    "Vi ønsker å finne ut hvor mange sjakkruter vi kan klare å fylle opp _(det vil si plassere det fulle antallet riskorn som skal være på den aktuelle ruten)_ gitt en beholdning på $n$ riskorn.\n",
    "\n",
    "Det antas at sjakkbrettet er stort nok til å få plass  til alle riskornene."
   ]
  },
  {
   "cell_type": "markdown",
   "metadata": {
    "deletable": false,
    "editable": false,
    "nbgrader": {
     "cell_type": "markdown",
     "checksum": "16078a224ccbf3028d6eb0737a0d6f9e",
     "grade": false,
     "grade_id": "cell-8d3563bb132035c6",
     "locked": true,
     "schema_version": 3,
     "solution": false,
     "task": false
    }
   },
   "source": [
    "## Oppgave:\n",
    "\n",
    "Bruk while-løkker, og skriv ferdig funksjonen `tellFylteRuter()` nedenfor slik at returverdien er antallet fylte ruter på sjakkbrettet hvis beholdningen riskorn er `antallRiskorn`."
   ]
  },
  {
   "cell_type": "code",
   "execution_count": null,
   "metadata": {
    "deletable": false,
    "nbgrader": {
     "cell_type": "code",
     "checksum": "ebf2b2fa4ed472ad22c9785ae6be8919",
     "grade": false,
     "grade_id": "cell-ef6aef6a471b5868",
     "locked": false,
     "schema_version": 3,
     "solution": true,
     "task": false
    }
   },
   "outputs": [],
   "source": [
    "def tellFylteRuter(antallRiskorn):\n",
    "    #-------------------------------------\n",
    "    # SKRIV DIN KODE HER:\n",
    "    #-------------------------------------\n",
    "    return fylteRuter"
   ]
  },
  {
   "cell_type": "markdown",
   "metadata": {
    "deletable": false,
    "editable": false,
    "nbgrader": {
     "cell_type": "markdown",
     "checksum": "975d8ebbb8b72a5f2c6ae70834562875",
     "grade": false,
     "grade_id": "cell-9e36b55a5c81a390",
     "locked": true,
     "schema_version": 3,
     "solution": false,
     "task": false
    }
   },
   "source": [
    "__Test av utregning:__"
   ]
  },
  {
   "cell_type": "code",
   "execution_count": null,
   "metadata": {
    "deletable": false,
    "editable": false,
    "nbgrader": {
     "cell_type": "code",
     "checksum": "9634bd57555806bc368b32b1f306d397",
     "grade": true,
     "grade_id": "cell-1cd0320ff2059e2e",
     "locked": true,
     "points": 2,
     "schema_version": 3,
     "solution": false,
     "task": false
    }
   },
   "outputs": [],
   "source": [
    "riskorn = 255\n",
    "\n",
    "fylteRuter = tellFylteRuter(riskorn)\n",
    "\n",
    "print(\"En beholdning på\", riskorn, \"riskorn kan fylle opp\", fylteRuter, \"ruter på et sjakkbrett.\")"
   ]
  },
  {
   "cell_type": "markdown",
   "metadata": {
    "deletable": false,
    "editable": false,
    "nbgrader": {
     "cell_type": "markdown",
     "checksum": "bd81642dcfa0b1720777a5dc27becf16",
     "grade": false,
     "grade_id": "cell-da8cb685595ccfbb",
     "locked": true,
     "schema_version": 3,
     "solution": false,
     "task": false
    }
   },
   "source": [
    "__Riktig Utskrift:__\n",
    "\n",
    "`En beholdning på 255 riskorn kan fylle opp 8 ruter på et sjakkbrett.`"
   ]
  }
 ],
 "metadata": {
  "kernelspec": {
   "display_name": "Python 3",
   "language": "python",
   "name": "python3"
  },
  "language_info": {
   "codemirror_mode": {
    "name": "ipython",
    "version": 3
   },
   "file_extension": ".py",
   "mimetype": "text/x-python",
   "name": "python",
   "nbconvert_exporter": "python",
   "pygments_lexer": "ipython3",
   "version": "3.8.3"
  }
 },
 "nbformat": 4,
 "nbformat_minor": 4
}
