{
 "cells": [
  {
   "cell_type": "markdown",
   "metadata": {},
   "source": [
    "# Øving 3\n",
    "\n",
    "**Læringsmål:**\n",
    "\n",
    "* Løkker\n",
    "* Implementasjon av matematiske uttrykk med løkker\n",
    "* Betingelser\n",
    "\n",
    "**Fundamentals of Python Programming:**\n",
    "\n",
    "- Kap 5 - Iteration\n",
    " \n",
    "\n",
    "## Godkjenning:\n",
    "\n",
    "Oppgavene er delt inn i to kategorier; Tutorial og Poenggivende Oppgaver. Tutorial-oppgavene er valgfrie, men er anbefalt å gå gjennom hvis du ikke allerede føler du har god kontroll på temaet i oppgaven. \n",
    "\n",
    "De poenggivende oppgavene kan til sammen gi 10 poeng. For at øvingsarbeidet i Python-modulen skal være godkjent må minst du oppnå minst __50%__ av tilgjengelig poengsum samlet for de 4 første øvingsoppgavene. I tillegg __må__ øving 5 være godkjent.\n",
    "\n",
    "Oppgave | Tema | Merknad\n",
    "--- | --- | ---\n",
    "[Introduksjon til løkker](Intro%20til%20lokker.ipynb) |Løkker | Tutorial\n",
    "[Mer om løkker](Mer%20om%20lokker.ipynb)|Løkker| Tutorial\n",
    "[Intro til nøstede løkker](Nostede%20lokker.ipynb)|Nøstede løkker| Tutorial\n",
    "[Utregning av fakultet](Utregning%20av%20Fakultet.ipynb)|For-løkker|Poenggivende Oppgave\n",
    "[Riskorn på Sjakkbrett](Riskorn%20pa%20Sjakkbrett.ipynb)|While-løkker og betingelser|Poenggivende Oppgave\n",
    "[Fibonacci-tallene](Fibonacci.ipynb)|For-løkker|Poenggivende Oppgave\n",
    "[Tredjegradsligning](Tredjegradsligning.ipynb)|While-løkker og betingelser|Poenggivende Oppgave\n"
   ]
  }
 ],
 "metadata": {
  "kernelspec": {
   "display_name": "Python 3",
   "language": "python",
   "name": "python3"
  },
  "language_info": {
   "codemirror_mode": {
    "name": "ipython",
    "version": 3
   },
   "file_extension": ".py",
   "mimetype": "text/x-python",
   "name": "python",
   "nbconvert_exporter": "python",
   "pygments_lexer": "ipython3",
   "version": "3.8.3"
  }
 },
 "nbformat": 4,
 "nbformat_minor": 4
}
