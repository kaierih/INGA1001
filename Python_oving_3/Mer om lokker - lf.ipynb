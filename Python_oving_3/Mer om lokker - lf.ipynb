{
 "cells": [
  {
   "cell_type": "markdown",
   "metadata": {},
   "source": [
    "a)"
   ]
  },
  {
   "cell_type": "code",
   "execution_count": null,
   "metadata": {},
   "outputs": [],
   "source": [
    "summen = 0\n",
    "for i in range(7):\n",
    "    tall = int(input(\"Skriv inn et heltall: \"))\n",
    "    summen += tall\n",
    "print(\"Summen av tallene ble\", summen)"
   ]
  },
  {
   "cell_type": "markdown",
   "metadata": {},
   "source": [
    "b)"
   ]
  },
  {
   "cell_type": "code",
   "execution_count": null,
   "metadata": {},
   "outputs": [],
   "source": [
    "prod = 1\n",
    "number = 1\n",
    "while prod < 1000:\n",
    "    prod *= number    # ekvivalent med prod = prod*number\n",
    "    number += 1\n",
    "print(prod)"
   ]
  },
  {
   "cell_type": "markdown",
   "metadata": {},
   "source": [
    "c)\n",
    "\n",
    "Siden vi ikke trenger brukerens svar til noe inni løkka, kan programmet kortest gjøres slik:"
   ]
  },
  {
   "cell_type": "code",
   "execution_count": null,
   "metadata": {},
   "outputs": [],
   "source": [
    "\n",
    "korrekt = \"Alofi\"\n",
    "antall = 1\n",
    " \n",
    "while korrekt != input(\"Hva er hovedstaden til Niue? \"):\n",
    "    print(\"Det var feil, prøv igjen.\")\n",
    "    antall += 1\n",
    "print(\"Korrekt!! Du brukte\", antall, \"forsøk.\")"
   ]
  },
  {
   "cell_type": "markdown",
   "metadata": {},
   "source": [
    "Hadde vi derimot trengt svaret inni løkka, f.eks. at vi i stedet for \"Det var feil...\" vil gi ekko av svaret i tilbakemeldingen til brukeren, må vi bruke en variabel og gjøre første input() før løkka som vist under. Bruk av variabel for svar er helt ok også om du ikke strengt tatt trenger det, mange kan syns koden blir litt vanskelig å lese med en input()-setning rett i while-betingelsen."
   ]
  },
  {
   "cell_type": "code",
   "execution_count": null,
   "metadata": {},
   "outputs": [],
   "source": [
    "korrekt = \"Alofi\"\n",
    "svar = input(\"Hva er hovedstaden til Niue? \")\n",
    "antall = 1\n",
    " \n",
    "while korrekt != svar:\n",
    "    print(svar, \"var feil, prøv igjen.\")\n",
    "    svar = input(\"Hva er hovedstaden til Niue? \")\n",
    "    antall += 1\n",
    "print(\"Korrekt!! Du brukte\", antall, \"forsøk.\")"
   ]
  }
 ],
 "metadata": {
  "kernelspec": {
   "display_name": "Python 3",
   "language": "python",
   "name": "python3"
  },
  "language_info": {
   "codemirror_mode": {
    "name": "ipython",
    "version": 3
   },
   "file_extension": ".py",
   "mimetype": "text/x-python",
   "name": "python",
   "nbconvert_exporter": "python",
   "pygments_lexer": "ipython3",
   "version": "3.8.3"
  }
 },
 "nbformat": 4,
 "nbformat_minor": 2
}
