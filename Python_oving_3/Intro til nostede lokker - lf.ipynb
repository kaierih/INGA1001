{
 "cells": [
  {
   "cell_type": "markdown",
   "metadata": {},
   "source": [
    "a)"
   ]
  },
  {
   "cell_type": "code",
   "execution_count": null,
   "metadata": {},
   "outputs": [],
   "source": [
    "ant_stud = int(input(\"Hvor mange studenter? \"))\n",
    "ant_emner = int(input(\"Hvor mange emner? \"))\n",
    "for x in range(1, ant_stud+1):\n",
    "    for y in range(1, ant_emner+1):\n",
    "        print(\"Stud\", x, \"elsker Emne\", y, end=\" ; \")\n",
    "    print()"
   ]
  },
  {
   "cell_type": "markdown",
   "metadata": {},
   "source": [
    "EKSTRAOPPGAVE (her er selvsagt andre valg for personnavn, emnenavn og verb m.m. mulig):"
   ]
  },
  {
   "cell_type": "code",
   "execution_count": null,
   "metadata": {},
   "outputs": [],
   "source": [
    "from random import random\n",
    " \n",
    "stud = ['Ada', 'Grace', 'Guido', 'Linus', 'Runa']\n",
    "emner = ['Ex.phil.', 'Ex.fac.', 'Matte', 'ITGK']\n",
    "for st in stud:\n",
    "    print(st, end = \" \")\n",
    "    for em in emner:\n",
    "        tall = random()\n",
    "        if tall > 0.9:\n",
    "            verb = 'elsker'\n",
    "        elif tall > 0.6:\n",
    "            verb = 'digger'\n",
    "        elif tall > 0.3:\n",
    "            verb = 'liker'\n",
    "        else:\n",
    "            verb = '\"liker\"'\n",
    "        print(verb, em, end = \"; \")\n",
    "    print()"
   ]
  },
  {
   "cell_type": "markdown",
   "metadata": {},
   "source": [
    "b)\n",
    "\n",
    "\"Rett fram\"-løsning på denne er en dobbel løkke med print() i den innerste. Dette programmet vil imidlertid gå fryktelig tregt:"
   ]
  },
  {
   "cell_type": "code",
   "execution_count": null,
   "metadata": {},
   "outputs": [],
   "source": [
    "for x in range(24):\n",
    "    for y in range(60):\n",
    "        print(x + \":\" + y)"
   ]
  },
  {
   "cell_type": "markdown",
   "metadata": {},
   "source": [
    "Årsaken til høyt tidsforbruk er at print ut på skjermen er tidkrevende. Hvis man ønsker et raskere program vil det derfor lønne seg å printe færre ganger, og da skrive større bolker av tekst hver gang. Mest ekstremt kan man samle opp alt som skal printes i en stor streng som man skriver ut når den doble løkka er ferdig:"
   ]
  },
  {
   "cell_type": "code",
   "execution_count": null,
   "metadata": {},
   "outputs": [],
   "source": [
    "ut_streng = \"\"\n",
    "for x in range(24):\n",
    "    for y in range(60):\n",
    "        ut_streng += str(x) + \":\" + str(y) + \"\\n\"\n",
    "        # \"\\n\" er linjeskift\n",
    "print(ut_streng)"
   ]
  },
  {
   "cell_type": "markdown",
   "metadata": {},
   "source": [
    "Dette vil gå mye raskere enn den første versjonen.\n",
    "\n",
    "Men hva om man heller ville at det skulle gå tregere, at nytt klokkeslett skal vises når det ha gått akkurat et minutt? I så fall må den første versjonen brukes, med tillegg av kode for å vente et minutt mellom hver utskrift:"
   ]
  },
  {
   "cell_type": "code",
   "execution_count": null,
   "metadata": {},
   "outputs": [],
   "source": [
    "import time\n",
    "  \n",
    "for x in range(24):\n",
    "    for y in range(60):\n",
    "        print(x + \":\" + y)\n",
    "        time.sleep(60)"
   ]
  },
  {
   "cell_type": "markdown",
   "metadata": {},
   "source": [
    "I tillegg kan du evt. google deg fram til andre funksjoner i time-modulen som kan brukes til å få programmet til å starte med nåtidspunktet, heller enn på 0:0.\n",
    "\n",
    "c)"
   ]
  },
  {
   "cell_type": "code",
   "execution_count": null,
   "metadata": {},
   "outputs": [],
   "source": [
    "for x in range(1, 11):\n",
    "    for y in range(1, 11):\n",
    "        print(x*y)\n",
    "  \n",
    "#finere utskrift:\n",
    "for x in range(1, 11):\n",
    "    for y in range(1, 11):\n",
    "        print(x*y, end=' ')\n",
    "    print()"
   ]
  }
 ],
 "metadata": {
  "kernelspec": {
   "display_name": "Python 3",
   "language": "python",
   "name": "python3"
  },
  "language_info": {
   "codemirror_mode": {
    "name": "ipython",
    "version": 3
   },
   "file_extension": ".py",
   "mimetype": "text/x-python",
   "name": "python",
   "nbconvert_exporter": "python",
   "pygments_lexer": "ipython3",
   "version": "3.8.3"
  }
 },
 "nbformat": 4,
 "nbformat_minor": 2
}
