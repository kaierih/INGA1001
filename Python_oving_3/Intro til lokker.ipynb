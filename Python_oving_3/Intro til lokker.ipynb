{
 "cells": [
  {
   "cell_type": "markdown",
   "metadata": {
    "deletable": false,
    "editable": false,
    "nbgrader": {
     "cell_type": "markdown",
     "checksum": "5284513d1bce0f93ef5788df98e46241",
     "grade": false,
     "grade_id": "cell-9b04602c8cf220f3",
     "locked": true,
     "schema_version": 3,
     "solution": false,
     "task": false
    }
   },
   "source": [
    "<nav class=\"navbar navbar-default\">\n",
    "  <div class=\"container-fluid\">\n",
    "    <div class=\"navbar-header\">\n",
    "      <a class=\"navbar-brand\" href=\"_Python_oving_3.ipynb\">Øving 3</a>\n",
    "    </div>\n",
    "    <ul class=\"nav navbar-nav\">\n",
    "    <li class=\"active\"><a href=\"Intro%20til%20lokker.ipynb\">Intro til løkker</a></li>\n",
    "    <li ><a href=\"Mer%20om%20lokker.ipynb\">Mer om løkker</a></li>\n",
    "    <li ><a href=\"Nostede%20lokker.ipynb\">Intro til nøstede løkker</a></li>\n",
    "    <li ><a href=\"Utregning%20av%20Fakultet.ipynb\">Utregning av fakultet</a></li>\n",
    "    <li ><a href=\"Riskorn%20pa%20Sjakkbrett.ipynb\">Riskorn på Sjakkbrett</a></li>\n",
    "    <li ><a href=\"Fibonacci.ipynb\">Fibonacci</a></li>\n",
    "    <li ><a href=\"Tredjegradsligning.ipynb\">Tredjegradsligning med Newton's Metode</a></li>\n",
    "    </ul>\n",
    "  </div>\n",
    "</nav>\n",
    "\n",
    "# Intro til løkker\n",
    "\n",
    "**Læringsmål:**\n",
    "\n",
    "* Løkker\n",
    "* Velge egnet løkkekonstruksjon (for eller while) etter behov\n",
    "\n",
    "<br></br>\n",
    "\n",
    "I denne oppgaven skal du lære å skrive kode hvor handlinger repeteres ved hjelp av løkker."
   ]
  },
  {
   "cell_type": "markdown",
   "metadata": {
    "deletable": false,
    "editable": false,
    "nbgrader": {
     "cell_type": "markdown",
     "checksum": "60d64b85d41a57b7f819093920cf5d90",
     "grade": false,
     "grade_id": "cell-5687cd60fb809068",
     "locked": true,
     "schema_version": 3,
     "solution": false,
     "task": false
    }
   },
   "source": [
    "### Intro om løkker\n",
    "\n",
    "Noe av det datamaskiner er best på, er gjentatte handlinger i høyt tempo. Dette er også et vanlig behov.\n",
    "* Et firma skal utbetale lønn til alle sine ansatte hver måned.\n",
    "* Et digitalt eksamenssystem skal vise spørsmål til, og motta svar fra, alle studenter som tar eksamen. \n",
    "* Et system som styrer industrielt produksjonsutstyr skal motta informasjon fra en rekke sensorer hvert eneste sekund, om trykk, temperatur, osv., og gjøre handlinger basert på verdiene.\n",
    "* Utstyr på et sykehus skal overvåke pasienters hjerterytme osv. sekund for sekund, og kunne slå alarm hvis noe er unormalt.\n",
    "* Utstyr for opptak av musikk skal kunne sample lyden tusenvis eller millionvis av ganger per sekund.\n",
    "* Et program for å vise video på en mobilskjerm må likeledes kunne oppdatere fargen i hver piksel på skjermen mange ganger i sekundet.\n",
    "\n",
    "Du har kanskje erfaring med bruk av regneark? Der er det vanlig hvis man skal bruke samme formel på alle radene i en tabell at man **kopierer** formelen nedover.  \n",
    "Å kopiere samme kodesetning flere ganger er mulig i Python også, men bare praktisk hvis antall repetisjoner er lavt og kjent på forhånd.\n",
    "Eksemplet nedenfor viser et slikt tilfelle, hvor en kodelinje er gjentatt 3 ganger."
   ]
  },
  {
   "cell_type": "code",
   "execution_count": null,
   "metadata": {},
   "outputs": [],
   "source": [
    "print(\"Hipp\")\n",
    "print(\"Hipp\")\n",
    "print(\"Hipp\")\n",
    "print(\"Hurra!\")"
   ]
  },
  {
   "cell_type": "code",
   "execution_count": null,
   "metadata": {
    "deletable": false,
    "editable": false,
    "nbgrader": {
     "cell_type": "code",
     "checksum": "bfb8b85ddae51adea7bfe48339305376",
     "grade": false,
     "grade_id": "cell-9bf839b931fad6f7",
     "locked": true,
     "schema_version": 3,
     "solution": false,
     "task": false
    }
   },
   "outputs": [],
   "source": [
    "Samme utskrift kan oppnås med løkke:"
   ]
  },
  {
   "cell_type": "code",
   "execution_count": null,
   "metadata": {},
   "outputs": [],
   "source": [
    "for i in range(3):\n",
    "    print(\"Hipp!\")\n",
    "print(\"Hurra!\")"
   ]
  },
  {
   "cell_type": "markdown",
   "metadata": {
    "deletable": false,
    "editable": false,
    "nbgrader": {
     "cell_type": "markdown",
     "checksum": "67aa2299f8f10deedd754fd9f3165d7f",
     "grade": false,
     "grade_id": "cell-b0b7c61193569ff1",
     "locked": true,
     "schema_version": 3,
     "solution": false,
     "task": false
    }
   },
   "source": [
    "**for &lt;variabel&gt; in range(3)**: gjør at påfølgende kodesetning(er) med innrykk blir repetert 3 ganger.\n",
    "\n",
    "print(\"Hurra!\") som ikke har innrykk, er ikke del av løkka, og vil derfor bare bli utført en gang, etter at løkka er ferdig.\n",
    "\n",
    "Det fins to typer løkker i Python, **for**-løkke som vist over, og **while**-løkke. Vi kunne ha klart oss med bare while-løkke, eksemplet ville da ha blitt:"
   ]
  },
  {
   "cell_type": "code",
   "execution_count": null,
   "metadata": {},
   "outputs": [],
   "source": [
    "i = 0\n",
    "while i < 3:\n",
    "    print(\"Hipp\")\n",
    "    i = i + 1  # eller: i += 1\n",
    "print(\"Hurra!\")"
   ]
  },
  {
   "cell_type": "markdown",
   "metadata": {
    "deletable": false,
    "editable": false,
    "nbgrader": {
     "cell_type": "markdown",
     "checksum": "b1cc9ea8fd5f67c25c01e0fd7546b16c",
     "grade": false,
     "grade_id": "cell-0c3da071b4d00972",
     "locked": true,
     "schema_version": 3,
     "solution": false,
     "task": false
    }
   },
   "source": [
    "while er noe mer tungvint her, vi må eksplisitt øke i med 1 for hver runde, som er implisitt i for-løkka. \n",
    "\n",
    "while-løkka vil fortsette så lenge betingelsen (her: i < 3) er sann, den vil derfor kjøre når i er 0, 1, 2, men deretter stoppe når i blir 3. Som i for-løkka gjør dette at Hipp skrives 3 ganger.\n",
    "\n",
    "I andre situasjoner er while-løkke derimot bedre enn  for-løkke. Generelt gjelder følgende:\n",
    "\n",
    "* **for-løkke** egner seg når vi har et **kjent antall repetisjoner**. Eksempel fra den virkelige verden: hver måned skal et firma utbetale lønn til alle sine ansatte. Firmaet og dets datasystem vet (forhåpentligvis) hvor mange ansatte det har, dermed har løkka \"for alle ansatte, beregn og utbetal lønn\" et kjent antall repetisjoner når lønningsdagen kommer.\n",
    "* **while-løkke** er derimot nødvendig hvis **maks antall repetisjoner er uvisst** når løkka starter og vi først finner ut underveis når løkka skal avsluttes. F.eks.\n",
    " * brukeren bestemmer underveis, f.eks. \"Try again\" / \"Quit\" - vi aner ikke hvor mange ganger brukeren vil forsøke. Eller et program for lydopptak: løkka som sampler lyden, starter når brukeren klikker på \"Record\" og skal fortsette til brukeren trykker \"Stop\" - og vi aner ikke hvor mange sekunder eller minutter det vil ta.\n",
    " * numerisk løsning av matematiske likninger, hvor stoppkriteriet er at vi skal ha nådd en viss presisjon. Hvis vi ikke aner på forhånd hvor mange iterasjoner som trengs for å nå denne presisjonen, vil while-løkke være best.\n",
    " * produksjonsutstyr i en fabrikk skal kjøre som normalt med mindre sensordata indikerer en krisesituasjon, og da gå over til en alternativ nødprosedyre. Vi aner ikke om det går tusen sekunder, eller millioner av sekunder... kanskje inntreffer krisesituasjonen slett ikke. Dermed vil antall repetisjoner av løkka for normal oppførsel være ukjent når den starter, som tilsier while-løkke.\n",
    "\n",
    "Under er forskjellen vist ved to ytterligere varianter av Hurra-programmet vårt. Kopier gjerne denne koden inn i editoren din og  kjør  den  for å se hvordan den virker."
   ]
  },
  {
   "cell_type": "code",
   "execution_count": null,
   "metadata": {},
   "outputs": [],
   "source": [
    "# hvis brukeren skal bestemme antall på forhånd:\n",
    "antall = int(input(\"Hvor mange Hipp?\" ))\n",
    "for i in range(antall):\n",
    "    print(\"Hipp\")\n",
    "print(\"Hurra!\")\n",
    " \n",
    "# hvis brukeren skal bestemme seg for å slutte underveis:\n",
    "print(\"Slå Enter direkte etter Hipp for å legge til flere Hipp,\")\n",
    "print(\"eller mellomrom så Enter for å avslutte: \")\n",
    "while input(\"Hipp\") == \"\":\n",
    "    pass\n",
    "print(\"Hurra!\")"
   ]
  },
  {
   "cell_type": "markdown",
   "metadata": {
    "deletable": false,
    "editable": false,
    "nbgrader": {
     "cell_type": "markdown",
     "checksum": "38deea4b9fc0f8dd03b18185a6a99e90",
     "grade": false,
     "grade_id": "cell-aa7e39bc9950377d",
     "locked": true,
     "schema_version": 3,
     "solution": false,
     "task": false
    }
   },
   "source": [
    "Linje 1-5 viser en variant med **for**-løkke. Siden brukeren gir inn på forhånd antall Hipp som ønskes, er **antall repetisjoner kjent**, og **for-løkke enklest.**\n",
    "\n",
    "Linje 7-12 viser derimot en variant hvor brukeren bestemmer underveis i løkka om vi skal fortsette eller avslutte, da er det best med **while** siden **antall repetisjoner er ukjent.**\n",
    "\n",
    " * brukeren velger å fortsette ved å trykke Enter direkte etter Hipp; dette vil gi en helt tom streng \"\" som resultat, slik at betingelsen i while vil  være sann. Så lenge den er sann, fortsetter løkka med å gjøre ny input() som gjør at ledeteksten \"Hipp\" kommer på skjermen på ny.\n",
    " \n",
    " * brukeren velger å avslutte ved å skrive inn et blankt tegn og deretter slå Enter. Dette vil gi strengen \" \" som er forskjellig fra \"\", da blir betingelsen usann, og løkka avsluttes, og programmet går videre med å skrive \"Hurra\".\n",
    "\n",
    "I while-løkka er den eneste handlingen vi ønsker å utføre, den input() og sammenligning som står i betingelsen. Da trenger vi egentlig ingen innmat. Man er imidlertid nødt til å ha minst en setning inni ei løkke.\n",
    "Derfor **pass**, som er et beskyttet ord i Python for å gjøre ingenting. De fleste løkker vil ha mer kompliserte gjøremål og derfor også trenge en eller flere setninger inni som gjør noe."
   ]
  },
  {
   "cell_type": "markdown",
   "metadata": {
    "deletable": false,
    "editable": false,
    "nbgrader": {
     "cell_type": "markdown",
     "checksum": "8f72fc5d96cc712bc3cf6436d854c992",
     "grade": false,
     "grade_id": "cell-6a8c7e768e168118",
     "locked": true,
     "schema_version": 3,
     "solution": false,
     "task": false
    }
   },
   "source": [
    "## a)\n",
    "\n",
    "Koden under viser en for-løkke som repeterer 3 ganger. For hver runde blir brukeren bedt om å beskrive seg selv med et adjektiv, hvorpå maskinen disser brukeren ved å si at den er snillere, smartere etc.\n",
    "\n",
    "(Trikset her er bare å legge til \"ere\" bak adjektivet, så det vil ikke bli grammatisk korrekt for adjektiv som bøyes annerledes.)\n",
    "\n",
    "***Kjør koden for å se hvordan den virker. Endre så koden slik at programmet først spør brukeren hvor mange repetisjoner som ønskes, og deretter utfører programmet med ønsket antall repetisjoner av løkka.***\n",
    "\n",
    "Eksempel på kjøring:\n",
    "\n",
    "```python  \n",
    "Hvor mange adjektiv vil du gi? 2\n",
    "Beskriv deg selv med et adjektiv? snill\n",
    "Hah, du snill!? Jeg er mye snillere!\n",
    "Beskriv deg selv med et adjektiv? ond\n",
    "Hah, du ond!? Jeg er mye ondere!\n",
    "Takk for nå!\n",
    "```"
   ]
  },
  {
   "cell_type": "code",
   "execution_count": null,
   "metadata": {},
   "outputs": [],
   "source": [
    "#endre koden under\n",
    "\n",
    "for i in range(3):\n",
    "    adj = input(\"Beskriv deg selv med et adjektiv? \")\n",
    "    print(\"Hah, du\", adj + \"!? Jeg er mye\", adj + \"ere!\")\n",
    "print(\"Takk for nå!\")"
   ]
  },
  {
   "cell_type": "markdown",
   "metadata": {
    "deletable": false,
    "editable": false,
    "nbgrader": {
     "cell_type": "markdown",
     "checksum": "e9b363232eb4ff1a48c7540caa350895",
     "grade": false,
     "grade_id": "cell-a1ac14aa1fb66d7f",
     "locked": true,
     "schema_version": 3,
     "solution": false,
     "task": false
    }
   },
   "source": [
    "#### Hint\n",
    "\n",
    "I stedet for tallet 3 i koden, må det stå en variabel for antall repetisjoner, og denne må i forkant leses inn fra bruker med input() og konverteres til et heltall."
   ]
  },
  {
   "cell_type": "markdown",
   "metadata": {
    "deletable": false,
    "editable": false,
    "nbgrader": {
     "cell_type": "markdown",
     "checksum": "9e3fb0a97671ab97eae7ef3d7c865b4d",
     "grade": false,
     "grade_id": "cell-a2b5f9c0325364e1",
     "locked": true,
     "schema_version": 3,
     "solution": false,
     "task": false
    }
   },
   "source": [
    "## b)\n",
    "\n",
    "Koden under viser en while-løkke som utfører samme type brukerdialog som i (a), med 3 repetisjoner. Kjør den for å se hvordan det virker. **Endre nå programmet så løkka ikke kjører akkurat 3 ganger, men så mange ganger brukeren vil**, hvor brukeren kan bestemme dette underveis ved å gi et tomt svar (dvs. bare slå Enter) for å slutte. Da vil input()-setningen resultere i en tom streng, \"\".\n",
    "\n",
    "Eksempel på kjøring:\n",
    "\n",
    "```python\n",
    "Slå Enter uten å skrive noe når du vil avslutte.\n",
    "Beskriv deg selv med et adjektiv? snill\n",
    "Hah, du snill!? Jeg er mye snillere!\n",
    "Beskriv deg selv med et adjektiv? smart\n",
    "Hah, du smart!? Jeg er mye smartere!\n",
    "Beskriv deg selv med et adjektiv? flittig\n",
    "Hah, du flittig!? Jeg er mye flittigere!\n",
    "Beskriv deg selv med et adjektiv?\n",
    "Takk for nå!\n",
    "```\n",
    "\n",
    "Fjerde gang spørsmålet om adjektiv ble stilt, slo brukeren her bare Enter uten å skrive inn noen tegn, da avsluttet løkka og programmet gikk videre med å skrive \"Takk for nå\""
   ]
  },
  {
   "cell_type": "code",
   "execution_count": null,
   "metadata": {},
   "outputs": [],
   "source": [
    "i = 0\n",
    "while i < 3:\n",
    "    adj = input(\"Beskriv deg selv med et adjektiv? \")\n",
    "    print(\"Hah, du\", adj + \"!? Jeg er mye\", adj + \"ere!\")\n",
    "    i += 1  # øker i med 1\n",
    "print(\"Takk for nå!\")"
   ]
  },
  {
   "cell_type": "markdown",
   "metadata": {
    "deletable": false,
    "editable": false,
    "nbgrader": {
     "cell_type": "markdown",
     "checksum": "f20ca1a58d01ac85510652db6885f32a",
     "grade": false,
     "grade_id": "cell-52fc4bf7aea59cda",
     "locked": true,
     "schema_version": 3,
     "solution": false,
     "task": false
    }
   },
   "source": [
    "#### Hint\n",
    "\n",
    "I eksemplet måtte vi sette i = 0 før vi kan utføre testen i < 3, hvis ikke i hadde fått noen verdi, ville testen gi feilmelding. Likeledes, hvis du skal teste på at adj != \"\" må adj ha fått en verdi før denne testen skjer. Altså må du gjøre den første input til adj før while-løkka  starter.\n",
    "\n",
    "Inni while-løkka vil det da også være fornuftig å bytte om  rekkefølgen på print-setningen og input-setningen, fordi du allerede har gjort en input før løkka som du kan basere den første \"Hah...\"-responsen på."
   ]
  },
  {
   "cell_type": "markdown",
   "metadata": {
    "deletable": false,
    "editable": false,
    "nbgrader": {
     "cell_type": "markdown",
     "checksum": "67f9c2e5e47f0a336d880f3fc70eb9e9",
     "grade": false,
     "grade_id": "cell-a62a3d14676bd12d",
     "locked": true,
     "schema_version": 3,
     "solution": false,
     "task": false
    }
   },
   "source": [
    "## c)\n",
    "\n",
    "Ta igjen utgangspunkt i while-løkka med 3 repetisjoner som vist før oppgave (b). Vi ønsker nå å endre programmet på følgende måte:\n",
    "\n",
    "Brukeren starter med 42 bokstaver til disposisjon. For hver runde skal programmet trekke fra antall bokstaver i det adjektivet som ble brukt.\n",
    "\n",
    "Løkka skal fortsette så lenge det fortsatt er bokstaver til disposisjon (dvs. dette tallet er større enn 0). \n",
    "\n",
    "**Eksempel på kjøring:**\n",
    "\n",
    "```python\n",
    "Du har 42 bokstaver til disposisjon.\n",
    "Beskriv deg selv med et adjektiv? snill\n",
    "Hah, du snill!? Jeg er mye snillere!\n",
    "Du har 37 bokstaver til disposisjon.\n",
    "Beskriv deg selv med et adjektiv? desperat\n",
    "Hah, du desperat!? Jeg er mye desperatere!\n",
    "Du har 29 bokstaver til disposisjon.\n",
    "Beskriv deg selv med et adjektiv? kjempetørst\n",
    "Hah, du kjempetørst!? Jeg er mye kjempetørstere!\n",
    "Du har 18 bokstaver til disposisjon.\n",
    "Beskriv deg selv med et adjektiv? megasupereffektiv\n",
    "Hah, du megasupereffektiv!? Jeg er mye megasupereffektivere!\n",
    "Du har 1 bokstaver til disposisjon.\n",
    "Beskriv deg selv med et adjektiv? o\n",
    "Hah, du o!? Jeg er mye oere!\n",
    "Takk for nå!\n",
    ">>>\n",
    "```\n",
    "\n",
    "I siste linje, hvor det bare er 1 bokstav til disposisjon, er brukeren lojal her og skrive bare en bokstav - men du behøver ikke lage programmet slik at det sikrer dette... det er ok om brukeren skriver et lenger ord den siste gangen, så lenge brukeren ikke får lov til å skrive nye ord når antall bokstaver til disposisjon er blitt <= 0."
   ]
  },
  {
   "cell_type": "markdown",
   "metadata": {
    "deletable": false,
    "editable": false,
    "nbgrader": {
     "cell_type": "markdown",
     "checksum": "5edd12e73b65cb62aaa9bd7e030c7cc1",
     "grade": false,
     "grade_id": "cell-65e3fa67a950aebe",
     "locked": true,
     "schema_version": 3,
     "solution": false,
     "task": false
    }
   },
   "source": [
    "#### Hint\n",
    "\n",
    "I stedet for tellevariabelen i som starter på 0, og med betingelse < 3 i while-setninga, må du nå ha en variabel som starter på 42, og hvor lengden av hvert nye ord trekkes fra i løkka. Lengde kan finnes med funksjonen len(), dvs. len(adj) gir lengden til strengen adj. Testen i while-setninga må også tilpasses til det vi nå er ute etter, nemlig å fortsette så lenge det fremdeles er bokstaver til disposisjon."
   ]
  },
  {
   "cell_type": "markdown",
   "metadata": {
    "deletable": false,
    "editable": false,
    "nbgrader": {
     "cell_type": "markdown",
     "checksum": "72ae3dbf32b5a214d08b97d4bce7eb11",
     "grade": false,
     "grade_id": "cell-a6659a50da8ef633",
     "locked": true,
     "schema_version": 3,
     "solution": false,
     "task": false
    }
   },
   "source": [
    "### Intro til for-løkke og range()\n",
    "\n",
    "Som forklart over, er for-løkker egnet for tilfeller hvor antall repetisjoner er kjent. I oppgave (a) startet vi med kode:"
   ]
  },
  {
   "cell_type": "code",
   "execution_count": null,
   "metadata": {},
   "outputs": [],
   "source": [
    "for i in range(3):\n",
    "    adj = input(\"Beskriv deg selv med et adjektiv? \")\n",
    "    print(\"Hah, du\", adj + \"!? Jeg er mye\", adj + \"ere!\")\n",
    "print(\"Takk for nå!\")"
   ]
  },
  {
   "cell_type": "markdown",
   "metadata": {
    "deletable": false,
    "editable": false,
    "nbgrader": {
     "cell_type": "markdown",
     "checksum": "abfe20bc9ee6120e5099207160010de8",
     "grade": false,
     "grade_id": "cell-43baa3f26af9ee9c",
     "locked": true,
     "schema_version": 3,
     "solution": false,
     "task": false
    }
   },
   "source": [
    "som repeterer 3 ganger. Du byttet deretter ut tallet 3 med en variabel for å kunne repetere et annet (men fortsatt kjent) antall ganger.\n",
    "\n",
    "I oppgave (a) ble løkkevariabelen i ikke brukt til noe inni selve løkka, den fins kun i for-setningen. Poenget i denne løkka er bare å telle opp at den kjører 3 ganger, i har ingen mening utover det.\n",
    "\n",
    "I andre tilfeller hvor vi bruker for-løkker kan løkkevariabelen ha en større betydning. Det er da viktig å forstå ikke bare at f.eks. range(3) fører til 3 repetisjoner, men å vite eksakt hvilken tallsekvens en range() representerer.\n",
    "\n",
    "Generelt gjelder følgende:\n",
    "\n",
    "* Hvis vi gir inn bare **ett tall** til range(), tolkes dette som sluttverdien. Startverdien er default 0. Sluttverdien selv er **ikke** med i sekvensen; det er \"til\", ikke \"til og med\". Eksempel:\n",
    " * range(3) gir tallsekvensen 0, 1, 2. Løkka over kjører 3 ganger ved å ta først med i=0, så med i=1, så med i=2.\n",
    " * range(5) gir 0, 1, 2, 3, 4\n",
    " * range(0) gir en tom tallsekvens. Samme vil være tilfelle med negative tall; og en løkke for i in range(0): vil kjøre null ganger.\n",
    "* Hvis vi gir inn **to tall** til range(), tolkes dette som startverdi (fra og med) og sluttverdi (til, men ikke med). Eksempel:\n",
    " * range(1, 7) gir 1, 2, 3, 4, 5, 6\n",
    " * range(-3, 4) gir -3, -2, -1, 0, 1, 2, 3\n",
    " * range(4, 3) gir en tom  tallsekvens (fordi sluttverdi er mindre enn startverdi)\n",
    "* Hvis vi gir inn tre tall til range(), er de to første start og slutt som før, det tredje er stegverdien. Default stegverdi er +1, så vi trenger kun angi den hvis vi ønsker noe annet enn +1. Eksempel:\n",
    " * range(1, 10, 2) gir 1, 3, 5, 7, 9\n",
    " * range(3, 11, 4) gir 3, 7 (men ikke 11, fordi det bare er til sluttverdien, ikke til og med)\n",
    " * range(11, 3, -2) gir 11,  9,  7,  5 - det går altså an å bruke negative tall for stegverdi, da må startverdi være større enn sluttverdi for at løkka skal kjøre\n",
    "\n",
    "På basis av dette kan vi endre det lille programmet over til ett som bruker variabelen i også inne i løkka, f.eks. (**Kjør gjerne selv koden med ctrl + enter, og ta gjerne å endre på verdiene for å se hva som skjer**)"
   ]
  },
  {
   "cell_type": "code",
   "execution_count": null,
   "metadata": {},
   "outputs": [],
   "source": [
    "for i in range(7, 14, 3):\n",
    "    adj = input(\"Beskriv deg selv med et adjektiv? \")\n",
    "    print(\"Hah, du\", adj + \"!? Jeg er\", i, \"ganger\", adj + \"ere!\")\n",
    "print(\"Takk for nå!\")"
   ]
  },
  {
   "cell_type": "markdown",
   "metadata": {
    "deletable": false,
    "editable": false,
    "nbgrader": {
     "cell_type": "markdown",
     "checksum": "699fbde84159702ca2f2199154d36a20",
     "grade": false,
     "grade_id": "cell-7527c3396910075a",
     "locked": true,
     "schema_version": 3,
     "solution": false,
     "task": false
    }
   },
   "source": [
    "Her vil  koden fortsatt kjøre 3 ganger fordi den resulterende tallsekvensen har 3 elementer, men bruken av i inni løkka gjør programmet mer og mer skrytende. (Bare range(3) ville ikke ha sett like bra ut her, da sier den \"0 ganger...\", \"1 ganger...\" som ikke er særlig imponerende)\n",
    "\n",
    "Et annet eksempel (kjør koden!):"
   ]
  },
  {
   "cell_type": "code",
   "execution_count": null,
   "metadata": {},
   "outputs": [],
   "source": [
    "tall = int(input(\"Hvilket tall vil du se gangetabellen for? \"))\n",
    "print(str(tall)+\"-gangen går slik:\")\n",
    "  \n",
    "for i in range(1, 11):\n",
    "    print(i * tall, end = \"  \")\n",
    "  \n",
    "print(\"Takk for nå!\")"
   ]
  },
  {
   "cell_type": "markdown",
   "metadata": {
    "deletable": false,
    "editable": false,
    "nbgrader": {
     "cell_type": "markdown",
     "checksum": "98110b1b864f861a7231d5e54812c671",
     "grade": false,
     "grade_id": "cell-6f7f0a60cc24f5c6",
     "locked": true,
     "schema_version": 3,
     "solution": false,
     "task": false
    }
   },
   "source": [
    "Merk igjen at sluttverdien er til, men ikke med, så vi må gi 11 som sluttverdi i range() for at den skal få med 70 i resultatet, dersom vi vil se hele 7-gangen.\n",
    "\n",
    "end = \"  \" i print-setninga gjør at vi ikke får linjeskift mellom hvert tall men i stedet får dem etter hverandre med blanke mellom.\n",
    "\n",
    " \n",
    "\n",
    "Problemet kunne alternativt ha vært løst ved å bruke tallet det skal ganges med som stegverdi. Ulempen er at range-uttrykket blir litt mer komplisert, men samtidig slipper vi nå unna med en enkelt multiplikasjon utenfor løkka i stedet for å multiplisere i hver runde av løkka:"
   ]
  },
  {
   "cell_type": "code",
   "execution_count": null,
   "metadata": {},
   "outputs": [],
   "source": [
    "tall = int(input(\"Hvilket tall vil du se gangetabellen for? \"))\n",
    "print(str(tall)+\"-gangen går slik:\")\n",
    " \n",
    "for i in range(tall, tall * 10 + 1, tall):\n",
    "    print(i, end = \"  \")\n",
    " \n",
    "print(\"Takk for nå!\")"
   ]
  },
  {
   "cell_type": "markdown",
   "metadata": {
    "deletable": false,
    "editable": false,
    "nbgrader": {
     "cell_type": "markdown",
     "checksum": "768991af089fbc4996b570d4527c839c",
     "grade": false,
     "grade_id": "cell-8689ecd5eac80d0f",
     "locked": true,
     "schema_version": 3,
     "solution": false,
     "task": false
    }
   },
   "source": [
    "Dette programmet vil gi eksakt samme utskrift som det foregående, bare oppnådd på en litt annen måte; for 7-gangen vil nå 7 være startverdi og stegverdi, og 71 sluttverdi for range()."
   ]
  },
  {
   "cell_type": "markdown",
   "metadata": {
    "deletable": false,
    "editable": false,
    "nbgrader": {
     "cell_type": "markdown",
     "checksum": "332e127cd9069d7a2bc1240809f06ca1",
     "grade": false,
     "grade_id": "cell-51bb60a4ad9743b8",
     "locked": true,
     "schema_version": 3,
     "solution": false,
     "task": false
    }
   },
   "source": [
    "## d)\n",
    "\n",
    " koden under er de to første for-løkkene ferdige og gir riktig utskrift i forhold til den forklarende teksten i print-setningene.\n",
    "\n",
    "De tre neste er ikke ferdige. Bytt ut `range(0)` i disse tre (også merket med ###) slik at for-løkkene gir tallsekvenser som passer med det som forklares i print-setningene.\n",
    "\n",
    "**Øvelse på range()**"
   ]
  },
  {
   "cell_type": "code",
   "execution_count": null,
   "metadata": {},
   "outputs": [],
   "source": [
    "print(\"Oddetallene fra 1 til 20:\")\n",
    "for number in range(1, 20, 2):\n",
    "    print(number, end = \" \")\n",
    "print()\n",
    "  \n",
    "print(\"Tallene i 3-gangen mellom 12 og 25:\")\n",
    "for number in range(12, 25, 3):\n",
    "    print(number, end = \" \")\n",
    "print()\n",
    "  \n",
    "print(\"Tallene i 5-gangen mellom 20 og 81:\")\n",
    "for number in range(0): ###\n",
    "    print(number, end = \" \")\n",
    "print()\n",
    "  \n",
    "print(\"Tallsekvensen 48, 56, 64, 72, 80\")\n",
    "for number in range(0): ###\n",
    "    print(number, end = \" \")\n",
    "print()\n",
    "  \n",
    "print(\"Telle baklengs fra 100 til 80, med intervall på -3, dvs. 100, 97, ...:\")\n",
    "for number in range(0): ###\n",
    "    print(number, end = \" \")\n",
    "print()"
   ]
  },
  {
   "cell_type": "markdown",
   "metadata": {
    "deletable": false,
    "editable": false,
    "nbgrader": {
     "cell_type": "markdown",
     "checksum": "fdce75bc637998f70f5ecb6071f75060",
     "grade": false,
     "grade_id": "cell-c2d85c2ef02bf783",
     "locked": true,
     "schema_version": 3,
     "solution": false,
     "task": false
    }
   },
   "source": [
    "## e)\n",
    "\n",
    "Lag et program som skriver ut tallene 1 til 5 ved bruk av en for-løkke.\n",
    "\n",
    "***Skriv koden din her:***"
   ]
  },
  {
   "cell_type": "code",
   "execution_count": null,
   "metadata": {},
   "outputs": [],
   "source": []
  },
  {
   "cell_type": "markdown",
   "metadata": {
    "deletable": false,
    "editable": false,
    "nbgrader": {
     "cell_type": "markdown",
     "checksum": "b7295f16f08e521cee4fbc1c646bbb64",
     "grade": false,
     "grade_id": "cell-9f88715af9f95517",
     "locked": true,
     "schema_version": 3,
     "solution": false,
     "task": false
    }
   },
   "source": [
    "## f) \n",
    "\n",
    "Lag et program som teller nedover fra 15 til 1 ved hjelp av en for-løkke. Skriv ut alle tallene.\n",
    "\n",
    "***Skriv koden din her:***"
   ]
  },
  {
   "cell_type": "code",
   "execution_count": null,
   "metadata": {},
   "outputs": [],
   "source": []
  },
  {
   "cell_type": "markdown",
   "metadata": {
    "deletable": false,
    "editable": false,
    "nbgrader": {
     "cell_type": "markdown",
     "checksum": "49eebbd52de8a42b998a2fda2b94de51",
     "grade": false,
     "grade_id": "cell-921c02ca4bd19501",
     "locked": true,
     "schema_version": 3,
     "solution": false,
     "task": false
    }
   },
   "source": [
    "## Evig while-løkke\n",
    "\n",
    "Hvis en while-løkke ikke blir stoppet kan den kjøre evig. Et eksempel er en løkke som starter ***while True*** ; da vil betingelsen alltid være sann uansett hva som skjer inni løkka. Løkka vist under vil printe Jeg elsker ITGK! et uendelig antall ganger.\n",
    "\n",
    "Det vil vanligvis gå greit å stoppe programmet likevel, enten ved å trykke Ctrl-C eller ved å lukke vinduet der koden kjører... men **lagre for sikkerhets skyld alle filer du jobber med før du eksperimenterer med å kjøre en evig løkke**.\n",
    "\n",
    "Eksempel på en evig løkke:"
   ]
  },
  {
   "cell_type": "code",
   "execution_count": null,
   "metadata": {},
   "outputs": [],
   "source": [
    "while True:\n",
    "    print(\"Jeg elsker ITGK!\")"
   ]
  },
  {
   "cell_type": "markdown",
   "metadata": {
    "deletable": false,
    "editable": false,
    "nbgrader": {
     "cell_type": "markdown",
     "checksum": "79379e29b9d02bb79e201028ef83bac4",
     "grade": false,
     "grade_id": "cell-1c909c2250905b62",
     "locked": true,
     "schema_version": 3,
     "solution": false,
     "task": false
    }
   },
   "source": [
    "## Se Løsning:\n",
    "<li><a href=\"Introduksjon%20til%20lokker%20-%20lf.ipynb\">Intro til løkker</a></li>"
   ]
  }
 ],
 "metadata": {
  "kernelspec": {
   "display_name": "Python 3",
   "language": "python",
   "name": "python3"
  },
  "language_info": {
   "codemirror_mode": {
    "name": "ipython",
    "version": 3
   },
   "file_extension": ".py",
   "mimetype": "text/x-python",
   "name": "python",
   "nbconvert_exporter": "python",
   "pygments_lexer": "ipython3",
   "version": "3.8.3"
  }
 },
 "nbformat": 4,
 "nbformat_minor": 4
}
