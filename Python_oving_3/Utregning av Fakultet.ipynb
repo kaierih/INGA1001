{
 "cells": [
  {
   "cell_type": "markdown",
   "metadata": {
    "deletable": false,
    "editable": false,
    "nbgrader": {
     "cell_type": "markdown",
     "checksum": "d219c85135adfc05c3f6b2d5646bf495",
     "grade": false,
     "grade_id": "cell-e5d33f5085c67bb3",
     "locked": true,
     "schema_version": 3,
     "solution": false,
     "task": false
    }
   },
   "source": [
    "<nav class=\"navbar navbar-default\">\n",
    "  <div class=\"container-fluid\">\n",
    "    <div class=\"navbar-header\">\n",
    "      <a class=\"navbar-brand\" href=\"_Python_oving_3.ipynb\">Øving 3</a>\n",
    "    </div>\n",
    "    <ul class=\"nav navbar-nav\">\n",
    "    <li ><a href=\"Intro%20til%20lokker.ipynb\">Intro til løkker</a></li>\n",
    "    <li ><a href=\"Mer%20om%20lokker.ipynb\">Mer om løkker</a></li>\n",
    "    <li ><a href=\"Nostede%20lokker.ipynb\">Intro til nøstede løkker</a></li>\n",
    "    <li class=\"active\"><a href=\"Utregning%20av%20Fakultet.ipynb\">Utregning av fakultet</a></li>\n",
    "    <li ><a href=\"Riskorn%20pa%20Sjakkbrett.ipynb\">Riskorn på Sjakkbrett</a></li>\n",
    "    <li ><a href=\"Fibonacci.ipynb\">Fibonacci</a></li>\n",
    "    <li ><a href=\"Tredjegradsligning.ipynb\">Tredjegradsligning med Newton's Metode</a></li>\n",
    "    </ul>\n",
    "  </div>\n",
    "</nav>\n",
    "\n",
    "\n",
    "# Utregning av fakultet\n",
    "\n",
    "**Læringsmål:**\n",
    "\n",
    "* Løkker, kumulative regneoperasjoner.\n",
    "\n",
    "**Mulige Poeng: 2**\n",
    "\n",
    "<br></br>\n",
    "\n",
    "En sentral matteoperasjon i Statistikk er *Fakultet*, som matematisk skrives med utropstegn $n!$, og utføres på *heltall*. Formelen for utregning av fakultet er som følger:\n",
    "$$n! = \\prod_{k=1}^{n} k = 1\\cdot2\\cdot3\\cdot4\\cdot\\ldots\\cdot n$$\n",
    "\n",
    "## Oppgave:\n",
    "\n",
    "Fullfør en funksjon som regner ut fakultet med bruk av for-løkke. Du skal _ikke_ ta i bruk `math` modulen i denne oppgaven."
   ]
  },
  {
   "cell_type": "code",
   "execution_count": null,
   "metadata": {
    "deletable": false,
    "nbgrader": {
     "cell_type": "code",
     "checksum": "81644ebc711dcf65bfdb7d128db87131",
     "grade": false,
     "grade_id": "cell-c714cdd9b766dad2",
     "locked": false,
     "schema_version": 3,
     "solution": true,
     "task": false
    }
   },
   "outputs": [],
   "source": [
    "def fakultet(n):\n",
    "    #-------------------------------------\n",
    "    # SKRIV DIN KODE HER:\n",
    "    #-------------------------------------\n",
    "    return n_fakultet"
   ]
  },
  {
   "cell_type": "markdown",
   "metadata": {
    "deletable": false,
    "editable": false,
    "nbgrader": {
     "cell_type": "markdown",
     "checksum": "39a3f6783154e44418b4066dbea2ddfc",
     "grade": false,
     "grade_id": "cell-b9797fe45327d6d0",
     "locked": true,
     "schema_version": 3,
     "solution": false,
     "task": false
    }
   },
   "source": [
    "__Test av utregning:__"
   ]
  },
  {
   "cell_type": "code",
   "execution_count": null,
   "metadata": {
    "deletable": false,
    "editable": false,
    "nbgrader": {
     "cell_type": "code",
     "checksum": "298881fd50b8d0d5d11e8ea4774a0b41",
     "grade": true,
     "grade_id": "cell-c44dbca2c20663ea",
     "locked": true,
     "points": 2,
     "schema_version": 3,
     "solution": false,
     "task": false
    }
   },
   "outputs": [],
   "source": [
    "n = 8\n",
    "n_fakultet = fakultet(n)\n",
    "\n",
    "# Print resultatet til output uten å ha mellomrom mellom argumentene.\n",
    "print(n,\"! = \",n_fakultet, sep=\"\") "
   ]
  },
  {
   "cell_type": "markdown",
   "metadata": {},
   "source": [
    "__Riktig utskrift:__\n",
    "\n",
    "`8! = 40320`"
   ]
  }
 ],
 "metadata": {
  "kernelspec": {
   "display_name": "Python 3",
   "language": "python",
   "name": "python3"
  },
  "language_info": {
   "codemirror_mode": {
    "name": "ipython",
    "version": 3
   },
   "file_extension": ".py",
   "mimetype": "text/x-python",
   "name": "python",
   "nbconvert_exporter": "python",
   "pygments_lexer": "ipython3",
   "version": "3.8.3"
  }
 },
 "nbformat": 4,
 "nbformat_minor": 4
}
